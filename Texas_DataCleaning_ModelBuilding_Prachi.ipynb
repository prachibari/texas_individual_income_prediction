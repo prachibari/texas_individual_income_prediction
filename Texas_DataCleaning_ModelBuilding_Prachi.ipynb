{
 "cells": [
  {
   "cell_type": "markdown",
   "metadata": {
    "collapsed": true
   },
   "source": [
    "## Texas Employment - ACS 2015\n",
    "The CSV file contains data from the 2015 American Community Survey. It is limited to Texas, and contains a subset of the total survey variables related to employment. Each row is a person."
   ]
  },
  {
   "cell_type": "code",
   "execution_count": 41,
   "metadata": {
    "collapsed": true
   },
   "outputs": [],
   "source": [
    "import pandas as pd\n",
    "import numpy as np\n",
    "\n",
    "df = pd.read_csv(\"Texas.csv\")"
   ]
  },
  {
   "cell_type": "markdown",
   "metadata": {},
   "source": [
    "## 1. Data Cleaning"
   ]
  },
  {
   "cell_type": "code",
   "execution_count": 42,
   "metadata": {
    "collapsed": false
   },
   "outputs": [
    {
     "data": {
      "text/plain": [
       "(259224, 21)"
      ]
     },
     "execution_count": 42,
     "metadata": {},
     "output_type": "execute_result"
    }
   ],
   "source": [
    "df.shape"
   ]
  },
  {
   "cell_type": "code",
   "execution_count": 43,
   "metadata": {
    "collapsed": false
   },
   "outputs": [
    {
     "data": {
      "text/plain": [
       "ID           int64\n",
       "ST           int64\n",
       "PUMA         int64\n",
       "JWMNP      float64\n",
       "SCHL       float64\n",
       "WAGP       float64\n",
       "WKHP       float64\n",
       "WKW        float64\n",
       "ESR        float64\n",
       "FOD1P      float64\n",
       "NAICSP      object\n",
       "JWAP       float64\n",
       "JWDP       float64\n",
       "SOCP        object\n",
       "POWPUMA    float64\n",
       "POWSP      float64\n",
       "NWAB       float64\n",
       "NWAV       float64\n",
       "NWLA       float64\n",
       "NWLK       float64\n",
       "AGEP         int64\n",
       "dtype: object"
      ]
     },
     "execution_count": 43,
     "metadata": {},
     "output_type": "execute_result"
    }
   ],
   "source": [
    "df.dtypes"
   ]
  },
  {
   "cell_type": "code",
   "execution_count": 44,
   "metadata": {
    "collapsed": false
   },
   "outputs": [
    {
     "name": "stderr",
     "output_type": "stream",
     "text": [
      "C:\\Program Files\\Anaconda3\\lib\\site-packages\\numpy\\lib\\function_base.py:3652: RuntimeWarning: Invalid value encountered in percentile\n",
      "  interpolation=interpolation)\n"
     ]
    },
    {
     "data": {
      "text/html": [
       "<div>\n",
       "<table border=\"1\" class=\"dataframe\">\n",
       "  <thead>\n",
       "    <tr style=\"text-align: right;\">\n",
       "      <th></th>\n",
       "      <th>ID</th>\n",
       "      <th>ST</th>\n",
       "      <th>PUMA</th>\n",
       "      <th>JWMNP</th>\n",
       "      <th>SCHL</th>\n",
       "      <th>WAGP</th>\n",
       "      <th>WKHP</th>\n",
       "      <th>WKW</th>\n",
       "      <th>ESR</th>\n",
       "      <th>FOD1P</th>\n",
       "      <th>JWAP</th>\n",
       "      <th>JWDP</th>\n",
       "      <th>POWPUMA</th>\n",
       "      <th>POWSP</th>\n",
       "      <th>NWAB</th>\n",
       "      <th>NWAV</th>\n",
       "      <th>NWLA</th>\n",
       "      <th>NWLK</th>\n",
       "      <th>AGEP</th>\n",
       "    </tr>\n",
       "  </thead>\n",
       "  <tbody>\n",
       "    <tr>\n",
       "      <th>count</th>\n",
       "      <td>259224.000000</td>\n",
       "      <td>259224.0</td>\n",
       "      <td>259224.000000</td>\n",
       "      <td>109500.000000</td>\n",
       "      <td>250232.000000</td>\n",
       "      <td>208917.000000</td>\n",
       "      <td>129932.000000</td>\n",
       "      <td>129932.000000</td>\n",
       "      <td>205266.000000</td>\n",
       "      <td>53917.000000</td>\n",
       "      <td>109500.000000</td>\n",
       "      <td>109500.000000</td>\n",
       "      <td>114898.000000</td>\n",
       "      <td>114898.000000</td>\n",
       "      <td>205266.000000</td>\n",
       "      <td>205266.000000</td>\n",
       "      <td>205266.000000</td>\n",
       "      <td>205266.000000</td>\n",
       "      <td>259224.000000</td>\n",
       "    </tr>\n",
       "    <tr>\n",
       "      <th>mean</th>\n",
       "      <td>129612.500000</td>\n",
       "      <td>48.0</td>\n",
       "      <td>3680.988975</td>\n",
       "      <td>26.227854</td>\n",
       "      <td>15.345056</td>\n",
       "      <td>28058.387857</td>\n",
       "      <td>39.670474</td>\n",
       "      <td>1.839023</td>\n",
       "      <td>3.080929</td>\n",
       "      <td>4287.323794</td>\n",
       "      <td>101.523059</td>\n",
       "      <td>53.121233</td>\n",
       "      <td>3659.174120</td>\n",
       "      <td>48.110054</td>\n",
       "      <td>2.594375</td>\n",
       "      <td>4.737083</td>\n",
       "      <td>2.581801</td>\n",
       "      <td>2.568940</td>\n",
       "      <td>38.938578</td>\n",
       "    </tr>\n",
       "    <tr>\n",
       "      <th>std</th>\n",
       "      <td>74831.667428</td>\n",
       "      <td>0.0</td>\n",
       "      <td>1781.547603</td>\n",
       "      <td>22.971057</td>\n",
       "      <td>5.933604</td>\n",
       "      <td>52571.880706</td>\n",
       "      <td>13.257255</td>\n",
       "      <td>1.599018</td>\n",
       "      <td>2.413022</td>\n",
       "      <td>1756.026684</td>\n",
       "      <td>40.762345</td>\n",
       "      <td>28.046385</td>\n",
       "      <td>1858.342203</td>\n",
       "      <td>9.955156</td>\n",
       "      <td>0.514133</td>\n",
       "      <td>0.922556</td>\n",
       "      <td>0.508228</td>\n",
       "      <td>0.564185</td>\n",
       "      <td>23.319435</td>\n",
       "    </tr>\n",
       "    <tr>\n",
       "      <th>min</th>\n",
       "      <td>1.000000</td>\n",
       "      <td>48.0</td>\n",
       "      <td>100.000000</td>\n",
       "      <td>1.000000</td>\n",
       "      <td>1.000000</td>\n",
       "      <td>0.000000</td>\n",
       "      <td>1.000000</td>\n",
       "      <td>1.000000</td>\n",
       "      <td>1.000000</td>\n",
       "      <td>1100.000000</td>\n",
       "      <td>1.000000</td>\n",
       "      <td>1.000000</td>\n",
       "      <td>1.000000</td>\n",
       "      <td>1.000000</td>\n",
       "      <td>1.000000</td>\n",
       "      <td>1.000000</td>\n",
       "      <td>1.000000</td>\n",
       "      <td>1.000000</td>\n",
       "      <td>0.000000</td>\n",
       "    </tr>\n",
       "    <tr>\n",
       "      <th>25%</th>\n",
       "      <td>64806.750000</td>\n",
       "      <td>48.0</td>\n",
       "      <td>2309.000000</td>\n",
       "      <td>NaN</td>\n",
       "      <td>NaN</td>\n",
       "      <td>NaN</td>\n",
       "      <td>NaN</td>\n",
       "      <td>NaN</td>\n",
       "      <td>NaN</td>\n",
       "      <td>NaN</td>\n",
       "      <td>NaN</td>\n",
       "      <td>NaN</td>\n",
       "      <td>NaN</td>\n",
       "      <td>NaN</td>\n",
       "      <td>NaN</td>\n",
       "      <td>NaN</td>\n",
       "      <td>NaN</td>\n",
       "      <td>NaN</td>\n",
       "      <td>19.000000</td>\n",
       "    </tr>\n",
       "    <tr>\n",
       "      <th>50%</th>\n",
       "      <td>129612.500000</td>\n",
       "      <td>48.0</td>\n",
       "      <td>3700.000000</td>\n",
       "      <td>NaN</td>\n",
       "      <td>NaN</td>\n",
       "      <td>NaN</td>\n",
       "      <td>NaN</td>\n",
       "      <td>NaN</td>\n",
       "      <td>NaN</td>\n",
       "      <td>NaN</td>\n",
       "      <td>NaN</td>\n",
       "      <td>NaN</td>\n",
       "      <td>NaN</td>\n",
       "      <td>NaN</td>\n",
       "      <td>NaN</td>\n",
       "      <td>NaN</td>\n",
       "      <td>NaN</td>\n",
       "      <td>NaN</td>\n",
       "      <td>39.000000</td>\n",
       "    </tr>\n",
       "    <tr>\n",
       "      <th>75%</th>\n",
       "      <td>194418.250000</td>\n",
       "      <td>48.0</td>\n",
       "      <td>5100.000000</td>\n",
       "      <td>NaN</td>\n",
       "      <td>NaN</td>\n",
       "      <td>NaN</td>\n",
       "      <td>NaN</td>\n",
       "      <td>NaN</td>\n",
       "      <td>NaN</td>\n",
       "      <td>NaN</td>\n",
       "      <td>NaN</td>\n",
       "      <td>NaN</td>\n",
       "      <td>NaN</td>\n",
       "      <td>NaN</td>\n",
       "      <td>NaN</td>\n",
       "      <td>NaN</td>\n",
       "      <td>NaN</td>\n",
       "      <td>NaN</td>\n",
       "      <td>58.000000</td>\n",
       "    </tr>\n",
       "    <tr>\n",
       "      <th>max</th>\n",
       "      <td>259224.000000</td>\n",
       "      <td>48.0</td>\n",
       "      <td>6900.000000</td>\n",
       "      <td>159.000000</td>\n",
       "      <td>24.000000</td>\n",
       "      <td>451000.000000</td>\n",
       "      <td>99.000000</td>\n",
       "      <td>6.000000</td>\n",
       "      <td>6.000000</td>\n",
       "      <td>6403.000000</td>\n",
       "      <td>285.000000</td>\n",
       "      <td>150.000000</td>\n",
       "      <td>59300.000000</td>\n",
       "      <td>555.000000</td>\n",
       "      <td>3.000000</td>\n",
       "      <td>5.000000</td>\n",
       "      <td>3.000000</td>\n",
       "      <td>3.000000</td>\n",
       "      <td>92.000000</td>\n",
       "    </tr>\n",
       "  </tbody>\n",
       "</table>\n",
       "</div>"
      ],
      "text/plain": [
       "                  ID        ST           PUMA          JWMNP           SCHL  \\\n",
       "count  259224.000000  259224.0  259224.000000  109500.000000  250232.000000   \n",
       "mean   129612.500000      48.0    3680.988975      26.227854      15.345056   \n",
       "std     74831.667428       0.0    1781.547603      22.971057       5.933604   \n",
       "min         1.000000      48.0     100.000000       1.000000       1.000000   \n",
       "25%     64806.750000      48.0    2309.000000            NaN            NaN   \n",
       "50%    129612.500000      48.0    3700.000000            NaN            NaN   \n",
       "75%    194418.250000      48.0    5100.000000            NaN            NaN   \n",
       "max    259224.000000      48.0    6900.000000     159.000000      24.000000   \n",
       "\n",
       "                WAGP           WKHP            WKW            ESR  \\\n",
       "count  208917.000000  129932.000000  129932.000000  205266.000000   \n",
       "mean    28058.387857      39.670474       1.839023       3.080929   \n",
       "std     52571.880706      13.257255       1.599018       2.413022   \n",
       "min         0.000000       1.000000       1.000000       1.000000   \n",
       "25%              NaN            NaN            NaN            NaN   \n",
       "50%              NaN            NaN            NaN            NaN   \n",
       "75%              NaN            NaN            NaN            NaN   \n",
       "max    451000.000000      99.000000       6.000000       6.000000   \n",
       "\n",
       "              FOD1P           JWAP           JWDP        POWPUMA  \\\n",
       "count  53917.000000  109500.000000  109500.000000  114898.000000   \n",
       "mean    4287.323794     101.523059      53.121233    3659.174120   \n",
       "std     1756.026684      40.762345      28.046385    1858.342203   \n",
       "min     1100.000000       1.000000       1.000000       1.000000   \n",
       "25%             NaN            NaN            NaN            NaN   \n",
       "50%             NaN            NaN            NaN            NaN   \n",
       "75%             NaN            NaN            NaN            NaN   \n",
       "max     6403.000000     285.000000     150.000000   59300.000000   \n",
       "\n",
       "               POWSP           NWAB           NWAV           NWLA  \\\n",
       "count  114898.000000  205266.000000  205266.000000  205266.000000   \n",
       "mean       48.110054       2.594375       4.737083       2.581801   \n",
       "std         9.955156       0.514133       0.922556       0.508228   \n",
       "min         1.000000       1.000000       1.000000       1.000000   \n",
       "25%              NaN            NaN            NaN            NaN   \n",
       "50%              NaN            NaN            NaN            NaN   \n",
       "75%              NaN            NaN            NaN            NaN   \n",
       "max       555.000000       3.000000       5.000000       3.000000   \n",
       "\n",
       "                NWLK           AGEP  \n",
       "count  205266.000000  259224.000000  \n",
       "mean        2.568940      38.938578  \n",
       "std         0.564185      23.319435  \n",
       "min         1.000000       0.000000  \n",
       "25%              NaN      19.000000  \n",
       "50%              NaN      39.000000  \n",
       "75%              NaN      58.000000  \n",
       "max         3.000000      92.000000  "
      ]
     },
     "execution_count": 44,
     "metadata": {},
     "output_type": "execute_result"
    }
   ],
   "source": [
    "df.describe()"
   ]
  },
  {
   "cell_type": "markdown",
   "metadata": {},
   "source": [
    "### Missing Value Imputation"
   ]
  },
  {
   "cell_type": "code",
   "execution_count": 45,
   "metadata": {
    "collapsed": false
   },
   "outputs": [
    {
     "data": {
      "text/plain": [
       "ID              0\n",
       "ST              0\n",
       "PUMA            0\n",
       "JWMNP      149724\n",
       "SCHL         8992\n",
       "WAGP        50307\n",
       "WKHP       129292\n",
       "WKW        129292\n",
       "ESR         53958\n",
       "FOD1P      205307\n",
       "NAICSP     110875\n",
       "JWAP       149724\n",
       "JWDP       149724\n",
       "SOCP       110875\n",
       "POWPUMA    144326\n",
       "POWSP      144326\n",
       "NWAB        53958\n",
       "NWAV        53958\n",
       "NWLA        53958\n",
       "NWLK        53958\n",
       "AGEP            0\n",
       "dtype: int64"
      ]
     },
     "execution_count": 45,
     "metadata": {},
     "output_type": "execute_result"
    }
   ],
   "source": [
    "df.isnull().sum()"
   ]
  },
  {
   "cell_type": "code",
   "execution_count": 46,
   "metadata": {
    "collapsed": false
   },
   "outputs": [
    {
     "data": {
      "text/plain": [
       "48    259224\n",
       "Name: ST, dtype: int64"
      ]
     },
     "execution_count": 46,
     "metadata": {},
     "output_type": "execute_result"
    }
   ],
   "source": [
    "#1. ST\n",
    "df.ST.value_counts()"
   ]
  },
  {
   "cell_type": "code",
   "execution_count": 47,
   "metadata": {
    "collapsed": true
   },
   "outputs": [],
   "source": [
    "#2. PUMA - Public use microdata area code (PUMA) based on 2010 Census definition\n",
    "# No imputation needed"
   ]
  },
  {
   "cell_type": "code",
   "execution_count": 48,
   "metadata": {
    "collapsed": false
   },
   "outputs": [
    {
     "data": {
      "text/plain": [
       "100     3145\n",
       "2600    3120\n",
       "3700    2941\n",
       "800     2773\n",
       "600     2494\n",
       "3400    2258\n",
       "1000    2257\n",
       "400     2235\n",
       "5500    2115\n",
       "3602    2036\n",
       "3900    2020\n",
       "900     1945\n",
       "502     1822\n",
       "3601    1765\n",
       "1800    1762\n",
       "1906    1749\n",
       "5000    1742\n",
       "2003    1733\n",
       "4701    1716\n",
       "2101    1695\n",
       "3802    1692\n",
       "5100    1662\n",
       "2102    1659\n",
       "5400    1628\n",
       "2800    1626\n",
       "4000    1616\n",
       "3502    1605\n",
       "5306    1595\n",
       "2006    1592\n",
       "5700    1590\n",
       "        ... \n",
       "4618     891\n",
       "4637     889\n",
       "2304     888\n",
       "5908     886\n",
       "4901     884\n",
       "4623     864\n",
       "6807     863\n",
       "2301     852\n",
       "2506     851\n",
       "6803     845\n",
       "4617     844\n",
       "4903     840\n",
       "4622     837\n",
       "4627     830\n",
       "2511     820\n",
       "2317     815\n",
       "4625     800\n",
       "6806     798\n",
       "4619     788\n",
       "4638     775\n",
       "4503     775\n",
       "4904     760\n",
       "6802     758\n",
       "4611     748\n",
       "2504     701\n",
       "6804     672\n",
       "4504     671\n",
       "4634     653\n",
       "4801     602\n",
       "4633     558\n",
       "Name: PUMA, dtype: int64"
      ]
     },
     "execution_count": 48,
     "metadata": {},
     "output_type": "execute_result"
    }
   ],
   "source": [
    "df.PUMA.value_counts()"
   ]
  },
  {
   "cell_type": "code",
   "execution_count": 49,
   "metadata": {
    "collapsed": true
   },
   "outputs": [],
   "source": [
    "#3. JWMNP - Travel time to work - minutes to get to work"
   ]
  },
  {
   "cell_type": "code",
   "execution_count": 50,
   "metadata": {
    "collapsed": false
   },
   "outputs": [
    {
     "data": {
      "text/plain": [
       "0"
      ]
     },
     "execution_count": 50,
     "metadata": {},
     "output_type": "execute_result"
    }
   ],
   "source": [
    "# Imputing JWNMP N/A with 0 as it indicates not a worker or worker who worked at home.\n",
    "df['JWMNP'].fillna(0,inplace=True)\n",
    "df.JWMNP.isnull().sum()"
   ]
  },
  {
   "cell_type": "code",
   "execution_count": 51,
   "metadata": {
    "collapsed": true
   },
   "outputs": [],
   "source": [
    "#4. SCHL - Educational attainment\n",
    "# N/A (less than 3 years old) - imputing with 0 indicating less than 3 years"
   ]
  },
  {
   "cell_type": "code",
   "execution_count": 52,
   "metadata": {
    "collapsed": false
   },
   "outputs": [
    {
     "data": {
      "text/plain": [
       "0"
      ]
     },
     "execution_count": 52,
     "metadata": {},
     "output_type": "execute_result"
    }
   ],
   "source": [
    "df['SCHL'].fillna(0,inplace=True)\n",
    "df.SCHL.isnull().sum()"
   ]
  },
  {
   "cell_type": "code",
   "execution_count": 53,
   "metadata": {
    "collapsed": true
   },
   "outputs": [],
   "source": [
    "#5. WAGP - Wages or salary income past 12 months - TARGET\n",
    "#N/A (less than 15 years old)\n",
    "#000000 .None\n",
    "#000001..999999 .$1 to 999999 (Rounded and top-coded)"
   ]
  },
  {
   "cell_type": "code",
   "execution_count": 54,
   "metadata": {
    "collapsed": false
   },
   "outputs": [
    {
     "data": {
      "text/plain": [
       "0"
      ]
     },
     "execution_count": 54,
     "metadata": {},
     "output_type": "execute_result"
    }
   ],
   "source": [
    "# removing rows with N/A\n",
    "df1 = df[~df['WAGP'].isnull()]\n",
    "df1.WAGP.isnull().sum()"
   ]
  },
  {
   "cell_type": "code",
   "execution_count": 55,
   "metadata": {
    "collapsed": false
   },
   "outputs": [
    {
     "data": {
      "text/plain": [
       "(208917, 21)"
      ]
     },
     "execution_count": 55,
     "metadata": {},
     "output_type": "execute_result"
    }
   ],
   "source": [
    "df1.shape"
   ]
  },
  {
   "cell_type": "code",
   "execution_count": 56,
   "metadata": {
    "collapsed": true
   },
   "outputs": [],
   "source": [
    "#6. WKHP - Usual hours worked per week past 12 months\n",
    "#N/A (less than 16 years old/did not work during the past 12 months)"
   ]
  },
  {
   "cell_type": "code",
   "execution_count": 57,
   "metadata": {
    "collapsed": false
   },
   "outputs": [
    {
     "name": "stderr",
     "output_type": "stream",
     "text": [
      "C:\\Program Files\\Anaconda3\\lib\\site-packages\\pandas\\core\\generic.py:3191: SettingWithCopyWarning: \n",
      "A value is trying to be set on a copy of a slice from a DataFrame\n",
      "\n",
      "See the caveats in the documentation: http://pandas.pydata.org/pandas-docs/stable/indexing.html#indexing-view-versus-copy\n",
      "  self._update_inplace(new_data)\n"
     ]
    },
    {
     "data": {
      "text/plain": [
       "0"
      ]
     },
     "execution_count": 57,
     "metadata": {},
     "output_type": "execute_result"
    }
   ],
   "source": [
    "df1['WKHP'].fillna(0,inplace=True)\n",
    "df1.WKHP.isnull().sum()"
   ]
  },
  {
   "cell_type": "code",
   "execution_count": 58,
   "metadata": {
    "collapsed": true
   },
   "outputs": [],
   "source": [
    "#7. WKW - Weeks worked during past 12 months\n",
    "#N/A (less than 16 years old/did not work during the past 12 months)"
   ]
  },
  {
   "cell_type": "code",
   "execution_count": 59,
   "metadata": {
    "collapsed": false
   },
   "outputs": [
    {
     "name": "stderr",
     "output_type": "stream",
     "text": [
      "C:\\Program Files\\Anaconda3\\lib\\site-packages\\pandas\\core\\generic.py:3191: SettingWithCopyWarning: \n",
      "A value is trying to be set on a copy of a slice from a DataFrame\n",
      "\n",
      "See the caveats in the documentation: http://pandas.pydata.org/pandas-docs/stable/indexing.html#indexing-view-versus-copy\n",
      "  self._update_inplace(new_data)\n"
     ]
    },
    {
     "data": {
      "text/plain": [
       "0"
      ]
     },
     "execution_count": 59,
     "metadata": {},
     "output_type": "execute_result"
    }
   ],
   "source": [
    "df1['WKW'].fillna(0,inplace=True)\n",
    "df1.WKW.isnull().sum()"
   ]
  },
  {
   "cell_type": "code",
   "execution_count": 60,
   "metadata": {
    "collapsed": true
   },
   "outputs": [],
   "source": [
    "#8. ESR -Employment status recode\n",
    "# N/A (less than 16 years old) - imputing with 0 code to indicate the same"
   ]
  },
  {
   "cell_type": "code",
   "execution_count": 61,
   "metadata": {
    "collapsed": false
   },
   "outputs": [
    {
     "name": "stderr",
     "output_type": "stream",
     "text": [
      "C:\\Program Files\\Anaconda3\\lib\\site-packages\\pandas\\core\\generic.py:3191: SettingWithCopyWarning: \n",
      "A value is trying to be set on a copy of a slice from a DataFrame\n",
      "\n",
      "See the caveats in the documentation: http://pandas.pydata.org/pandas-docs/stable/indexing.html#indexing-view-versus-copy\n",
      "  self._update_inplace(new_data)\n"
     ]
    },
    {
     "data": {
      "text/plain": [
       "0"
      ]
     },
     "execution_count": 61,
     "metadata": {},
     "output_type": "execute_result"
    }
   ],
   "source": [
    "df1['ESR'].fillna(0,inplace=True)\n",
    "df1.ESR.isnull().sum()"
   ]
  },
  {
   "cell_type": "code",
   "execution_count": 62,
   "metadata": {
    "collapsed": false
   },
   "outputs": [
    {
     "name": "stderr",
     "output_type": "stream",
     "text": [
      "C:\\Program Files\\Anaconda3\\lib\\site-packages\\pandas\\core\\generic.py:3191: SettingWithCopyWarning: \n",
      "A value is trying to be set on a copy of a slice from a DataFrame\n",
      "\n",
      "See the caveats in the documentation: http://pandas.pydata.org/pandas-docs/stable/indexing.html#indexing-view-versus-copy\n",
      "  self._update_inplace(new_data)\n"
     ]
    },
    {
     "data": {
      "text/plain": [
       "0"
      ]
     },
     "execution_count": 62,
     "metadata": {},
     "output_type": "execute_result"
    }
   ],
   "source": [
    "#9. FOD1P - Recoded field of degree - first entry\n",
    "# N/A (less than bachelor's degree)\n",
    "df1['FOD1P'].fillna(1000,inplace=True)\n",
    "df1.FOD1P.isnull().sum()"
   ]
  },
  {
   "cell_type": "code",
   "execution_count": 63,
   "metadata": {
    "collapsed": false
   },
   "outputs": [
    {
     "name": "stderr",
     "output_type": "stream",
     "text": [
      "C:\\Program Files\\Anaconda3\\lib\\site-packages\\pandas\\core\\generic.py:3191: SettingWithCopyWarning: \n",
      "A value is trying to be set on a copy of a slice from a DataFrame\n",
      "\n",
      "See the caveats in the documentation: http://pandas.pydata.org/pandas-docs/stable/indexing.html#indexing-view-versus-copy\n",
      "  self._update_inplace(new_data)\n"
     ]
    },
    {
     "data": {
      "text/plain": [
       "0"
      ]
     },
     "execution_count": 63,
     "metadata": {},
     "output_type": "execute_result"
    }
   ],
   "source": [
    "#10. NAICSP - Industry recode for 2013 and later based on 2012 NAICS codes  \n",
    "# N/A (less than 16 years old/NILF who last worked more than 5 years ago or never worked)\n",
    "\n",
    "df1['NAICSP'].fillna(100,inplace=True)\n",
    "df1.NAICSP.isnull().sum()"
   ]
  },
  {
   "cell_type": "code",
   "execution_count": 64,
   "metadata": {
    "collapsed": false
   },
   "outputs": [
    {
     "name": "stderr",
     "output_type": "stream",
     "text": [
      "C:\\Program Files\\Anaconda3\\lib\\site-packages\\pandas\\core\\generic.py:3191: SettingWithCopyWarning: \n",
      "A value is trying to be set on a copy of a slice from a DataFrame\n",
      "\n",
      "See the caveats in the documentation: http://pandas.pydata.org/pandas-docs/stable/indexing.html#indexing-view-versus-copy\n",
      "  self._update_inplace(new_data)\n"
     ]
    },
    {
     "data": {
      "text/plain": [
       "0"
      ]
     },
     "execution_count": 64,
     "metadata": {},
     "output_type": "execute_result"
    }
   ],
   "source": [
    "#11. JWAP - Time of arrival at work - hour and minute\n",
    "#N/A (not a worker; worker who worked at home)\n",
    "\n",
    "df1['JWAP'].fillna(0,inplace=True)\n",
    "df1.JWAP.isnull().sum()"
   ]
  },
  {
   "cell_type": "code",
   "execution_count": 65,
   "metadata": {
    "collapsed": false
   },
   "outputs": [
    {
     "name": "stderr",
     "output_type": "stream",
     "text": [
      "C:\\Program Files\\Anaconda3\\lib\\site-packages\\pandas\\core\\generic.py:3191: SettingWithCopyWarning: \n",
      "A value is trying to be set on a copy of a slice from a DataFrame\n",
      "\n",
      "See the caveats in the documentation: http://pandas.pydata.org/pandas-docs/stable/indexing.html#indexing-view-versus-copy\n",
      "  self._update_inplace(new_data)\n"
     ]
    },
    {
     "data": {
      "text/plain": [
       "0"
      ]
     },
     "execution_count": 65,
     "metadata": {},
     "output_type": "execute_result"
    }
   ],
   "source": [
    "#12. JWDP - Time of departure for work - hour and minute\n",
    "#N/A (not a worker; worker who worked at home)\n",
    "\n",
    "df1['JWDP'].fillna(0,inplace=True)\n",
    "df1.JWDP.isnull().sum()"
   ]
  },
  {
   "cell_type": "code",
   "execution_count": 66,
   "metadata": {
    "collapsed": false
   },
   "outputs": [
    {
     "name": "stderr",
     "output_type": "stream",
     "text": [
      "C:\\Program Files\\Anaconda3\\lib\\site-packages\\pandas\\core\\generic.py:3191: SettingWithCopyWarning: \n",
      "A value is trying to be set on a copy of a slice from a DataFrame\n",
      "\n",
      "See the caveats in the documentation: http://pandas.pydata.org/pandas-docs/stable/indexing.html#indexing-view-versus-copy\n",
      "  self._update_inplace(new_data)\n"
     ]
    },
    {
     "data": {
      "text/plain": [
       "0"
      ]
     },
     "execution_count": 66,
     "metadata": {},
     "output_type": "execute_result"
    }
   ],
   "source": [
    "#13. SOCP - SOC Occupation code for 2012 and later based on 2010 SOC codes \n",
    "#N/A (less than 16 years old/NILF who last worked more than 5 years ago or never worked)\n",
    "\n",
    "df1['SOCP'].fillna(0,inplace=True)\n",
    "df1.SOCP.isnull().sum()"
   ]
  },
  {
   "cell_type": "code",
   "execution_count": 67,
   "metadata": {
    "collapsed": false
   },
   "outputs": [
    {
     "name": "stderr",
     "output_type": "stream",
     "text": [
      "C:\\Program Files\\Anaconda3\\lib\\site-packages\\pandas\\core\\generic.py:3191: SettingWithCopyWarning: \n",
      "A value is trying to be set on a copy of a slice from a DataFrame\n",
      "\n",
      "See the caveats in the documentation: http://pandas.pydata.org/pandas-docs/stable/indexing.html#indexing-view-versus-copy\n",
      "  self._update_inplace(new_data)\n"
     ]
    },
    {
     "data": {
      "text/plain": [
       "0"
      ]
     },
     "execution_count": 67,
     "metadata": {},
     "output_type": "execute_result"
    }
   ],
   "source": [
    "#14. POWPUMA - Place of work PUMA based on 2010 Census definition\n",
    "# N/A (not a worker) - assigning code 0 to indicate the same.\n",
    "\n",
    "df1['POWPUMA'].fillna(0,inplace=True)\n",
    "df1.POWPUMA.isnull().sum()"
   ]
  },
  {
   "cell_type": "code",
   "execution_count": 68,
   "metadata": {
    "collapsed": false
   },
   "outputs": [
    {
     "name": "stderr",
     "output_type": "stream",
     "text": [
      "C:\\Program Files\\Anaconda3\\lib\\site-packages\\pandas\\core\\generic.py:3191: SettingWithCopyWarning: \n",
      "A value is trying to be set on a copy of a slice from a DataFrame\n",
      "\n",
      "See the caveats in the documentation: http://pandas.pydata.org/pandas-docs/stable/indexing.html#indexing-view-versus-copy\n",
      "  self._update_inplace(new_data)\n"
     ]
    },
    {
     "data": {
      "text/plain": [
       "0"
      ]
     },
     "execution_count": 68,
     "metadata": {},
     "output_type": "execute_result"
    }
   ],
   "source": [
    "#15. POWSP - Place of work - State or foreign country recode  \n",
    "# N/A (not a worker)\n",
    "\n",
    "df1['POWSP'].fillna(0,inplace=True)\n",
    "df1.POWSP.isnull().sum()"
   ]
  },
  {
   "cell_type": "code",
   "execution_count": 69,
   "metadata": {
    "collapsed": false
   },
   "outputs": [
    {
     "data": {
      "text/plain": [
       "ID            0\n",
       "ST            0\n",
       "PUMA          0\n",
       "JWMNP         0\n",
       "SCHL          0\n",
       "WAGP          0\n",
       "WKHP          0\n",
       "WKW           0\n",
       "ESR           0\n",
       "FOD1P         0\n",
       "NAICSP        0\n",
       "JWAP          0\n",
       "JWDP          0\n",
       "SOCP          0\n",
       "POWPUMA       0\n",
       "POWSP         0\n",
       "NWAB       3651\n",
       "NWAV       3651\n",
       "NWLA       3651\n",
       "NWLK       3651\n",
       "AGEP          0\n",
       "dtype: int64"
      ]
     },
     "execution_count": 69,
     "metadata": {},
     "output_type": "execute_result"
    }
   ],
   "source": [
    "#16. NWAB , NWAV, NWLA, NWLK\n",
    "#N/A (less than 16 years old/at work/on layoff) - imputing with code 0 to indicate the same.\n",
    "\n",
    "df1.isnull().sum()"
   ]
  },
  {
   "cell_type": "code",
   "execution_count": 70,
   "metadata": {
    "collapsed": false
   },
   "outputs": [
    {
     "name": "stderr",
     "output_type": "stream",
     "text": [
      "C:\\Program Files\\Anaconda3\\lib\\site-packages\\pandas\\core\\frame.py:2762: SettingWithCopyWarning: \n",
      "A value is trying to be set on a copy of a slice from a DataFrame\n",
      "\n",
      "See the caveats in the documentation: http://pandas.pydata.org/pandas-docs/stable/indexing.html#indexing-view-versus-copy\n",
      "  downcast=downcast, **kwargs)\n"
     ]
    },
    {
     "data": {
      "text/plain": [
       "ID         0\n",
       "ST         0\n",
       "PUMA       0\n",
       "JWMNP      0\n",
       "SCHL       0\n",
       "WAGP       0\n",
       "WKHP       0\n",
       "WKW        0\n",
       "ESR        0\n",
       "FOD1P      0\n",
       "NAICSP     0\n",
       "JWAP       0\n",
       "JWDP       0\n",
       "SOCP       0\n",
       "POWPUMA    0\n",
       "POWSP      0\n",
       "NWAB       0\n",
       "NWAV       0\n",
       "NWLA       0\n",
       "NWLK       0\n",
       "AGEP       0\n",
       "dtype: int64"
      ]
     },
     "execution_count": 70,
     "metadata": {},
     "output_type": "execute_result"
    }
   ],
   "source": [
    "df1.fillna(0,inplace=True)\n",
    "df1.isnull().sum()"
   ]
  },
  {
   "cell_type": "code",
   "execution_count": null,
   "metadata": {
    "collapsed": true
   },
   "outputs": [],
   "source": []
  },
  {
   "cell_type": "code",
   "execution_count": null,
   "metadata": {
    "collapsed": true
   },
   "outputs": [],
   "source": []
  },
  {
   "cell_type": "markdown",
   "metadata": {},
   "source": [
    "## 2. Feature Engineering"
   ]
  },
  {
   "cell_type": "markdown",
   "metadata": {},
   "source": [
    "##### 1. SCHL - Educational attainment\n",
    "\n",
    "* Reducing the number of levels in this column.\n",
    "* Creating new column SCHL_Cat\n",
    "\n",
    "           N/A (less than 3 years old)\n",
    "           01 .No schooling completed\n",
    "           02 .Nursery school, preschool   \n",
    "           03 .Kindergarten\n",
    "           04 .Grade 1\n",
    "           05 .Grade 2\n",
    "           06 .Grade 3                   \n",
    "           07 .Grade 4\n",
    "           08 .Grade 5\n",
    "           09 .Grade 6\n",
    "           10 .Grade 7                   \n",
    "           11 .Grade 8  \n",
    "           12 .Grade 9\n",
    "           13 .Grade 10\n",
    "           14 .Grade 11                   \n",
    "           15 .12th grade - no diploma   \n",
    "           16 .Regular high school diploma\n",
    "           17 .GED or alternative credential\n",
    "           18 .Some college, but less than 1 year\n",
    "           19 .1 or more years of college credit, no degree\n",
    "           20 .Associate's degree                           \n",
    "           21 .Bachelor's degree\n",
    "           22 .Master's degree\n",
    "           23 .Professional degree beyond a bachelor's degree\n",
    "           24 .Doctorate degree"
   ]
  },
  {
   "cell_type": "code",
   "execution_count": 71,
   "metadata": {
    "collapsed": false
   },
   "outputs": [
    {
     "data": {
      "text/plain": [
       "16.0    42376\n",
       "21.0    35376\n",
       "19.0    32482\n",
       "18.0    14985\n",
       "22.0    13435\n",
       "20.0    13055\n",
       "17.0     9348\n",
       "14.0     7741\n",
       "12.0     7461\n",
       "13.0     7199\n",
       "11.0     4078\n",
       "1.0      3988\n",
       "15.0     3876\n",
       "9.0      3757\n",
       "23.0     3014\n",
       "24.0     2092\n",
       "10.0     1438\n",
       "6.0       942\n",
       "8.0       931\n",
       "7.0       609\n",
       "5.0       455\n",
       "4.0       190\n",
       "3.0        55\n",
       "2.0        34\n",
       "Name: SCHL, dtype: int64"
      ]
     },
     "execution_count": 71,
     "metadata": {},
     "output_type": "execute_result"
    }
   ],
   "source": [
    "df1.SCHL.value_counts()"
   ]
  },
  {
   "cell_type": "code",
   "execution_count": 72,
   "metadata": {
    "collapsed": false
   },
   "outputs": [
    {
     "name": "stderr",
     "output_type": "stream",
     "text": [
      "C:\\Program Files\\Anaconda3\\lib\\site-packages\\ipykernel\\__main__.py:1: SettingWithCopyWarning: \n",
      "A value is trying to be set on a copy of a slice from a DataFrame.\n",
      "Try using .loc[row_indexer,col_indexer] = value instead\n",
      "\n",
      "See the caveats in the documentation: http://pandas.pydata.org/pandas-docs/stable/indexing.html#indexing-view-versus-copy\n",
      "  if __name__ == '__main__':\n"
     ]
    }
   ],
   "source": [
    "df1['SCH_Cat'] = ['PreSchool' if x == 2 or x==3 else 'School' if x>3 and x<14  else 'HighSchool' if x>13 and x<18  else 'Graduation' if x == 20 or x==21 else 'College' if x==18 and x==19  else 'PostGraduation' if  x>21  else 'NoSchooling' for x in df1['SCHL']]"
   ]
  },
  {
   "cell_type": "code",
   "execution_count": 73,
   "metadata": {
    "collapsed": false
   },
   "outputs": [
    {
     "data": {
      "text/plain": [
       "HighSchool        63341\n",
       "NoSchooling       51455\n",
       "Graduation        48431\n",
       "School            27060\n",
       "PostGraduation    18541\n",
       "PreSchool            89\n",
       "Name: SCH_Cat, dtype: int64"
      ]
     },
     "execution_count": 73,
     "metadata": {},
     "output_type": "execute_result"
    }
   ],
   "source": [
    "df1['SCH_Cat'].value_counts()"
   ]
  },
  {
   "cell_type": "code",
   "execution_count": null,
   "metadata": {
    "collapsed": true
   },
   "outputs": [],
   "source": []
  },
  {
   "cell_type": "markdown",
   "metadata": {},
   "source": [
    "##### 2. FOD1P - Recoded field of degree - first entry\n",
    "\n",
    "* Reducing the number of levels in this column. This column has huge number of levels. \n",
    "* Creating new column FOD1P_Cat"
   ]
  },
  {
   "cell_type": "code",
   "execution_count": 74,
   "metadata": {
    "collapsed": false
   },
   "outputs": [
    {
     "data": {
      "text/plain": [
       "array([6199., 1000., 3401., 6207., 2406., 6002., 1105., 6203., 6205.,\n",
       "       5200., 2399., 6200., 2300., 5501., 6107., 2408., 3600., 6106.,\n",
       "       2312., 6201., 2901., 3700., 4101., 6206., 2304., 5007., 5507.,\n",
       "       2405., 5301., 2400., 6109., 2102., 1303., 1501., 6004., 2503.,\n",
       "       6211., 2100., 5506., 3301., 2106., 4001., 2602., 2306., 5403.,\n",
       "       1401., 2417., 6402., 6000., 4801., 2414., 6209., 2311., 1103.,\n",
       "       3609., 6212., 6104., 6108., 2313., 2500., 1100., 4002., 3601.,\n",
       "       1904., 5002., 1902., 5500., 5004., 5003., 2419., 6105., 2301.,\n",
       "       5203., 5098., 6102., 4000., 2403., 5299., 5901., 1104., 5504.,\n",
       "       1102., 6299., 6001., 5005., 2601., 1901., 3201., 2502., 6103.,\n",
       "       2107., 5008., 2412., 2308., 6204., 2309., 2305., 2001., 2599.,\n",
       "       2401., 3611., 5404., 2504., 2404., 3501., 5601., 3603., 2499.,\n",
       "       2314., 2310., 2418., 6210., 6110., 3604., 3701., 3608., 2413.,\n",
       "       5202., 2407., 3606., 5701., 5502., 4901., 1302., 2411., 6007.,\n",
       "       3702., 3602., 1199., 1903., 2303., 1301., 5401., 4007., 1101.,\n",
       "       4006., 2307., 5402., 2603., 3202., 4005., 2201., 3302., 2105.,\n",
       "       3607., 2402., 6403., 5503., 5001., 3402., 2101., 6100., 5505.,\n",
       "       5201., 6003., 6005., 5205., 2416., 2501., 3699., 2409., 6006.,\n",
       "       5206., 2415., 5102., 5006., 2410., 3605., 1106., 3801., 6202.,\n",
       "       6099., 5000., 5599.])"
      ]
     },
     "execution_count": 74,
     "metadata": {},
     "output_type": "execute_result"
    }
   ],
   "source": [
    "df1.FOD1P.unique()"
   ]
  },
  {
   "cell_type": "code",
   "execution_count": 75,
   "metadata": {
    "collapsed": false
   },
   "outputs": [
    {
     "name": "stderr",
     "output_type": "stream",
     "text": [
      "C:\\Program Files\\Anaconda3\\lib\\site-packages\\ipykernel\\__main__.py:1: SettingWithCopyWarning: \n",
      "A value is trying to be set on a copy of a slice from a DataFrame.\n",
      "Try using .loc[row_indexer,col_indexer] = value instead\n",
      "\n",
      "See the caveats in the documentation: http://pandas.pydata.org/pandas-docs/stable/indexing.html#indexing-view-versus-copy\n",
      "  if __name__ == '__main__':\n"
     ]
    }
   ],
   "source": [
    "df1['FOD1P_Cat'] = ['UnderGrad' if x == 1000 else 'Grad_Or_Above' for x in df1['FOD1P']]"
   ]
  },
  {
   "cell_type": "code",
   "execution_count": 76,
   "metadata": {
    "collapsed": false
   },
   "outputs": [
    {
     "data": {
      "text/plain": [
       "UnderGrad        155000\n",
       "Grad_Or_Above     53917\n",
       "Name: FOD1P_Cat, dtype: int64"
      ]
     },
     "execution_count": 76,
     "metadata": {},
     "output_type": "execute_result"
    }
   ],
   "source": [
    "df1['FOD1P_Cat'].value_counts()"
   ]
  },
  {
   "cell_type": "markdown",
   "metadata": {
    "collapsed": true
   },
   "source": [
    "##### 3. NAICSP -NAICS Industry recode for 2013 and later based on 2012 NAICS codes  \n",
    "\n",
    "* Reducing the number of levels in this column. This column has huge number of levels. \n",
    "* Creating new column NAICSP_Cat\n",
    "* Can be split into industry type ie MFG or AGR or etc. Split based on - \n",
    "\n",
    "           111      .AGR-CROP PRODUCTION\n",
    "           112      .AGR-ANIMAL PRODUCTION AND AQUACULTURE\n",
    "           1133     .AGR-LOGGING\n",
    "           113M     .AGR-FORESTRY EXCEPT LOGGING\n",
    "           114      .AGR-FISHING, HUNTING, AND TRAPPING\n",
    "           115      .AGR-SUPPORT ACTIVITIES FOR AGRICULTURE AND FORESTRY\n",
    "           211      .EXT-OIL AND GAS EXTRACTION\n",
    "           2121     .EXT-COAL MINING\n",
    "           2122     .EXT-METAL ORE MINING\n",
    "           2123     .EXT-NONMETALLIC MINERAL MINING AND QUARRYING\n",
    "           213      .EXT-SUPPORT ACTIVITIES FOR MINING\n",
    "           2211P    .UTL-ELECTRIC POWER GENERATION, TRANSMISSION AND\n",
    "                    .DISTRIBUTION\n",
    "           2212P    .UTL-NATURAL GAS DISTRIBUTION\n",
    "           22132    .UTL-SEWAGE TREATMENT FACILITIES\n",
    "           2213M    .UTL-WATER, STEAM, AIR CONDITIONING, AND IRRIGATION\n",
    "                    .SYSTEMS\n",
    "           221MP    .UTL-ELECTRIC AND GAS, AND OTHER COMBINATIONS\n",
    "           22S      .UTL-NOT SPECIFIED UTILITIES\n",
    "           23       .CON-CONSTRUCTION, INCL CLEANING DURING AND IMM AFTER\n",
    "           3113     .MFG-SUGAR AND CONFECTIONERY PRODUCTS\n",
    "           3114     .MFG-FRUIT AND VEGETABLE PRESERVING AND SPECIALTY FOODS\n",
    "           3115     .MFG-DAIRY PRODUCTS\n",
    "           3116     .MFG-ANIMAL SLAUGHTERING AND PROCESSING\n",
    "           311811   .MFG-RETAIL BAKERIES\n",
    "           3118Z    .MFG-BAKERIES AND TORTILLA, EXCEPT RETAIL BAKERIES\n",
    "           311M1    .MFG-ANIMAL FOOD, GRAIN AND OILSEED MILLING\n",
    "           311M2    .MFG-SEAFOOD AND OTHER MISCELLANEOUS FOODS, N.E.C.\n",
    "           311S     .MFG-NOT SPECIFIED FOOD INDUSTRIES\n",
    "           3121     .MFG-BEVERAGE\n",
    "           3122     .MFG-TOBACCO"
   ]
  },
  {
   "cell_type": "code",
   "execution_count": 77,
   "metadata": {
    "collapsed": false
   },
   "outputs": [
    {
     "data": {
      "text/plain": [
       "100         60568\n",
       "6111        10782\n",
       "23          10515\n",
       "722Z         9093\n",
       "622          5607\n",
       "611M1        3472\n",
       "4451         2837\n",
       "213          2816\n",
       "92MP         2750\n",
       "45211        2662\n",
       "531          2572\n",
       "524          2502\n",
       "5415         2105\n",
       "484          2027\n",
       "6216         1982\n",
       "5413         1756\n",
       "52M1         1735\n",
       "5416         1675\n",
       "6244         1612\n",
       "6211         1550\n",
       "8131         1504\n",
       "5411         1454\n",
       "713Z         1400\n",
       "5617Z        1396\n",
       "6231         1317\n",
       "4411         1297\n",
       "8111Z        1293\n",
       "6214         1280\n",
       "5613         1275\n",
       "7211         1204\n",
       "            ...  \n",
       "3212           29\n",
       "81393          29\n",
       "114            28\n",
       "5122           27\n",
       "5191ZM         27\n",
       "22S            27\n",
       "33299M         26\n",
       "3162           26\n",
       "32621          25\n",
       "3322           25\n",
       "113M           22\n",
       "32711          22\n",
       "316M           21\n",
       "3352           20\n",
       "3253           19\n",
       "487            17\n",
       "3369           15\n",
       "928110P7       15\n",
       "928110P5       14\n",
       "454112         13\n",
       "311S           12\n",
       "3159            9\n",
       "53223           7\n",
       "2122            7\n",
       "31M             7\n",
       "3133            6\n",
       "31411           5\n",
       "3122            3\n",
       "33MS            2\n",
       "3131            2\n",
       "Name: NAICSP, dtype: int64"
      ]
     },
     "execution_count": 77,
     "metadata": {},
     "output_type": "execute_result"
    }
   ],
   "source": [
    "df1['NAICSP'].value_counts()"
   ]
  },
  {
   "cell_type": "code",
   "execution_count": 78,
   "metadata": {
    "collapsed": false
   },
   "outputs": [
    {
     "name": "stderr",
     "output_type": "stream",
     "text": [
      "C:\\Program Files\\Anaconda3\\lib\\site-packages\\ipykernel\\__main__.py:1: SettingWithCopyWarning: \n",
      "A value is trying to be set on a copy of a slice from a DataFrame.\n",
      "Try using .loc[row_indexer,col_indexer] = value instead\n",
      "\n",
      "See the caveats in the documentation: http://pandas.pydata.org/pandas-docs/stable/indexing.html#indexing-view-versus-copy\n",
      "  if __name__ == '__main__':\n"
     ]
    }
   ],
   "source": [
    "df1['NAICSP_Cat'] = df1.NAICSP.astype(str).str[:2]"
   ]
  },
  {
   "cell_type": "code",
   "execution_count": 79,
   "metadata": {
    "collapsed": false
   },
   "outputs": [
    {
     "data": {
      "text/plain": [
       "10    60568\n",
       "62    17384\n",
       "61    15088\n",
       "44    10828\n",
       "72    10698\n",
       "23    10515\n",
       "54     9848\n",
       "81     7576\n",
       "92     7332\n",
       "33     7090\n",
       "56     6620\n",
       "52     6452\n",
       "45     5755\n",
       "48     4890\n",
       "42     4154\n",
       "32     3680\n",
       "21     3658\n",
       "53     3025\n",
       "51     2649\n",
       "71     2483\n",
       "11     1991\n",
       "31     1691\n",
       "49     1636\n",
       "22     1308\n",
       "99     1090\n",
       "4M      416\n",
       "3M      313\n",
       "55      179\n",
       "Name: NAICSP_Cat, dtype: int64"
      ]
     },
     "execution_count": 79,
     "metadata": {},
     "output_type": "execute_result"
    }
   ],
   "source": [
    "df1['NAICSP_Cat'].value_counts()"
   ]
  },
  {
   "cell_type": "code",
   "execution_count": 80,
   "metadata": {
    "collapsed": false
   },
   "outputs": [
    {
     "name": "stderr",
     "output_type": "stream",
     "text": [
      "C:\\Program Files\\Anaconda3\\lib\\site-packages\\ipykernel\\__main__.py:1: SettingWithCopyWarning: \n",
      "A value is trying to be set on a copy of a slice from a DataFrame.\n",
      "Try using .loc[row_indexer,col_indexer] = value instead\n",
      "\n",
      "See the caveats in the documentation: http://pandas.pydata.org/pandas-docs/stable/indexing.html#indexing-view-versus-copy\n",
      "  if __name__ == '__main__':\n"
     ]
    }
   ],
   "source": [
    "df1['NAICSP_Cat'] = df1['NAICSP_Cat'].astype(str)"
   ]
  },
  {
   "cell_type": "code",
   "execution_count": 81,
   "metadata": {
    "collapsed": true
   },
   "outputs": [],
   "source": [
    "# Combining 31,32,33,3M since all belong to MFG\n",
    "#  Combining 44,45,4M since all are RET\n",
    "#  Combining 48,49 since they are all TRN\n",
    "#  Combining 52,53 since they are all FIN\n",
    "# Combining 54,55,56 since they are all PRF\n",
    "# Combining 71,72 since they are all ENT\n",
    "MFG = ['31','32','33','3M']\n",
    "RET = ['44','45','4M']\n",
    "TRN = [48,49]\n",
    "FIN = [52,53]\n",
    "PRF = [54,55,56]\n",
    "ENT = [71,72]"
   ]
  },
  {
   "cell_type": "code",
   "execution_count": 82,
   "metadata": {
    "collapsed": false
   },
   "outputs": [
    {
     "name": "stderr",
     "output_type": "stream",
     "text": [
      "C:\\Program Files\\Anaconda3\\lib\\site-packages\\ipykernel\\__main__.py:2: SettingWithCopyWarning: \n",
      "A value is trying to be set on a copy of a slice from a DataFrame.\n",
      "Try using .loc[row_indexer,col_indexer] = value instead\n",
      "\n",
      "See the caveats in the documentation: http://pandas.pydata.org/pandas-docs/stable/indexing.html#indexing-view-versus-copy\n",
      "  from ipykernel import kernelapp as app\n"
     ]
    },
    {
     "data": {
      "text/plain": [
       "10    60568\n",
       "62    17384\n",
       "44    16999\n",
       "54    16647\n",
       "61    15088\n",
       "71    13181\n",
       "31    12774\n",
       "23    10515\n",
       "52     9477\n",
       "81     7576\n",
       "92     7332\n",
       "48     6526\n",
       "42     4154\n",
       "21     3658\n",
       "51     2649\n",
       "11     1991\n",
       "22     1308\n",
       "99     1090\n",
       "Name: NAICSP_Cat, dtype: int64"
      ]
     },
     "execution_count": 82,
     "metadata": {},
     "output_type": "execute_result"
    }
   ],
   "source": [
    "replace_NAISCP_dict = {'32':'31','33':'31','3M':'31','45':'44','4M':'44','49':'48','53':'52','55':'54','56':'54','72':'71'}\n",
    "df1['NAICSP_Cat'] = df1['NAICSP_Cat'].replace(replace_NAISCP_dict)\n",
    "df1['NAICSP_Cat'].value_counts()"
   ]
  },
  {
   "cell_type": "markdown",
   "metadata": {},
   "source": [
    "##### 4. JWAP - Time of arrival at work - hour and minute\n",
    "\n",
    "* This column has time frame of every 15 mins and hence has a huge number of levels\n",
    "* We will create a new column of In_time \n"
   ]
  },
  {
   "cell_type": "markdown",
   "metadata": {
    "collapsed": true
   },
   "source": [
    "##### 5. JWDP - Time of departure for work - hour and minute\n",
    "\n",
    "* This column has time frame of every 15 mins and hence has a huge number of levels\n",
    "* We will create a new column of Out_time "
   ]
  },
  {
   "cell_type": "markdown",
   "metadata": {},
   "source": [
    "##### 6. SOCP - SOC Occupation code for 2012 and later based on 2010 SOC codes \n",
    "* Reducing the number of levels in this column. This column has huge number of levels. \n",
    "* Merging similar occupations together.\n",
    "\n",
    "           1110XX .MGR-CHIEF EXECUTIVES AND LEGISLATORS *\n",
    "           111021 .MGR-GENERAL AND OPERATIONS MANAGERS\n",
    "           112011 .MGR-ADVERTISING AND PROMOTIONS MANAGERS\n",
    "           112020 .MGR-MARKETING AND SALES MANAGERS\n",
    "           112031 .MGR-PUBLIC RELATIONS AND FUNDRAISING MANAGERS\n",
    "           113011 .MGR-ADMINISTRATIVE SERVICES MANAGERS\n",
    "           113021 .MGR-COMPUTER AND INFORMATION SYSTEMS MANAGERS\n",
    "           113031 .MGR-FINANCIAL MANAGERS\n",
    "           113111 .MGR-COMPENSATION AND BENEFITS MANAGERS\n",
    "           113121 .MGR-HUMAN RESOURCES MANAGERS\n",
    "           113131 .MGR-TRAINING AND DEVELOPMENT MANAGERS\n",
    "           113051 .MGR-INDUSTRIAL PRODUCTION MANAGERS\n",
    "           113061 .MGR-PURCHASING MANAGERS\n",
    "           131041 .BUS-COMPLIANCE OFFICERS\n",
    "           131051 .BUS-COST ESTIMATORS\n",
    "           131070 .BUS-HUMAN RESOURCES WORKERS\n",
    "           131081 .BUS-LOGISTICIANS\n",
    "           131111 .BUS-MANAGEMENT ANALYSTS\n",
    "           131121 .BUS-MEETING CONVENTION, AND EVENT PLANNERS\n",
    "           131131 .BUS-FUNDRAISERS\n",
    "           131141 .BUS-COMPENSATION, BENEFITS, AND JOB ANALYSIS SPECIALISTS\n",
    "           131151 .BUS-TRAINING AND DEVELOPMENT SPECIALISTS\n",
    "           131161 .BUS-MARKET RESEARCH ANALYSTS AND MARKETING SPECIALISTS\n",
    "           131199 .BUS-BUSINESS OPERATIONS SPECIALISTS, ALL OTHER\n",
    "           132011 .FIN-ACCOUNTANTS AND AUDITORS\n",
    "           132021 .FIN-APPRAISERS AND ASSESSORS OF REAL ESTATE\n",
    "           132031 .FIN-BUDGET ANALYSTS"
   ]
  },
  {
   "cell_type": "code",
   "execution_count": 83,
   "metadata": {
    "collapsed": false
   },
   "outputs": [
    {
     "name": "stderr",
     "output_type": "stream",
     "text": [
      "C:\\Program Files\\Anaconda3\\lib\\site-packages\\ipykernel\\__main__.py:1: SettingWithCopyWarning: \n",
      "A value is trying to be set on a copy of a slice from a DataFrame.\n",
      "Try using .loc[row_indexer,col_indexer] = value instead\n",
      "\n",
      "See the caveats in the documentation: http://pandas.pydata.org/pandas-docs/stable/indexing.html#indexing-view-versus-copy\n",
      "  if __name__ == '__main__':\n"
     ]
    },
    {
     "data": {
      "text/plain": [
       "0     60568\n",
       "43    19837\n",
       "41    16464\n",
       "11    15049\n",
       "25     9806\n",
       "53     9217\n",
       "47     8789\n",
       "35     8132\n",
       "51     7710\n",
       "29     7492\n",
       "13     7170\n",
       "37     5774\n",
       "39     5050\n",
       "49     4889\n",
       "15     3794\n",
       "33     3276\n",
       "31     2977\n",
       "17     2883\n",
       "27     2571\n",
       "21     2189\n",
       "23     1541\n",
       "19     1126\n",
       "99     1090\n",
       "45      958\n",
       "55      565\n",
       "Name: SOCP_Cat, dtype: int64"
      ]
     },
     "execution_count": 83,
     "metadata": {},
     "output_type": "execute_result"
    }
   ],
   "source": [
    "df1['SOCP_Cat'] = df1.SOCP.astype(str).str[:2]\n",
    "df1['SOCP_Cat'].value_counts()"
   ]
  },
  {
   "cell_type": "markdown",
   "metadata": {},
   "source": [
    "8. POWPUMA\n",
    "* Convert into 3 categories - NotWorker_OR_Under16, NonUS_Or_NonPue and Working"
   ]
  },
  {
   "cell_type": "code",
   "execution_count": 84,
   "metadata": {
    "collapsed": false
   },
   "outputs": [
    {
     "name": "stderr",
     "output_type": "stream",
     "text": [
      "C:\\Program Files\\Anaconda3\\lib\\site-packages\\ipykernel\\__main__.py:1: SettingWithCopyWarning: \n",
      "A value is trying to be set on a copy of a slice from a DataFrame.\n",
      "Try using .loc[row_indexer,col_indexer] = value instead\n",
      "\n",
      "See the caveats in the documentation: http://pandas.pydata.org/pandas-docs/stable/indexing.html#indexing-view-versus-copy\n",
      "  if __name__ == '__main__':\n"
     ]
    },
    {
     "data": {
      "text/plain": [
       "Assigned_POW            114760\n",
       "NotWorker_OR_Under16     94019\n",
       "Grad_Or_Above              138\n",
       "Name: POWPUMA_Cat, dtype: int64"
      ]
     },
     "execution_count": 84,
     "metadata": {},
     "output_type": "execute_result"
    }
   ],
   "source": [
    "df1['POWPUMA_Cat'] = ['NotWorker_OR_Under16' if x == 0 else 'Grad_Or_Above' if x == 1 else 'Assigned_POW' for x in df1['POWPUMA']]\n",
    "df1['POWPUMA_Cat'].value_counts()"
   ]
  },
  {
   "cell_type": "code",
   "execution_count": null,
   "metadata": {
    "collapsed": true
   },
   "outputs": [],
   "source": []
  },
  {
   "cell_type": "code",
   "execution_count": null,
   "metadata": {
    "collapsed": true
   },
   "outputs": [],
   "source": []
  },
  {
   "cell_type": "markdown",
   "metadata": {},
   "source": [
    "## 3. Exploratory Data Analysis"
   ]
  },
  {
   "cell_type": "markdown",
   "metadata": {
    "collapsed": true
   },
   "source": [
    "### 3.1 People based on Education looking for work\n",
    "\n",
    "* 0. Less than 16 years old/at work/temporarily absent/informed of recall\n",
    "* 1. Yes\n",
    "* 2. No\n",
    "* 3. Did not report"
   ]
  },
  {
   "cell_type": "code",
   "execution_count": 103,
   "metadata": {
    "collapsed": false
   },
   "outputs": [
    {
     "data": {
      "text/plain": [
       "<matplotlib.axes._subplots.AxesSubplot at 0x1b1892854e0>"
      ]
     },
     "execution_count": 103,
     "metadata": {},
     "output_type": "execute_result"
    },
    {
     "data": {
      "image/png": "[encoded data removed]",
      "text/plain": [
       "<Figure size 720x504 with 1 Axes>"
      ]
     },
     "metadata": {},
     "output_type": "display_data"
    }
   ],
   "source": [
    "import matplotlib.pyplot as plt\n",
    "import seaborn as sns\n",
    "%matplotlib inline\n",
    "\n",
    "df11 = df1[df1.WAGP == 0]\n",
    "\n",
    "plt.figure(figsize=(10,7))\n",
    "sns.countplot(data = df11, x = 'NWLK',hue=\"SCH_Cat\")"
   ]
  },
  {
   "cell_type": "code",
   "execution_count": null,
   "metadata": {
    "collapsed": false
   },
   "outputs": [],
   "source": []
  },
  {
   "cell_type": "markdown",
   "metadata": {},
   "source": [
    "### 3.2 Finding Areas with maximum employees"
   ]
  },
  {
   "cell_type": "code",
   "execution_count": 106,
   "metadata": {
    "collapsed": false
   },
   "outputs": [
    {
     "data": {
      "text/plain": [
       "<matplotlib.axes._subplots.AxesSubplot at 0x1b1912c9860>"
      ]
     },
     "execution_count": 106,
     "metadata": {},
     "output_type": "execute_result"
    },
    {
     "data": {
      "image/png": "[encoded data removed]",
      "text/plain": [
       "<Figure size 432x288 with 1 Axes>"
      ]
     },
     "metadata": {},
     "output_type": "display_data"
    }
   ],
   "source": [
    "df12 = df1[df1.WAGP != 0]\n",
    "data=df12.groupby('PUMA')['ID'].count().sort_values(ascending=False).head(20)\n",
    "data.plot(kind=\"bar\")"
   ]
  },
  {
   "cell_type": "markdown",
   "metadata": {},
   "source": []
  },
  {
   "cell_type": "markdown",
   "metadata": {},
   "source": [
    "### 3.3 Unemployed people with higher education"
   ]
  },
  {
   "cell_type": "code",
   "execution_count": 92,
   "metadata": {
    "collapsed": false
   },
   "outputs": [
    {
     "data": {
      "text/plain": [
       "<matplotlib.axes._subplots.AxesSubplot at 0x1b189889a58>"
      ]
     },
     "execution_count": 92,
     "metadata": {},
     "output_type": "execute_result"
    },
    {
     "data": {
      "image/png": "[encoded data removed]",
      "text/plain": [
       "<Figure size 432x288 with 1 Axes>"
      ]
     },
     "metadata": {},
     "output_type": "display_data"
    }
   ],
   "source": [
    "df2=df1[(df1['WAGP'] == 0) & ((df1[\"SCH_Cat\"] == \"Graduation\") | (df1[\"SCH_Cat\"] ==\"PostGraduation\"))]\n",
    "sns.countplot(data = df2, x = 'WAGP',hue=\"SCH_Cat\")"
   ]
  },
  {
   "cell_type": "markdown",
   "metadata": {},
   "source": [
    "### 3.4 Areas of high unemployment"
   ]
  },
  {
   "cell_type": "code",
   "execution_count": 119,
   "metadata": {
    "collapsed": false
   },
   "outputs": [
    {
     "data": {
      "text/plain": [
       "Text(0, 0.5, 'Employee Count')"
      ]
     },
     "execution_count": 119,
     "metadata": {},
     "output_type": "execute_result"
    },
    {
     "data": {
      "image/png": "[encoded data removed]",
      "text/plain": [
       "<Figure size 432x288 with 1 Axes>"
      ]
     },
     "metadata": {},
     "output_type": "display_data"
    }
   ],
   "source": [
    "data=df11.groupby('PUMA')['ID'].count().sort_values(ascending=False).head(20)\n",
    "data.plot(kind=\"bar\",title='Areas of high unemployment')\n",
    "plt.xlabel('Area Code')\n",
    "plt.ylabel('Employee Count')"
   ]
  },
  {
   "cell_type": "code",
   "execution_count": null,
   "metadata": {
    "collapsed": true
   },
   "outputs": [],
   "source": []
  },
  {
   "cell_type": "code",
   "execution_count": null,
   "metadata": {
    "collapsed": true
   },
   "outputs": [],
   "source": [
    "### 3.5 Wages as per Education Qualification"
   ]
  },
  {
   "cell_type": "code",
   "execution_count": 117,
   "metadata": {
    "collapsed": false
   },
   "outputs": [
    {
     "data": {
      "text/plain": [
       "Text(0, 0.5, 'Wage')"
      ]
     },
     "execution_count": 117,
     "metadata": {},
     "output_type": "execute_result"
    },
    {
     "data": {
      "image/png": "[encoded data removed]",
      "text/plain": [
       "<Figure size 576x360 with 1 Axes>"
      ]
     },
     "metadata": {},
     "output_type": "display_data"
    }
   ],
   "source": [
    "plt.figure(figsize=(8,5))\n",
    "plt.title('Wages as per Education Qualification')\n",
    "sns.barplot(df12.SCH_Cat,df1.WAGP)\n",
    "plt.xlabel('Education Type')\n",
    "plt.ylabel('Wage')"
   ]
  },
  {
   "cell_type": "code",
   "execution_count": null,
   "metadata": {
    "collapsed": true
   },
   "outputs": [],
   "source": []
  },
  {
   "cell_type": "markdown",
   "metadata": {},
   "source": [
    "### 3.6 Employee Distribution by the type of industry"
   ]
  },
  {
   "cell_type": "code",
   "execution_count": 118,
   "metadata": {
    "collapsed": false
   },
   "outputs": [
    {
     "data": {
      "text/plain": [
       "Text(0, 0.5, 'Employee Count')"
      ]
     },
     "execution_count": 118,
     "metadata": {},
     "output_type": "execute_result"
    },
    {
     "data": {
      "image/png": "[encoded data removed]",
      "text/plain": [
       "<Figure size 432x288 with 1 Axes>"
      ]
     },
     "metadata": {},
     "output_type": "display_data"
    }
   ],
   "source": [
    "data=df12.groupby('NAICSP_Cat')['ID'].count().sort_values(ascending=False).head(20)\n",
    "data.plot(kind=\"bar\",title='Employee Distribution by Industry type')\n",
    "plt.xlabel('Industry Type')\n",
    "plt.ylabel('Employee Count')"
   ]
  },
  {
   "cell_type": "code",
   "execution_count": null,
   "metadata": {
    "collapsed": false
   },
   "outputs": [],
   "source": []
  },
  {
   "cell_type": "markdown",
   "metadata": {},
   "source": [
    "### 3.7 Income distribution by industry, Highest paying industries"
   ]
  },
  {
   "cell_type": "code",
   "execution_count": 121,
   "metadata": {
    "collapsed": false
   },
   "outputs": [
    {
     "data": {
      "text/plain": [
       "Text(0, 0.5, 'Wage')"
      ]
     },
     "execution_count": 121,
     "metadata": {},
     "output_type": "execute_result"
    },
    {
     "data": {
      "image/png": "[encoded data removed]",
      "text/plain": [
       "<Figure size 432x288 with 1 Axes>"
      ]
     },
     "metadata": {},
     "output_type": "display_data"
    }
   ],
   "source": [
    "data=df12.groupby('NAICSP_Cat')['WAGP'].mean().sort_values(ascending=False).head(20)\n",
    "data.plot(kind=\"bar\",title='Income distribution by industry')\n",
    "plt.xlabel('Industry Type')\n",
    "plt.ylabel('Wage')"
   ]
  },
  {
   "cell_type": "markdown",
   "metadata": {},
   "source": [
    "### 3.8 Which industry has the most hectic hours"
   ]
  },
  {
   "cell_type": "code",
   "execution_count": 122,
   "metadata": {
    "collapsed": false
   },
   "outputs": [
    {
     "data": {
      "text/plain": [
       "Text(0, 0.5, 'Hours worked')"
      ]
     },
     "execution_count": 122,
     "metadata": {},
     "output_type": "execute_result"
    },
    {
     "data": {
      "image/png": "[encoded data removed]",
      "text/plain": [
       "<Figure size 432x288 with 1 Axes>"
      ]
     },
     "metadata": {},
     "output_type": "display_data"
    }
   ],
   "source": [
    "data=df12.groupby('NAICSP_Cat')['WKHP'].mean().sort_values(ascending=False).head(20)\n",
    "data.plot(kind=\"bar\",title='Industry type working hours')\n",
    "plt.xlabel('Industry Type')\n",
    "plt.ylabel('Hours worked')"
   ]
  },
  {
   "cell_type": "code",
   "execution_count": null,
   "metadata": {
    "collapsed": true
   },
   "outputs": [],
   "source": []
  },
  {
   "cell_type": "code",
   "execution_count": null,
   "metadata": {
    "collapsed": true
   },
   "outputs": [],
   "source": []
  },
  {
   "cell_type": "code",
   "execution_count": null,
   "metadata": {
    "collapsed": true
   },
   "outputs": [],
   "source": []
  },
  {
   "cell_type": "markdown",
   "metadata": {
    "collapsed": true
   },
   "source": [
    "## 4. Model Building"
   ]
  },
  {
   "cell_type": "code",
   "execution_count": 123,
   "metadata": {
    "collapsed": true
   },
   "outputs": [],
   "source": [
    "df2 = df1.copy()"
   ]
  },
  {
   "cell_type": "code",
   "execution_count": 124,
   "metadata": {
    "collapsed": false
   },
   "outputs": [
    {
     "data": {
      "text/plain": [
       "Index(['ID', 'ST', 'PUMA', 'JWMNP', 'SCHL', 'WAGP', 'WKHP', 'WKW', 'ESR',\n",
       "       'FOD1P', 'NAICSP', 'JWAP', 'JWDP', 'SOCP', 'POWPUMA', 'POWSP', 'NWAB',\n",
       "       'NWAV', 'NWLA', 'NWLK', 'AGEP', 'SCH_Cat', 'FOD1P_Cat', 'NAICSP_Cat',\n",
       "       'SOCP_Cat', 'POWPUMA_Cat'],\n",
       "      dtype='object')"
      ]
     },
     "execution_count": 124,
     "metadata": {},
     "output_type": "execute_result"
    }
   ],
   "source": [
    "df2.columns"
   ]
  },
  {
   "cell_type": "code",
   "execution_count": 125,
   "metadata": {
    "collapsed": false
   },
   "outputs": [
    {
     "data": {
      "text/plain": [
       "Index(['JWMNP', 'WAGP', 'WKHP', 'WKW', 'ESR', 'NWAB', 'NWAV', 'NWLA', 'NWLK',\n",
       "       'AGEP', 'SCH_Cat', 'FOD1P_Cat', 'NAICSP_Cat', 'SOCP_Cat',\n",
       "       'POWPUMA_Cat'],\n",
       "      dtype='object')"
      ]
     },
     "execution_count": 125,
     "metadata": {},
     "output_type": "execute_result"
    }
   ],
   "source": [
    "# Dropping redundant columns and columns with too many levels\n",
    "df2.drop(['ST','POWSP','FOD1P','NAICSP','SOCP','POWPUMA','PUMA','JWDP','JWAP','SCHL','ID'],axis=1,inplace=True)\n",
    "df2.columns"
   ]
  },
  {
   "cell_type": "code",
   "execution_count": 126,
   "metadata": {
    "collapsed": false
   },
   "outputs": [
    {
     "data": {
      "text/plain": [
       "JWMNP          float64\n",
       "WAGP           float64\n",
       "WKHP           float64\n",
       "WKW            float64\n",
       "ESR            float64\n",
       "NWAB           float64\n",
       "NWAV           float64\n",
       "NWLA           float64\n",
       "NWLK           float64\n",
       "AGEP             int64\n",
       "SCH_Cat         object\n",
       "FOD1P_Cat       object\n",
       "NAICSP_Cat      object\n",
       "SOCP_Cat        object\n",
       "POWPUMA_Cat     object\n",
       "dtype: object"
      ]
     },
     "execution_count": 126,
     "metadata": {},
     "output_type": "execute_result"
    }
   ],
   "source": [
    "df2.dtypes"
   ]
  },
  {
   "cell_type": "code",
   "execution_count": 127,
   "metadata": {
    "collapsed": false
   },
   "outputs": [
    {
     "data": {
      "text/plain": [
       "JWMNP          float64\n",
       "WAGP           float64\n",
       "WKHP           float64\n",
       "WKW            float64\n",
       "ESR             object\n",
       "NWAB            object\n",
       "NWAV            object\n",
       "NWLA            object\n",
       "NWLK            object\n",
       "AGEP             int64\n",
       "SCH_Cat         object\n",
       "FOD1P_Cat       object\n",
       "NAICSP_Cat      object\n",
       "SOCP_Cat        object\n",
       "POWPUMA_Cat     object\n",
       "dtype: object"
      ]
     },
     "execution_count": 127,
     "metadata": {},
     "output_type": "execute_result"
    }
   ],
   "source": [
    "#Changing datatype of columns to categorical \n",
    "\n",
    "cols_cat = ['NWAB','ESR','NWAV','NWLA','NWLK']\n",
    "for col in df2.columns:\n",
    "    if col in cols_cat:\n",
    "        df2[col] = df2[col].astype(object)\n",
    "df2.dtypes"
   ]
  },
  {
   "cell_type": "markdown",
   "metadata": {},
   "source": [
    "### Checking outliers"
   ]
  },
  {
   "cell_type": "code",
   "execution_count": 128,
   "metadata": {
    "collapsed": false
   },
   "outputs": [
    {
     "data": {
      "text/plain": [
       "<matplotlib.axes._subplots.AxesSubplot at 0x1b1910dff60>"
      ]
     },
     "execution_count": 128,
     "metadata": {},
     "output_type": "execute_result"
    },
    {
     "data": {
      "image/png": "[encoded data removed]",
      "text/plain": [
       "<Figure size 432x288 with 1 Axes>"
      ]
     },
     "metadata": {},
     "output_type": "display_data"
    }
   ],
   "source": [
    "import seaborn as sns\n",
    "\n",
    "sns.boxplot(df2['JWMNP'])"
   ]
  },
  {
   "cell_type": "code",
   "execution_count": 129,
   "metadata": {
    "collapsed": false
   },
   "outputs": [
    {
     "data": {
      "text/plain": [
       "<matplotlib.axes._subplots.AxesSubplot at 0x1b193dfb3c8>"
      ]
     },
     "execution_count": 129,
     "metadata": {},
     "output_type": "execute_result"
    },
    {
     "data": {
      "image/png": "[encoded data removed]",
      "text/plain": [
       "<Figure size 432x288 with 1 Axes>"
      ]
     },
     "metadata": {},
     "output_type": "display_data"
    }
   ],
   "source": [
    "sns.boxplot(df2['WAGP'])"
   ]
  },
  {
   "cell_type": "code",
   "execution_count": 130,
   "metadata": {
    "collapsed": false
   },
   "outputs": [
    {
     "data": {
      "text/plain": [
       "<matplotlib.axes._subplots.AxesSubplot at 0x1b193e3a630>"
      ]
     },
     "execution_count": 130,
     "metadata": {},
     "output_type": "execute_result"
    },
    {
     "data": {
      "image/png": "[encoded data removed]",
      "text/plain": [
       "<Figure size 432x288 with 1 Axes>"
      ]
     },
     "metadata": {},
     "output_type": "display_data"
    }
   ],
   "source": [
    "sns.boxplot(df2['WKHP'])"
   ]
  },
  {
   "cell_type": "code",
   "execution_count": 131,
   "metadata": {
    "collapsed": false
   },
   "outputs": [
    {
     "data": {
      "text/plain": [
       "<matplotlib.axes._subplots.AxesSubplot at 0x1b193c42f28>"
      ]
     },
     "execution_count": 131,
     "metadata": {},
     "output_type": "execute_result"
    },
    {
     "data": {
      "image/png": "[encoded data removed]",
      "text/plain": [
       "<Figure size 432x288 with 1 Axes>"
      ]
     },
     "metadata": {},
     "output_type": "display_data"
    }
   ],
   "source": [
    "sns.boxplot(df2['WKW'])"
   ]
  },
  {
   "cell_type": "code",
   "execution_count": 132,
   "metadata": {
    "collapsed": false
   },
   "outputs": [
    {
     "data": {
      "text/plain": [
       "<matplotlib.axes._subplots.AxesSubplot at 0x1b193c7e2e8>"
      ]
     },
     "execution_count": 132,
     "metadata": {},
     "output_type": "execute_result"
    },
    {
     "data": {
      "image/png": "[encoded data removed]",
      "text/plain": [
       "<Figure size 432x288 with 1 Axes>"
      ]
     },
     "metadata": {},
     "output_type": "display_data"
    }
   ],
   "source": [
    "sns.boxplot(df2['AGEP'])"
   ]
  },
  {
   "cell_type": "code",
   "execution_count": 133,
   "metadata": {
    "collapsed": false
   },
   "outputs": [
    {
     "data": {
      "text/plain": [
       "<matplotlib.axes._subplots.AxesSubplot at 0x1b193cb2518>"
      ]
     },
     "execution_count": 133,
     "metadata": {},
     "output_type": "execute_result"
    },
    {
     "data": {
      "image/png": "[encoded data removed]",
      "text/plain": [
       "<Figure size 432x288 with 2 Axes>"
      ]
     },
     "metadata": {},
     "output_type": "display_data"
    }
   ],
   "source": [
    "# Checking correlation between the columns\n",
    "\n",
    "import matplotlib.pyplot as plt\n",
    "%matplotlib inline\n",
    "\n",
    "sns.heatmap(df2.corr(),annot=True,linewidths=1)"
   ]
  },
  {
   "cell_type": "markdown",
   "metadata": {},
   "source": [
    "### Removing outliers"
   ]
  },
  {
   "cell_type": "code",
   "execution_count": 134,
   "metadata": {
    "collapsed": true
   },
   "outputs": [],
   "source": [
    "df3 = df2.copy()"
   ]
  },
  {
   "cell_type": "code",
   "execution_count": 135,
   "metadata": {
    "collapsed": false
   },
   "outputs": [
    {
     "data": {
      "text/html": [
       "<div>\n",
       "<table border=\"1\" class=\"dataframe\">\n",
       "  <thead>\n",
       "    <tr style=\"text-align: right;\">\n",
       "      <th></th>\n",
       "      <th>JWMNP</th>\n",
       "      <th>WAGP</th>\n",
       "      <th>WKHP</th>\n",
       "      <th>WKW</th>\n",
       "      <th>AGEP</th>\n",
       "    </tr>\n",
       "  </thead>\n",
       "  <tbody>\n",
       "    <tr>\n",
       "      <th>count</th>\n",
       "      <td>208917.000000</td>\n",
       "      <td>208917.000000</td>\n",
       "      <td>208917.000000</td>\n",
       "      <td>208917.000000</td>\n",
       "      <td>208917.000000</td>\n",
       "    </tr>\n",
       "    <tr>\n",
       "      <th>mean</th>\n",
       "      <td>13.746847</td>\n",
       "      <td>28058.387857</td>\n",
       "      <td>24.672305</td>\n",
       "      <td>1.143746</td>\n",
       "      <td>46.564578</td>\n",
       "    </tr>\n",
       "    <tr>\n",
       "      <th>std</th>\n",
       "      <td>21.169373</td>\n",
       "      <td>52571.880706</td>\n",
       "      <td>21.894023</td>\n",
       "      <td>1.544477</td>\n",
       "      <td>19.252988</td>\n",
       "    </tr>\n",
       "    <tr>\n",
       "      <th>min</th>\n",
       "      <td>0.000000</td>\n",
       "      <td>0.000000</td>\n",
       "      <td>0.000000</td>\n",
       "      <td>0.000000</td>\n",
       "      <td>15.000000</td>\n",
       "    </tr>\n",
       "    <tr>\n",
       "      <th>25%</th>\n",
       "      <td>0.000000</td>\n",
       "      <td>0.000000</td>\n",
       "      <td>0.000000</td>\n",
       "      <td>0.000000</td>\n",
       "      <td>30.000000</td>\n",
       "    </tr>\n",
       "    <tr>\n",
       "      <th>50%</th>\n",
       "      <td>5.000000</td>\n",
       "      <td>7200.000000</td>\n",
       "      <td>30.000000</td>\n",
       "      <td>1.000000</td>\n",
       "      <td>46.000000</td>\n",
       "    </tr>\n",
       "    <tr>\n",
       "      <th>75%</th>\n",
       "      <td>20.000000</td>\n",
       "      <td>40000.000000</td>\n",
       "      <td>40.000000</td>\n",
       "      <td>1.000000</td>\n",
       "      <td>61.000000</td>\n",
       "    </tr>\n",
       "    <tr>\n",
       "      <th>max</th>\n",
       "      <td>159.000000</td>\n",
       "      <td>451000.000000</td>\n",
       "      <td>99.000000</td>\n",
       "      <td>6.000000</td>\n",
       "      <td>92.000000</td>\n",
       "    </tr>\n",
       "  </tbody>\n",
       "</table>\n",
       "</div>"
      ],
      "text/plain": [
       "               JWMNP           WAGP           WKHP            WKW  \\\n",
       "count  208917.000000  208917.000000  208917.000000  208917.000000   \n",
       "mean       13.746847   28058.387857      24.672305       1.143746   \n",
       "std        21.169373   52571.880706      21.894023       1.544477   \n",
       "min         0.000000       0.000000       0.000000       0.000000   \n",
       "25%         0.000000       0.000000       0.000000       0.000000   \n",
       "50%         5.000000    7200.000000      30.000000       1.000000   \n",
       "75%        20.000000   40000.000000      40.000000       1.000000   \n",
       "max       159.000000  451000.000000      99.000000       6.000000   \n",
       "\n",
       "                AGEP  \n",
       "count  208917.000000  \n",
       "mean       46.564578  \n",
       "std        19.252988  \n",
       "min        15.000000  \n",
       "25%        30.000000  \n",
       "50%        46.000000  \n",
       "75%        61.000000  \n",
       "max        92.000000  "
      ]
     },
     "execution_count": 135,
     "metadata": {},
     "output_type": "execute_result"
    }
   ],
   "source": [
    "df3.describe()"
   ]
  },
  {
   "cell_type": "code",
   "execution_count": 136,
   "metadata": {
    "collapsed": false
   },
   "outputs": [
    {
     "data": {
      "text/plain": [
       "87588"
      ]
     },
     "execution_count": 136,
     "metadata": {},
     "output_type": "execute_result"
    }
   ],
   "source": [
    "(df3['WAGP'] == 0).sum()"
   ]
  },
  {
   "cell_type": "code",
   "execution_count": 137,
   "metadata": {
    "collapsed": false
   },
   "outputs": [
    {
     "data": {
      "text/plain": [
       "1589"
      ]
     },
     "execution_count": 137,
     "metadata": {},
     "output_type": "execute_result"
    }
   ],
   "source": [
    "(df3['WAGP'] == 451000).sum()"
   ]
  },
  {
   "cell_type": "code",
   "execution_count": 138,
   "metadata": {
    "collapsed": false
   },
   "outputs": [
    {
     "data": {
      "text/plain": [
       "(208917, 15)"
      ]
     },
     "execution_count": 138,
     "metadata": {},
     "output_type": "execute_result"
    }
   ],
   "source": [
    "df3.shape"
   ]
  },
  {
   "cell_type": "code",
   "execution_count": 139,
   "metadata": {
    "collapsed": false
   },
   "outputs": [
    {
     "data": {
      "text/plain": [
       "(121329, 15)"
      ]
     },
     "execution_count": 139,
     "metadata": {},
     "output_type": "execute_result"
    }
   ],
   "source": [
    "df3 = df3[df3['WAGP'] != 0]\n",
    "df3.shape"
   ]
  },
  {
   "cell_type": "code",
   "execution_count": 140,
   "metadata": {
    "collapsed": false
   },
   "outputs": [
    {
     "data": {
      "text/plain": [
       "<matplotlib.axes._subplots.AxesSubplot at 0x1b1922ec940>"
      ]
     },
     "execution_count": 140,
     "metadata": {},
     "output_type": "execute_result"
    },
    {
     "data": {
      "image/png": "[encoded data removed]",
      "text/plain": [
       "<Figure size 432x288 with 1 Axes>"
      ]
     },
     "metadata": {},
     "output_type": "display_data"
    }
   ],
   "source": [
    "sns.boxplot(df3['WAGP'])"
   ]
  },
  {
   "cell_type": "code",
   "execution_count": 141,
   "metadata": {
    "collapsed": false
   },
   "outputs": [
    {
     "data": {
      "text/plain": [
       "(119740, 15)"
      ]
     },
     "execution_count": 141,
     "metadata": {},
     "output_type": "execute_result"
    }
   ],
   "source": [
    "df3 = df3[df3['WAGP'] != 451000]\n",
    "df3.shape"
   ]
  },
  {
   "cell_type": "code",
   "execution_count": 142,
   "metadata": {
    "collapsed": false
   },
   "outputs": [
    {
     "data": {
      "text/plain": [
       "<matplotlib.axes._subplots.AxesSubplot at 0x1b192319748>"
      ]
     },
     "execution_count": 142,
     "metadata": {},
     "output_type": "execute_result"
    },
    {
     "data": {
      "image/png": "[encoded data removed]",
      "text/plain": [
       "<Figure size 432x288 with 1 Axes>"
      ]
     },
     "metadata": {},
     "output_type": "display_data"
    }
   ],
   "source": [
    "sns.boxplot(df3['WAGP'])"
   ]
  },
  {
   "cell_type": "code",
   "execution_count": 143,
   "metadata": {
    "collapsed": false
   },
   "outputs": [
    {
     "data": {
      "text/plain": [
       "3071"
      ]
     },
     "execution_count": 143,
     "metadata": {},
     "output_type": "execute_result"
    }
   ],
   "source": [
    "(df3['WAGP'] > 150000).sum()"
   ]
  },
  {
   "cell_type": "code",
   "execution_count": 144,
   "metadata": {
    "collapsed": false
   },
   "outputs": [
    {
     "data": {
      "text/plain": [
       "(111470, 15)"
      ]
     },
     "execution_count": 144,
     "metadata": {},
     "output_type": "execute_result"
    }
   ],
   "source": [
    "df3 = df3[df3['WAGP'] < 110000]\n",
    "df3.shape"
   ]
  },
  {
   "cell_type": "code",
   "execution_count": 145,
   "metadata": {
    "collapsed": false
   },
   "outputs": [
    {
     "data": {
      "text/plain": [
       "<matplotlib.axes._subplots.AxesSubplot at 0x1b19234c630>"
      ]
     },
     "execution_count": 145,
     "metadata": {},
     "output_type": "execute_result"
    },
    {
     "data": {
      "image/png": "[encoded data removed]",
      "text/plain": [
       "<Figure size 432x288 with 1 Axes>"
      ]
     },
     "metadata": {},
     "output_type": "display_data"
    }
   ],
   "source": [
    "sns.boxplot(df3['WAGP'])"
   ]
  },
  {
   "cell_type": "code",
   "execution_count": 146,
   "metadata": {
    "collapsed": false
   },
   "outputs": [
    {
     "data": {
      "text/plain": [
       "<matplotlib.axes._subplots.AxesSubplot at 0x1b192388ac8>"
      ]
     },
     "execution_count": 146,
     "metadata": {},
     "output_type": "execute_result"
    },
    {
     "data": {
      "image/png": "[encoded data removed]",
      "text/plain": [
       "<Figure size 432x288 with 1 Axes>"
      ]
     },
     "metadata": {},
     "output_type": "display_data"
    }
   ],
   "source": [
    "sns.boxplot(df3['JWMNP'])"
   ]
  },
  {
   "cell_type": "code",
   "execution_count": 147,
   "metadata": {
    "collapsed": false
   },
   "outputs": [
    {
     "data": {
      "text/plain": [
       "3246"
      ]
     },
     "execution_count": 147,
     "metadata": {},
     "output_type": "execute_result"
    }
   ],
   "source": [
    "(df3['JWMNP'] > 60).sum()"
   ]
  },
  {
   "cell_type": "code",
   "execution_count": 148,
   "metadata": {
    "collapsed": false
   },
   "outputs": [
    {
     "data": {
      "text/plain": [
       "<matplotlib.axes._subplots.AxesSubplot at 0x1b1922e4860>"
      ]
     },
     "execution_count": 148,
     "metadata": {},
     "output_type": "execute_result"
    },
    {
     "data": {
      "image/png": "[encoded data removed]",
      "text/plain": [
       "<Figure size 432x288 with 1 Axes>"
      ]
     },
     "metadata": {},
     "output_type": "display_data"
    }
   ],
   "source": [
    "for index,row in df3.iterrows():\n",
    "    if df3.loc[index,'JWMNP'] > 60:\n",
    "        df3.loc[index,'JWMNP'] = 60\n",
    "sns.boxplot(df3['JWMNP'])"
   ]
  },
  {
   "cell_type": "code",
   "execution_count": 149,
   "metadata": {
    "collapsed": false
   },
   "outputs": [
    {
     "data": {
      "text/plain": [
       "(111470, 15)"
      ]
     },
     "execution_count": 149,
     "metadata": {},
     "output_type": "execute_result"
    }
   ],
   "source": [
    "\n",
    "df3.shape"
   ]
  },
  {
   "cell_type": "code",
   "execution_count": 150,
   "metadata": {
    "collapsed": false
   },
   "outputs": [
    {
     "data": {
      "text/plain": [
       "<matplotlib.axes._subplots.AxesSubplot at 0x1b18edb1cc0>"
      ]
     },
     "execution_count": 150,
     "metadata": {},
     "output_type": "execute_result"
    },
    {
     "data": {
      "image/png": "[encoded data removed]",
      "text/plain": [
       "<Figure size 432x288 with 1 Axes>"
      ]
     },
     "metadata": {},
     "output_type": "display_data"
    }
   ],
   "source": [
    "sns.boxplot(df3['JWMNP'])"
   ]
  },
  {
   "cell_type": "code",
   "execution_count": 151,
   "metadata": {
    "collapsed": false
   },
   "outputs": [
    {
     "data": {
      "text/plain": [
       "<matplotlib.axes._subplots.AxesSubplot at 0x1b194a05d68>"
      ]
     },
     "execution_count": 151,
     "metadata": {},
     "output_type": "execute_result"
    },
    {
     "data": {
      "image/png": "[encoded data removed]",
      "text/plain": [
       "<Figure size 432x288 with 1 Axes>"
      ]
     },
     "metadata": {},
     "output_type": "display_data"
    }
   ],
   "source": [
    "sns.boxplot(df3['WKW'])"
   ]
  },
  {
   "cell_type": "code",
   "execution_count": 152,
   "metadata": {
    "collapsed": false
   },
   "outputs": [
    {
     "data": {
      "text/plain": [
       "<matplotlib.axes._subplots.AxesSubplot at 0x1b194a36d30>"
      ]
     },
     "execution_count": 152,
     "metadata": {},
     "output_type": "execute_result"
    },
    {
     "data": {
      "image/png": "[encoded data removed]",
      "text/plain": [
       "<Figure size 432x288 with 1 Axes>"
      ]
     },
     "metadata": {},
     "output_type": "display_data"
    }
   ],
   "source": [
    "for index,row in df3.iterrows():\n",
    "    if df3.loc[index,'WKW'] > 3:\n",
    "        df3.loc[index,'WKW'] = 3\n",
    "sns.boxplot(df3['WKW'])"
   ]
  },
  {
   "cell_type": "code",
   "execution_count": 153,
   "metadata": {
    "collapsed": false
   },
   "outputs": [
    {
     "data": {
      "text/plain": [
       "Index(['JWMNP', 'WAGP', 'WKHP', 'WKW', 'ESR', 'NWAB', 'NWAV', 'NWLA', 'NWLK',\n",
       "       'AGEP', 'SCH_Cat', 'FOD1P_Cat', 'NAICSP_Cat', 'SOCP_Cat',\n",
       "       'POWPUMA_Cat'],\n",
       "      dtype='object')"
      ]
     },
     "execution_count": 153,
     "metadata": {},
     "output_type": "execute_result"
    }
   ],
   "source": [
    "df3.columns"
   ]
  },
  {
   "cell_type": "code",
   "execution_count": 154,
   "metadata": {
    "collapsed": false
   },
   "outputs": [
    {
     "data": {
      "text/plain": [
       "<matplotlib.axes._subplots.AxesSubplot at 0x1b1949cec18>"
      ]
     },
     "execution_count": 154,
     "metadata": {},
     "output_type": "execute_result"
    },
    {
     "data": {
      "image/png": "[encoded data removed]",
      "text/plain": [
       "<Figure size 432x288 with 2 Axes>"
      ]
     },
     "metadata": {},
     "output_type": "display_data"
    }
   ],
   "source": [
    "sns.heatmap(df3.corr(),annot=True,linewidths=1)"
   ]
  },
  {
   "cell_type": "code",
   "execution_count": 155,
   "metadata": {
    "collapsed": false
   },
   "outputs": [],
   "source": [
    "X = df3.loc[:,~df3.columns.isin(['WAGP'])]\n",
    "y = df3['WAGP']"
   ]
  },
  {
   "cell_type": "code",
   "execution_count": 156,
   "metadata": {
    "collapsed": false
   },
   "outputs": [
    {
     "name": "stdout",
     "output_type": "stream",
     "text": [
      "(111470, 14)\n",
      "(111470,)\n"
     ]
    }
   ],
   "source": [
    "print(X.shape)\n",
    "print(y.shape)"
   ]
  },
  {
   "cell_type": "code",
   "execution_count": 157,
   "metadata": {
    "collapsed": false
   },
   "outputs": [
    {
     "data": {
      "text/plain": [
       "(111470, 64)"
      ]
     },
     "execution_count": 157,
     "metadata": {},
     "output_type": "execute_result"
    }
   ],
   "source": [
    "# One Hot Encoding\n",
    "X_dummy = pd.get_dummies(X,drop_first=True,prefix_sep='_')\n",
    "X_dummy.shape"
   ]
  },
  {
   "cell_type": "code",
   "execution_count": null,
   "metadata": {
    "collapsed": true
   },
   "outputs": [],
   "source": []
  },
  {
   "cell_type": "code",
   "execution_count": 158,
   "metadata": {
    "collapsed": true
   },
   "outputs": [],
   "source": [
    "# Building a Linear Regression Model"
   ]
  },
  {
   "cell_type": "code",
   "execution_count": 184,
   "metadata": {
    "collapsed": false
   },
   "outputs": [
    {
     "name": "stdout",
     "output_type": "stream",
     "text": [
      "Root mean squared error on Training Set 18308.33092234188\n",
      "R2 score on Training Set:  0.5128867354805232\n",
      "Root mean squared error on Testing Set 18460.205326720825\n",
      "R2 score on Testing Set:  0.5114360415010928\n"
     ]
    }
   ],
   "source": [
    "from sklearn.linear_model import LinearRegression\n",
    "from sklearn.metrics import r2_score, mean_squared_error\n",
    "from sklearn.model_selection import train_test_split\n",
    "\n",
    "X_train,X_test,y_train,y_test= train_test_split(X_dummy,y,test_size=0.3,random_state=70)\n",
    "linear_model = LinearRegression().fit(X_train,y_train)\n",
    "\n",
    "y_train_predict = linear_model.predict(X_train)\n",
    "rmse_train = np.sqrt(mean_squared_error(y_train,y_train_predict))\n",
    "r2_train = r2_score(y_train,y_train_predict)\n",
    "\n",
    "y_pred_linear = linear_model.predict(X_test)\n",
    "rmse = np.sqrt(mean_squared_error(y_test,y_pred_linear))\n",
    "r2 = r2_score(y_test,y_pred_linear)\n",
    "\n",
    "print('Root mean squared error on Training Set', rmse_train)\n",
    "print('R2 score on Training Set: ', r2_train)\n",
    "\n",
    "print('Root mean squared error on Testing Set', rmse)\n",
    "print('R2 score on Testing Set: ', r2)"
   ]
  },
  {
   "cell_type": "code",
   "execution_count": null,
   "metadata": {
    "collapsed": false
   },
   "outputs": [],
   "source": []
  },
  {
   "cell_type": "code",
   "execution_count": null,
   "metadata": {
    "collapsed": false
   },
   "outputs": [],
   "source": [
    "# Building a Decision Tree Regressor\n",
    "\n",
    "#ID3 are able to handle categorical variables. Other, like CART algorithm are not."
   ]
  },
  {
   "cell_type": "code",
   "execution_count": 191,
   "metadata": {
    "collapsed": true
   },
   "outputs": [],
   "source": [
    "from sklearn.tree import DecisionTreeRegressor\n",
    "regressor = DecisionTreeRegressor(random_state=0,max_depth=10,max_features='sqrt',max_leaf_nodes=50)"
   ]
  },
  {
   "cell_type": "code",
   "execution_count": 182,
   "metadata": {
    "collapsed": true
   },
   "outputs": [],
   "source": []
  },
  {
   "cell_type": "code",
   "execution_count": 192,
   "metadata": {
    "collapsed": false
   },
   "outputs": [
    {
     "data": {
      "text/plain": [
       "DecisionTreeRegressor(criterion='mse', max_depth=10, max_features=50,\n",
       "           max_leaf_nodes=50, min_impurity_decrease=0.0,\n",
       "           min_impurity_split=None, min_samples_leaf=1,\n",
       "           min_samples_split=2, min_weight_fraction_leaf=0.0,\n",
       "           presort=False, random_state=0, splitter='best')"
      ]
     },
     "execution_count": 192,
     "metadata": {},
     "output_type": "execute_result"
    }
   ],
   "source": [
    "regressor.fit(X_train,y_train)"
   ]
  },
  {
   "cell_type": "code",
   "execution_count": 193,
   "metadata": {
    "collapsed": false
   },
   "outputs": [
    {
     "name": "stdout",
     "output_type": "stream",
     "text": [
      "Root mean squared error on Training Set 18530.607677289245\n",
      "R2 score on Training Set:  0.5009871014429841\n",
      "Root mean squared error on Testing Set 18897.108885982347\n",
      "R2 score on Testing Set:  0.4880363786866857\n"
     ]
    }
   ],
   "source": [
    "y_train_predict = regressor.predict(X_train)\n",
    "rmse_train = np.sqrt(mean_squared_error(y_train,y_train_predict))\n",
    "r2_train = r2_score(y_train,y_train_predict)\n",
    "\n",
    "y_pred = regressor.predict(X_test)\n",
    "rmse = np.sqrt(mean_squared_error(y_test,y_pred))\n",
    "r2 = r2_score(y_test,y_pred)\n",
    "\n",
    "print('Root mean squared error on Training Set', rmse_train)\n",
    "print('R2 score on Training Set: ', r2_train)\n",
    "\n",
    "print('Root mean squared error on Testing Set', rmse)\n",
    "print('R2 score on Testing Set: ', r2)"
   ]
  },
  {
   "cell_type": "code",
   "execution_count": null,
   "metadata": {
    "collapsed": true
   },
   "outputs": [],
   "source": []
  },
  {
   "cell_type": "code",
   "execution_count": 232,
   "metadata": {
    "collapsed": false
   },
   "outputs": [
    {
     "name": "stdout",
     "output_type": "stream",
     "text": [
      "{'min_impurity_decrease': 0.0, 'min_weight_fraction_leaf': 0.0, 'max_leaf_nodes': None, 'min_samples_split': 2, 'criterion': 'mse', 'min_samples_leaf': 1, 'max_features': 'auto', 'n_jobs': None, 'max_depth': None, 'n_estimators': 'warn', 'warm_start': False, 'min_impurity_split': None, 'bootstrap': True, 'verbose': 0, 'random_state': 0, 'oob_score': False}\n"
     ]
    }
   ],
   "source": [
    "from sklearn.ensemble import RandomForestRegressor\n",
    "rf = RandomForestRegressor(random_state = 0)\n",
    "print(rf.get_params())"
   ]
  },
  {
   "cell_type": "code",
   "execution_count": 233,
   "metadata": {
    "collapsed": false
   },
   "outputs": [
    {
     "name": "stderr",
     "output_type": "stream",
     "text": [
      "C:\\Program Files\\Anaconda3\\lib\\site-packages\\sklearn\\ensemble\\forest.py:248: FutureWarning: The default value of n_estimators will change from 10 in version 0.20 to 100 in 0.22.\n",
      "  \"10 in version 0.20 to 100 in 0.22.\", FutureWarning)\n"
     ]
    },
    {
     "name": "stdout",
     "output_type": "stream",
     "text": [
      "Root mean squared error on Training Set 8465.792426194916\n",
      "R2 score on Training Set:  0.8958479841495919\n",
      "Root mean squared error on Testing Set 19013.11957513595\n",
      "R2 score on Testing Set:  0.4817311218793705\n"
     ]
    }
   ],
   "source": [
    "rf.fit(X_train,y_train)\n",
    "\n",
    "y_train_predict = rf.predict(X_train)\n",
    "rmse_train = np.sqrt(mean_squared_error(y_train,y_train_predict))\n",
    "r2_train = r2_score(y_train,y_train_predict)\n",
    "\n",
    "y_pred = rf.predict(X_test)\n",
    "rmse = np.sqrt(mean_squared_error(y_test,y_pred))\n",
    "r2 = r2_score(y_test,y_pred)\n",
    "\n",
    "print('Root mean squared error on Training Set', rmse_train)\n",
    "print('R2 score on Training Set: ', r2_train)\n",
    "\n",
    "print('Root mean squared error on Testing Set', rmse)\n",
    "print('R2 score on Testing Set: ', r2)"
   ]
  },
  {
   "cell_type": "code",
   "execution_count": null,
   "metadata": {
    "collapsed": false
   },
   "outputs": [],
   "source": [
    "### Random Hyperparameter Grid"
   ]
  },
  {
   "cell_type": "code",
   "execution_count": 237,
   "metadata": {
    "collapsed": false
   },
   "outputs": [
    {
     "name": "stdout",
     "output_type": "stream",
     "text": [
      "{'max_depth': [10, 22, 35, 47, 60], 'min_samples_split': [50, 100, 150, 200], 'n_estimators': [100, 200, 300, 400, 500, 600, 700, 800, 900, 1000], 'bootstrap': [True, False], 'min_samples_leaf': [20, 30, 50], 'max_features': ['auto', 'sqrt']}\n"
     ]
    }
   ],
   "source": [
    "from sklearn.model_selection import RandomizedSearchCV\n",
    "\n",
    "# Number of trees in random forest\n",
    "n_estimators = [int(x) for x in np.linspace(start = 100, stop = 1000, num = 10)]\n",
    "\n",
    "# Number of features to consider at every split\n",
    "max_features = ['auto', 'sqrt']\n",
    "\n",
    "# Maximum number of levels in tree\n",
    "max_depth = [int(x) for x in np.linspace(10, 60, num = 5)]\n",
    "\n",
    "# Minimum number of samples required to split a node\n",
    "min_samples_split = [50, 100, 150,200]\n",
    "\n",
    "# Minimum number of samples required at each leaf node\n",
    "min_samples_leaf = [20,30,50]\n",
    "\n",
    "# Method of selecting samples for training each tree\n",
    "bootstrap = [True, False]\n",
    "\n",
    "# Create the random grid\n",
    "random_grid = {'n_estimators': n_estimators,\n",
    "               'max_features': max_features,\n",
    "               'max_depth': max_depth,\n",
    "               'min_samples_split': min_samples_split,\n",
    "               'min_samples_leaf': min_samples_leaf,\n",
    "               'bootstrap': bootstrap}\n",
    "print(random_grid)"
   ]
  },
  {
   "cell_type": "code",
   "execution_count": null,
   "metadata": {
    "collapsed": false
   },
   "outputs": [
    {
     "name": "stdout",
     "output_type": "stream",
     "text": [
      "Start of Randomized Search CV  2019-04-20 12:43:47.814352\n"
     ]
    }
   ],
   "source": [
    "# Random search of parameters, using 3 fold cross validation, \n",
    "# search across 100 different combinations, and use all available cores\n",
    "\n",
    "'''\n",
    "The most important arguments in RandomizedSearchCV are n_iter, which controls the number of different combinations to try, \n",
    "and cv which is the number of folds to use for cross validation (we use 100 and 5 respectively). \n",
    "More iterations will cover a wider search space and more cv folds reduces the chances of overfitting, \n",
    "but raising each will increase the run time. Machine learning is a field of trade-offs, and performance vs time is \n",
    "one of the most fundamental. '''\n",
    "import datetime\n",
    "\n",
    "print(\"Start of Randomized Search CV \",datetime.datetime.now())\n",
    "rf_random = RandomizedSearchCV(estimator=rf,param_distributions=random_grid,n_iter=50,random_state=0,n_jobs=-1,cv=5)\n",
    "\n",
    "# Fit the random search model\n",
    "rf_random.fit(X_train, y_train)\n",
    "print(\"End of Randomized Search CV \",datetime.datetime.now())"
   ]
  },
  {
   "cell_type": "code",
   "execution_count": null,
   "metadata": {
    "collapsed": true
   },
   "outputs": [],
   "source": []
  },
  {
   "cell_type": "code",
   "execution_count": null,
   "metadata": {
    "collapsed": true
   },
   "outputs": [],
   "source": []
  },
  {
   "cell_type": "code",
   "execution_count": null,
   "metadata": {
    "collapsed": true
   },
   "outputs": [],
   "source": []
  },
  {
   "cell_type": "code",
   "execution_count": null,
   "metadata": {
    "collapsed": true
   },
   "outputs": [],
   "source": []
  },
  {
   "cell_type": "code",
   "execution_count": null,
   "metadata": {
    "collapsed": true
   },
   "outputs": [],
   "source": []
  },
  {
   "cell_type": "code",
   "execution_count": null,
   "metadata": {
    "collapsed": true
   },
   "outputs": [],
   "source": []
  },
  {
   "cell_type": "code",
   "execution_count": 162,
   "metadata": {
    "collapsed": false
   },
   "outputs": [],
   "source": [
    "a = y_train_predict-y_train\n",
    "a = abs(a)"
   ]
  },
  {
   "cell_type": "code",
   "execution_count": 163,
   "metadata": {
    "collapsed": false
   },
   "outputs": [
    {
     "data": {
      "text/plain": [
       "(78029,)"
      ]
     },
     "execution_count": 163,
     "metadata": {},
     "output_type": "execute_result"
    }
   ],
   "source": [
    "a.shape"
   ]
  },
  {
   "cell_type": "code",
   "execution_count": 164,
   "metadata": {
    "collapsed": false
   },
   "outputs": [
    {
     "data": {
      "text/plain": [
       "87296     19557.301392\n",
       "254468    59811.561016\n",
       "67093     14632.881824\n",
       "49600     62355.460479\n",
       "229323     9510.067599\n",
       "239898      879.821925\n",
       "594       22776.279513\n",
       "35063     16605.623298\n",
       "205830    27319.230750\n",
       "244515    28605.255268\n",
       "87603      7389.964000\n",
       "197466    22013.363988\n",
       "60118     34371.760228\n",
       "84289      5534.408905\n",
       "44707      2888.828931\n",
       "39679     13155.806187\n",
       "135403    18047.654139\n",
       "219151    27946.494380\n",
       "174691      427.267447\n",
       "56489     10283.340841\n",
       "103321    36342.193419\n",
       "56810     10305.093290\n",
       "251077     8577.084116\n",
       "96501      8576.960081\n",
       "67893     46282.855432\n",
       "104766     9829.955561\n",
       "140698    37955.216618\n",
       "125506    51552.676613\n",
       "219560    14217.753218\n",
       "216687    18012.028252\n",
       "              ...     \n",
       "145998     5260.927562\n",
       "108376     9473.258337\n",
       "8442      39299.400081\n",
       "201654     6995.391437\n",
       "259067    13507.481882\n",
       "3842       9580.920986\n",
       "187835     7165.891615\n",
       "34396     13924.938309\n",
       "194598    39737.303596\n",
       "133644     5098.140510\n",
       "44495     11356.647473\n",
       "196680    29556.112173\n",
       "165260    20022.789558\n",
       "189339    12223.539945\n",
       "184466     6980.552385\n",
       "179970     1973.600781\n",
       "209372     7628.050330\n",
       "104722    17435.279377\n",
       "155956    12580.147708\n",
       "195846     5256.965423\n",
       "64871      5439.666025\n",
       "110998    17399.054156\n",
       "164568    31549.804022\n",
       "105754    23746.893996\n",
       "187153    15552.957289\n",
       "49961     13426.560673\n",
       "60083      4756.860976\n",
       "256634    11737.335112\n",
       "201802    14554.440128\n",
       "207178     9519.731438\n",
       "Name: WAGP, dtype: float64"
      ]
     },
     "execution_count": 164,
     "metadata": {},
     "output_type": "execute_result"
    }
   ],
   "source": [
    "a"
   ]
  },
  {
   "cell_type": "code",
   "execution_count": 165,
   "metadata": {
    "collapsed": true
   },
   "outputs": [],
   "source": [
    "b = y_test - y_pred_linear\n",
    "b = abs(b)"
   ]
  },
  {
   "cell_type": "code",
   "execution_count": 166,
   "metadata": {
    "collapsed": false
   },
   "outputs": [
    {
     "data": {
      "text/plain": [
       "(33441,)"
      ]
     },
     "execution_count": 166,
     "metadata": {},
     "output_type": "execute_result"
    }
   ],
   "source": [
    "b.shape"
   ]
  },
  {
   "cell_type": "code",
   "execution_count": 167,
   "metadata": {
    "collapsed": false
   },
   "outputs": [
    {
     "data": {
      "text/html": [
       "<div>\n",
       "<table border=\"1\" class=\"dataframe\">\n",
       "  <thead>\n",
       "    <tr style=\"text-align: right;\">\n",
       "      <th></th>\n",
       "      <th>WAGP</th>\n",
       "    </tr>\n",
       "  </thead>\n",
       "  <tbody>\n",
       "    <tr>\n",
       "      <th>87296</th>\n",
       "      <td>19557.301392</td>\n",
       "    </tr>\n",
       "    <tr>\n",
       "      <th>254468</th>\n",
       "      <td>59811.561016</td>\n",
       "    </tr>\n",
       "    <tr>\n",
       "      <th>67093</th>\n",
       "      <td>14632.881824</td>\n",
       "    </tr>\n",
       "    <tr>\n",
       "      <th>49600</th>\n",
       "      <td>62355.460479</td>\n",
       "    </tr>\n",
       "    <tr>\n",
       "      <th>229323</th>\n",
       "      <td>9510.067599</td>\n",
       "    </tr>\n",
       "  </tbody>\n",
       "</table>\n",
       "</div>"
      ],
      "text/plain": [
       "                WAGP\n",
       "87296   19557.301392\n",
       "254468  59811.561016\n",
       "67093   14632.881824\n",
       "49600   62355.460479\n",
       "229323   9510.067599"
      ]
     },
     "execution_count": 167,
     "metadata": {},
     "output_type": "execute_result"
    }
   ],
   "source": [
    "a_df = pd.DataFrame(data = a)\n",
    "a_df.head()"
   ]
  },
  {
   "cell_type": "code",
   "execution_count": 168,
   "metadata": {
    "collapsed": false
   },
   "outputs": [
    {
     "data": {
      "text/html": [
       "<div>\n",
       "<table border=\"1\" class=\"dataframe\">\n",
       "  <thead>\n",
       "    <tr style=\"text-align: right;\">\n",
       "      <th></th>\n",
       "      <th>Err</th>\n",
       "    </tr>\n",
       "  </thead>\n",
       "  <tbody>\n",
       "    <tr>\n",
       "      <th>87296</th>\n",
       "      <td>19557.301392</td>\n",
       "    </tr>\n",
       "    <tr>\n",
       "      <th>254468</th>\n",
       "      <td>59811.561016</td>\n",
       "    </tr>\n",
       "    <tr>\n",
       "      <th>67093</th>\n",
       "      <td>14632.881824</td>\n",
       "    </tr>\n",
       "    <tr>\n",
       "      <th>49600</th>\n",
       "      <td>62355.460479</td>\n",
       "    </tr>\n",
       "    <tr>\n",
       "      <th>229323</th>\n",
       "      <td>9510.067599</td>\n",
       "    </tr>\n",
       "  </tbody>\n",
       "</table>\n",
       "</div>"
      ],
      "text/plain": [
       "                 Err\n",
       "87296   19557.301392\n",
       "254468  59811.561016\n",
       "67093   14632.881824\n",
       "49600   62355.460479\n",
       "229323   9510.067599"
      ]
     },
     "execution_count": 168,
     "metadata": {},
     "output_type": "execute_result"
    }
   ],
   "source": [
    "a_df.columns = ['Err']\n",
    "a_df.head()"
   ]
  },
  {
   "cell_type": "code",
   "execution_count": 169,
   "metadata": {
    "collapsed": false
   },
   "outputs": [
    {
     "data": {
      "text/html": [
       "<div>\n",
       "<table border=\"1\" class=\"dataframe\">\n",
       "  <thead>\n",
       "    <tr style=\"text-align: right;\">\n",
       "      <th></th>\n",
       "      <th>Err</th>\n",
       "    </tr>\n",
       "  </thead>\n",
       "  <tbody>\n",
       "    <tr>\n",
       "      <th>112973</th>\n",
       "      <td>19667.041176</td>\n",
       "    </tr>\n",
       "    <tr>\n",
       "      <th>151041</th>\n",
       "      <td>14739.818336</td>\n",
       "    </tr>\n",
       "    <tr>\n",
       "      <th>101825</th>\n",
       "      <td>5707.977033</td>\n",
       "    </tr>\n",
       "    <tr>\n",
       "      <th>179989</th>\n",
       "      <td>15853.891486</td>\n",
       "    </tr>\n",
       "    <tr>\n",
       "      <th>177062</th>\n",
       "      <td>27598.518915</td>\n",
       "    </tr>\n",
       "  </tbody>\n",
       "</table>\n",
       "</div>"
      ],
      "text/plain": [
       "                 Err\n",
       "112973  19667.041176\n",
       "151041  14739.818336\n",
       "101825   5707.977033\n",
       "179989  15853.891486\n",
       "177062  27598.518915"
      ]
     },
     "execution_count": 169,
     "metadata": {},
     "output_type": "execute_result"
    }
   ],
   "source": [
    "b_df = pd.DataFrame(data = b)\n",
    "b_df.columns = ['Err']\n",
    "b_df.head()"
   ]
  },
  {
   "cell_type": "code",
   "execution_count": 170,
   "metadata": {
    "collapsed": false
   },
   "outputs": [],
   "source": [
    "error_df = pd.concat([a_df,b_df])"
   ]
  },
  {
   "cell_type": "code",
   "execution_count": 171,
   "metadata": {
    "collapsed": false
   },
   "outputs": [
    {
     "data": {
      "text/plain": [
       "(111470, 1)"
      ]
     },
     "execution_count": 171,
     "metadata": {},
     "output_type": "execute_result"
    }
   ],
   "source": [
    "error_df.shape"
   ]
  },
  {
   "cell_type": "code",
   "execution_count": 172,
   "metadata": {
    "collapsed": false
   },
   "outputs": [
    {
     "ename": "NameError",
     "evalue": "name 'df6' is not defined",
     "output_type": "error",
     "traceback": [
      "\u001b[0;31m---------------------------------------------------------------------------\u001b[0m",
      "\u001b[0;31mNameError\u001b[0m                                 Traceback (most recent call last)",
      "\u001b[0;32m<ipython-input-172-265c8fdd4c29>\u001b[0m in \u001b[0;36m<module>\u001b[0;34m()\u001b[0m\n\u001b[0;32m----> 1\u001b[0;31m \u001b[0mdf6\u001b[0m\u001b[1;33m[\u001b[0m\u001b[1;34m'Error'\u001b[0m\u001b[1;33m]\u001b[0m \u001b[1;33m=\u001b[0m \u001b[0merror_df\u001b[0m\u001b[1;33m\u001b[0m\u001b[0m\n\u001b[0m",
      "\u001b[0;31mNameError\u001b[0m: name 'df6' is not defined"
     ]
    }
   ],
   "source": [
    "df6['Error'] = error_df"
   ]
  },
  {
   "cell_type": "code",
   "execution_count": null,
   "metadata": {
    "collapsed": false
   },
   "outputs": [],
   "source": [
    "df6.columns"
   ]
  },
  {
   "cell_type": "code",
   "execution_count": null,
   "metadata": {
    "collapsed": false
   },
   "outputs": [],
   "source": [
    "df6.shape"
   ]
  },
  {
   "cell_type": "code",
   "execution_count": null,
   "metadata": {
    "collapsed": false
   },
   "outputs": [],
   "source": [
    "df6_sorted = df6.sort_values(by='Error',ascending=False)"
   ]
  },
  {
   "cell_type": "code",
   "execution_count": null,
   "metadata": {
    "collapsed": false
   },
   "outputs": [],
   "source": [
    "df6_sorted.head()"
   ]
  },
  {
   "cell_type": "code",
   "execution_count": null,
   "metadata": {
    "collapsed": false
   },
   "outputs": [],
   "source": [
    "df6_sorted.to_csv('df6_err.csv',index=False)"
   ]
  },
  {
   "cell_type": "code",
   "execution_count": null,
   "metadata": {
    "collapsed": false
   },
   "outputs": [],
   "source": [
    "df6_sorted.iloc[59317,:]"
   ]
  },
  {
   "cell_type": "code",
   "execution_count": null,
   "metadata": {
    "collapsed": false
   },
   "outputs": [],
   "source": [
    "df6_sorted.head()"
   ]
  },
  {
   "cell_type": "code",
   "execution_count": null,
   "metadata": {
    "collapsed": false
   },
   "outputs": [],
   "source": [
    "df7 = df6_sorted.copy()"
   ]
  },
  {
   "cell_type": "code",
   "execution_count": null,
   "metadata": {
    "collapsed": false
   },
   "outputs": [],
   "source": [
    "idx = pd.Series(np.arange(0,len(df7)))\n",
    "df7.set_index(idx)"
   ]
  },
  {
   "cell_type": "code",
   "execution_count": null,
   "metadata": {
    "collapsed": true
   },
   "outputs": [],
   "source": [
    "### Model 1 - Error 50k and above"
   ]
  },
  {
   "cell_type": "code",
   "execution_count": null,
   "metadata": {
    "collapsed": false
   },
   "outputs": [],
   "source": [
    "#df8 = df7.iloc[0:59318,:]\n",
    "df8 = df7.iloc[0:1765,:]"
   ]
  },
  {
   "cell_type": "code",
   "execution_count": null,
   "metadata": {
    "collapsed": false
   },
   "outputs": [],
   "source": [
    "df8.shape"
   ]
  },
  {
   "cell_type": "code",
   "execution_count": null,
   "metadata": {
    "collapsed": false
   },
   "outputs": [],
   "source": [
    "df8.head()"
   ]
  },
  {
   "cell_type": "code",
   "execution_count": null,
   "metadata": {
    "collapsed": true
   },
   "outputs": [],
   "source": [
    "df9 = df8.copy() #backup of err dataframe final"
   ]
  },
  {
   "cell_type": "code",
   "execution_count": null,
   "metadata": {
    "collapsed": true
   },
   "outputs": [],
   "source": [
    "df9.drop(['Error'],axis=1,inplace=True)"
   ]
  },
  {
   "cell_type": "code",
   "execution_count": null,
   "metadata": {
    "collapsed": false
   },
   "outputs": [],
   "source": [
    "df9.corr()"
   ]
  },
  {
   "cell_type": "code",
   "execution_count": null,
   "metadata": {
    "collapsed": false
   },
   "outputs": [],
   "source": []
  },
  {
   "cell_type": "code",
   "execution_count": null,
   "metadata": {
    "collapsed": false
   },
   "outputs": [],
   "source": [
    "sns.boxplot(df9['WAGP'])"
   ]
  },
  {
   "cell_type": "code",
   "execution_count": null,
   "metadata": {
    "collapsed": false
   },
   "outputs": [],
   "source": [
    "df9 = df9[df9['WAGP'] > 60000]\n",
    "df9.shape"
   ]
  },
  {
   "cell_type": "code",
   "execution_count": null,
   "metadata": {
    "collapsed": false
   },
   "outputs": [],
   "source": [
    "sns.boxplot(df9['WAGP'])"
   ]
  },
  {
   "cell_type": "code",
   "execution_count": null,
   "metadata": {
    "collapsed": false
   },
   "outputs": [],
   "source": [
    "sns.boxplot(df9['WKHP'])"
   ]
  },
  {
   "cell_type": "code",
   "execution_count": null,
   "metadata": {
    "collapsed": false
   },
   "outputs": [],
   "source": [
    "df9 = df9[(df9['WKHP'] > 30) & (df9['WKHP'] < 60)]\n",
    "df9.shape"
   ]
  },
  {
   "cell_type": "code",
   "execution_count": null,
   "metadata": {
    "collapsed": false
   },
   "outputs": [],
   "source": [
    "X1 = df9.loc[:,~df9.columns.isin(['WAGP'])]\n",
    "y1 = df9['WAGP']\n",
    "X_dummy1 = pd.get_dummies(X1,drop_first=True,prefix_sep='_')\n",
    "X_dummy1.shape\n",
    "\n",
    "from sklearn.linear_model import LinearRegression\n",
    "from sklearn.metrics import r2_score, mean_squared_error\n",
    "from sklearn.model_selection import train_test_split\n",
    "\n",
    "X_train,X_test,y_train,y_test= train_test_split(X_dummy1,y1,test_size=0.3,random_state=70)\n",
    "linear_model = LinearRegression().fit(X_train,y_train)\n",
    "\n",
    "y_train_predict = linear_model.predict(X_train)\n",
    "rmse_train = np.sqrt(mean_squared_error(y_train,y_train_predict))\n",
    "r2_train = r2_score(y_train,y_train_predict)\n",
    "\n",
    "y_pred_linear = linear_model.predict(X_test)\n",
    "rmse = np.sqrt(mean_squared_error(y_test,y_pred_linear))\n",
    "r2 = r2_score(y_test,y_pred_linear)\n",
    "\n",
    "print('Root mean squared error on Training Set', rmse_train)\n",
    "print('R2 score on Training Set: ', r2_train)\n",
    "\n",
    "print('Root mean squared error on Testing Set', rmse)\n",
    "print('R2 score on Testing Set: ', r2)"
   ]
  },
  {
   "cell_type": "markdown",
   "metadata": {},
   "source": [
    "## MOdel 2 - 30k- 50k"
   ]
  },
  {
   "cell_type": "code",
   "execution_count": null,
   "metadata": {
    "collapsed": true
   },
   "outputs": [],
   "source": [
    "#df8 = df7.iloc[1765:11620,:]\n",
    "df8 = df7.iloc[1765:111471,:]\n",
    "df8.shape\n",
    "df9 = df8.copy()"
   ]
  },
  {
   "cell_type": "code",
   "execution_count": null,
   "metadata": {
    "collapsed": true
   },
   "outputs": [],
   "source": [
    "df9.drop(['Error'],axis=1,inplace=True)"
   ]
  },
  {
   "cell_type": "code",
   "execution_count": null,
   "metadata": {
    "collapsed": false
   },
   "outputs": [],
   "source": [
    "df9.corr()"
   ]
  },
  {
   "cell_type": "code",
   "execution_count": null,
   "metadata": {
    "collapsed": false
   },
   "outputs": [],
   "source": [
    "sns.boxplot(df9['WAGP'])"
   ]
  },
  {
   "cell_type": "code",
   "execution_count": null,
   "metadata": {
    "collapsed": false
   },
   "outputs": [],
   "source": [
    "sns.boxplot(df9['WKHP'])"
   ]
  },
  {
   "cell_type": "code",
   "execution_count": null,
   "metadata": {
    "collapsed": false
   },
   "outputs": [],
   "source": [
    "df9 = df9[(df9['WKHP'] > 30) & (df9['WKHP'] < 60)]\n",
    "df9.shape"
   ]
  },
  {
   "cell_type": "code",
   "execution_count": null,
   "metadata": {
    "collapsed": false
   },
   "outputs": [],
   "source": [
    "X1 = df9.loc[:,~df9.columns.isin(['WAGP'])]\n",
    "y1 = df9['WAGP']\n",
    "X_dummy1 = pd.get_dummies(X1,drop_first=True,prefix_sep='_')\n",
    "X_dummy1.shape\n",
    "\n",
    "from sklearn.linear_model import LinearRegression\n",
    "from sklearn.metrics import r2_score, mean_squared_error\n",
    "from sklearn.model_selection import train_test_split\n",
    "\n",
    "X_train,X_test,y_train,y_test= train_test_split(X_dummy1,y1,test_size=0.3,random_state=70)\n",
    "linear_model = LinearRegression().fit(X_train,y_train)\n",
    "\n",
    "y_train_predict = linear_model.predict(X_train)\n",
    "rmse_train = np.sqrt(mean_squared_error(y_train,y_train_predict))\n",
    "r2_train = r2_score(y_train,y_train_predict)\n",
    "\n",
    "y_pred_linear = linear_model.predict(X_test)\n",
    "rmse = np.sqrt(mean_squared_error(y_test,y_pred_linear))\n",
    "r2 = r2_score(y_test,y_pred_linear)\n",
    "\n",
    "print('Root mean squared error on Training Set', rmse_train)\n",
    "print('R2 score on Training Set: ', r2_train)\n",
    "\n",
    "print('Root mean squared error on Testing Set', rmse)\n",
    "print('R2 score on Testing Set: ', r2)"
   ]
  },
  {
   "cell_type": "code",
   "execution_count": null,
   "metadata": {
    "collapsed": true
   },
   "outputs": [],
   "source": []
  },
  {
   "cell_type": "code",
   "execution_count": null,
   "metadata": {
    "collapsed": true
   },
   "outputs": [],
   "source": []
  },
  {
   "cell_type": "code",
   "execution_count": null,
   "metadata": {
    "collapsed": true
   },
   "outputs": [],
   "source": []
  },
  {
   "cell_type": "code",
   "execution_count": null,
   "metadata": {
    "collapsed": false
   },
   "outputs": [],
   "source": [
    "df7.to_csv('df7.csv',index=False)\n",
    "df7.iloc[0:10,:]"
   ]
  },
  {
   "cell_type": "code",
   "execution_count": null,
   "metadata": {
    "collapsed": true
   },
   "outputs": [],
   "source": [
    "## Lasso"
   ]
  },
  {
   "cell_type": "code",
   "execution_count": null,
   "metadata": {
    "collapsed": false
   },
   "outputs": [],
   "source": [
    "from sklearn.linear_model import Lasso\n",
    "lasso_reg = Lasso(alpha=1,random_state=0,max_iter=2000)\n",
    "lasso_reg.fit(X_train,y_train)\n",
    "y_pred_lasso = linear_model.predict(X_test)\n",
    "\n",
    "rmse = np.sqrt(mean_squared_error(y_test,y_pred_lasso))\n",
    "r2 = r2_score(y_test,y_pred_lasso)\n",
    "\n",
    "print('Root mean squared error on Testing Set', rmse)\n",
    "print('R2 score on Testing Set: ', r2)"
   ]
  },
  {
   "cell_type": "code",
   "execution_count": null,
   "metadata": {
    "collapsed": true
   },
   "outputs": [],
   "source": [
    "## Ridge"
   ]
  },
  {
   "cell_type": "code",
   "execution_count": null,
   "metadata": {
    "collapsed": false
   },
   "outputs": [],
   "source": [
    "from sklearn.linear_model import Ridge\n",
    "ridge_reg = Ridge(random_state=0)\n",
    "ridge_reg.fit(X_train,y_train)\n",
    "y_pred_ridge = linear_model.predict(X_test)\n",
    "\n",
    "rmse = np.sqrt(mean_squared_error(y_test,y_pred_ridge))\n",
    "r2 = r2_score(y_test,y_pred_ridge)\n",
    "\n",
    "print('Root mean squared error on Testing Set', rmse)\n",
    "print('R2 score on Testing Set: ', r2)"
   ]
  },
  {
   "cell_type": "markdown",
   "metadata": {},
   "source": [
    "### Trying Polynomial features"
   ]
  },
  {
   "cell_type": "code",
   "execution_count": null,
   "metadata": {
    "collapsed": false
   },
   "outputs": [],
   "source": [
    "sns.scatterplot(df3['WAGP'],df3['JWMNP'])"
   ]
  },
  {
   "cell_type": "code",
   "execution_count": null,
   "metadata": {
    "collapsed": false
   },
   "outputs": [],
   "source": [
    "sns.scatterplot(df3['WAGP'],df3['AGEP'])"
   ]
  },
  {
   "cell_type": "code",
   "execution_count": null,
   "metadata": {
    "collapsed": false
   },
   "outputs": [],
   "source": [
    "sns.scatterplot(df3['WAGP'],df3['WKHP'])"
   ]
  },
  {
   "cell_type": "code",
   "execution_count": null,
   "metadata": {
    "collapsed": true
   },
   "outputs": [],
   "source": [
    "df4 = df3.copy()"
   ]
  },
  {
   "cell_type": "code",
   "execution_count": null,
   "metadata": {
    "collapsed": false
   },
   "outputs": [],
   "source": [
    "df9['WKHP_2'] = df9['WKHP'] * df9['WKHP']  \n",
    "df9['WKW_2'] = df9['WKW'] * df9['WKW']\n",
    "df9['AGEP_2'] = df9['AGEP'] * df9['AGEP']\n",
    "df9['JWMNP_2'] = df9['JWMNP'] * df9['JWMNP']\n",
    "df9.shape"
   ]
  },
  {
   "cell_type": "code",
   "execution_count": null,
   "metadata": {
    "collapsed": false
   },
   "outputs": [],
   "source": [
    "df9['WKHP_3'] = df9['WKHP'] * df9['WKHP']  * df9['WKHP']  \n",
    "df9['WKW_3'] = df9['WKW'] * df9['WKW'] * df9['WKW']\n",
    "df9['AGEP_3'] = df9['AGEP'] * df9['AGEP'] * df9['AGEP']\n",
    "df9['JWMNP_3'] = df9['JWMNP'] * df9['JWMNP'] * df9['JWMNP']\n",
    "df9.shape"
   ]
  },
  {
   "cell_type": "code",
   "execution_count": null,
   "metadata": {
    "collapsed": false
   },
   "outputs": [],
   "source": [
    "df4['WKHP_4'] = df4['WKHP'] * df4['WKHP']  * df4['WKHP']  * df4['WKHP']  \n",
    "df4['WKW_4'] = df4['WKW'] * df4['WKW'] * df4['WKW'] * df4['WKW']\n",
    "df4['AGEP_4'] = df4['AGEP'] * df4['AGEP'] * df4['AGEP'] * df4['AGEP']\n",
    "df4['JWMNP_4'] = df4['JWMNP'] * df4['JWMNP'] * df4['JWMNP'] * df4['JWMNP']\n",
    "df4.shape"
   ]
  },
  {
   "cell_type": "code",
   "execution_count": null,
   "metadata": {
    "collapsed": false
   },
   "outputs": [],
   "source": [
    "df4.columns"
   ]
  },
  {
   "cell_type": "code",
   "execution_count": null,
   "metadata": {
    "collapsed": false
   },
   "outputs": [],
   "source": [
    "df4.ESR.value_counts()"
   ]
  },
  {
   "cell_type": "code",
   "execution_count": null,
   "metadata": {
    "collapsed": true
   },
   "outputs": [],
   "source": [
    "# Combining 1 and 2, 4 and 5 as they belong to Civilian and Armed forces category\n",
    "replace_esr = {2:1,5:4}\n",
    "df4['ESR'] = df4['ESR'].replace(replace_esr)"
   ]
  },
  {
   "cell_type": "code",
   "execution_count": null,
   "metadata": {
    "collapsed": false
   },
   "outputs": [],
   "source": [
    "#df4.drop(['NWAB'],axis=1,inplace=True)\n",
    "#df4.drop(['NWAB','NWAV','NWLA','NWLK'],axis=1,inplace=True)\n",
    "df4.shape"
   ]
  },
  {
   "cell_type": "code",
   "execution_count": null,
   "metadata": {
    "collapsed": false
   },
   "outputs": [],
   "source": [
    "df4.NAICSP_Cat.value_counts()"
   ]
  },
  {
   "cell_type": "code",
   "execution_count": null,
   "metadata": {
    "collapsed": false
   },
   "outputs": [],
   "source": [
    "df4.SOCP_Cat.value_counts()"
   ]
  },
  {
   "cell_type": "code",
   "execution_count": null,
   "metadata": {
    "collapsed": false
   },
   "outputs": [],
   "source": [
    "\n",
    "Xp = df9.loc[:,~df9.columns.isin(['WAGP'])]\n",
    "yp = df9['WAGP']\n",
    "X_dummy_p = pd.get_dummies(Xp,drop_first=True,prefix_sep='_')\n",
    "X_dummy_p.shape\n",
    "\n",
    "X_train1,X_test1,y_train1,y_test1= train_test_split(X_dummy_p,yp,test_size=0.3,random_state=70)\n",
    "linear_model = LinearRegression().fit(X_train1,y_train1)\n",
    "\n",
    "y_train_predict = linear_model.predict(X_train1)\n",
    "rmse_train = np.sqrt(mean_squared_error(y_train1,y_train_predict))\n",
    "r2_train = r2_score(y_train,y_train_predict)\n",
    "\n",
    "y_pred_linear = linear_model.predict(X_test1)\n",
    "rmse = np.sqrt(mean_squared_error(y_test1,y_pred_linear))\n",
    "r2 = r2_score(y_test,y_pred_linear)\n",
    "\n",
    "print('Root mean squared error on Training Set', rmse_train)\n",
    "print('R2 score on Training Set: ', r2_train)\n",
    "\n",
    "print('Root mean squared error on Testing Set', rmse)\n",
    "print('R2 score on Testing Set: ', r2)"
   ]
  },
  {
   "cell_type": "code",
   "execution_count": null,
   "metadata": {
    "collapsed": false
   },
   "outputs": [],
   "source": [
    "sns.boxplot(df9['JWMNP'])"
   ]
  },
  {
   "cell_type": "code",
   "execution_count": null,
   "metadata": {
    "collapsed": false
   },
   "outputs": [],
   "source": [
    "sns.boxplot(df9['WKHP'])"
   ]
  },
  {
   "cell_type": "code",
   "execution_count": null,
   "metadata": {
    "collapsed": false
   },
   "outputs": [],
   "source": [
    "sns.boxplot(df9['WKW'])"
   ]
  },
  {
   "cell_type": "code",
   "execution_count": null,
   "metadata": {
    "collapsed": true
   },
   "outputs": [],
   "source": []
  },
  {
   "cell_type": "code",
   "execution_count": null,
   "metadata": {
    "collapsed": true
   },
   "outputs": [],
   "source": []
  },
  {
   "cell_type": "code",
   "execution_count": null,
   "metadata": {
    "collapsed": true
   },
   "outputs": [],
   "source": []
  }
 ],
 "metadata": {
  "anaconda-cloud": {},
  "kernelspec": {
   "display_name": "Python [default]",
   "language": "python",
   "name": "python3"
  },
  "language_info": {
   "codemirror_mode": {
    "name": "ipython",
    "version": 3
   },
   "file_extension": ".py",
   "mimetype": "text/x-python",
   "name": "python",
   "nbconvert_exporter": "python",
   "pygments_lexer": "ipython3",
   "version": "3.5.2"
  }
 },
 "nbformat": 4,
 "nbformat_minor": 1
}
