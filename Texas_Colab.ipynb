{
 "cells": [
  {
   "cell_type": "markdown",
   "metadata": {
    "colab_type": "text",
    "collapsed": true,
    "id": "bRHLuzyJhX4g"
   },
   "source": [
    "## Texas Employment - ACS 2015\n",
    "The CSV file contains data from the 2015 American Community Survey. It is limited to Texas, and contains a subset of the total survey variables related to employment. Each row is a person."
   ]
  },
  {
   "cell_type": "code",
   "execution_count": 5,
   "metadata": {
    "colab": {
     "base_uri": "https://localhost:8080/",
     "height": 74,
     "resources": {
      "http://localhost:8080/nbextensions/google.colab/files.js": {
       "data": "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",
       "headers": [
        [
         "content-type",
         "application/javascript"
        ]
       ],
       "ok": true,
       "status": 200,
       "status_text": ""
      }
     }
    },
    "colab_type": "code",
    "collapsed": false,
    "id": "L634mP-ChX4j",
    "outputId": "1340d9d8-4b05-445e-b73a-2163fc9e571b"
   },
   "outputs": [
    {
     "data": {
      "text/html": [
       "\n",
       "     <input type=\"file\" id=\"files-6a3ebeed-c54d-42aa-909a-f8b8241f4ee0\" name=\"files[]\" multiple disabled />\n",
       "     <output id=\"result-6a3ebeed-c54d-42aa-909a-f8b8241f4ee0\">\n",
       "      Upload widget is only available when the cell has been executed in the\n",
       "      current browser session. Please rerun this cell to enable.\n",
       "      </output>\n",
       "      <script src=\"/nbextensions/google.colab/files.js\"></script> "
      ],
      "text/plain": [
       "<IPython.core.display.HTML object>"
      ]
     },
     "metadata": {
      "tags": []
     },
     "output_type": "display_data"
    },
    {
     "name": "stdout",
     "output_type": "stream",
     "text": [
      "Saving Texas_data.csv to Texas_data.csv\n"
     ]
    }
   ],
   "source": [
    "import pandas as pd\n",
    "import numpy as np\n",
    "\n",
    "from google.colab import files\n",
    "uploaded = files.upload()"
   ]
  },
  {
   "cell_type": "markdown",
   "metadata": {
    "colab_type": "text",
    "id": "NlMCEt_thX4t"
   },
   "source": [
    "## 1. Data Cleaning"
   ]
  },
  {
   "cell_type": "code",
   "execution_count": 0,
   "metadata": {
    "colab": {},
    "colab_type": "code",
    "collapsed": true,
    "id": "Bd9lhc8LhX4v"
   },
   "outputs": [],
   "source": [
    "import io\n",
    "df = pd.read_csv(io.BytesIO(uploaded['Texas_data.csv']))"
   ]
  },
  {
   "cell_type": "code",
   "execution_count": 1,
   "metadata": {
    "collapsed": true
   },
   "outputs": [],
   "source": [
    "import pandas as pd\n",
    "import numpy as np\n",
    "\n",
    "df = pd.read_csv('Texas_data.csv')"
   ]
  },
  {
   "cell_type": "code",
   "execution_count": 2,
   "metadata": {
    "colab": {
     "base_uri": "https://localhost:8080/",
     "height": 34
    },
    "colab_type": "code",
    "collapsed": false,
    "id": "UwSMv8A0oi9W",
    "outputId": "e9a2f0da-57d5-4d5b-d634-b73a608b1b09"
   },
   "outputs": [
    {
     "data": {
      "text/plain": [
       "(259224, 21)"
      ]
     },
     "execution_count": 2,
     "metadata": {},
     "output_type": "execute_result"
    }
   ],
   "source": [
    "df.shape"
   ]
  },
  {
   "cell_type": "code",
   "execution_count": 3,
   "metadata": {
    "colab": {
     "base_uri": "https://localhost:8080/",
     "height": 386
    },
    "colab_type": "code",
    "collapsed": false,
    "id": "9hTYAtE0hX46",
    "outputId": "d7ec6333-71c0-4764-ff20-3214b40177f1"
   },
   "outputs": [
    {
     "data": {
      "text/plain": [
       "ID           int64\n",
       "ST           int64\n",
       "PUMA         int64\n",
       "JWMNP      float64\n",
       "SCHL       float64\n",
       "WAGP       float64\n",
       "WKHP       float64\n",
       "WKW        float64\n",
       "ESR        float64\n",
       "FOD1P      float64\n",
       "NAICSP      object\n",
       "JWAP       float64\n",
       "JWDP       float64\n",
       "SOCP        object\n",
       "POWPUMA    float64\n",
       "POWSP      float64\n",
       "NWAB       float64\n",
       "NWAV       float64\n",
       "NWLA       float64\n",
       "NWLK       float64\n",
       "AGEP         int64\n",
       "dtype: object"
      ]
     },
     "execution_count": 3,
     "metadata": {},
     "output_type": "execute_result"
    }
   ],
   "source": [
    "df.dtypes"
   ]
  },
  {
   "cell_type": "code",
   "execution_count": 4,
   "metadata": {
    "colab": {
     "base_uri": "https://localhost:8080/",
     "height": 304
    },
    "colab_type": "code",
    "collapsed": false,
    "id": "-enTgq88hX6h",
    "outputId": "597e9b81-66e6-47c9-8339-48dc607ac4eb"
   },
   "outputs": [
    {
     "name": "stderr",
     "output_type": "stream",
     "text": [
      "C:\\Program Files\\Anaconda3\\lib\\site-packages\\numpy\\lib\\function_base.py:3652: RuntimeWarning: Invalid value encountered in percentile\n",
      "  interpolation=interpolation)\n"
     ]
    },
    {
     "data": {
      "text/html": [
       "<div>\n",
       "<table border=\"1\" class=\"dataframe\">\n",
       "  <thead>\n",
       "    <tr style=\"text-align: right;\">\n",
       "      <th></th>\n",
       "      <th>ID</th>\n",
       "      <th>ST</th>\n",
       "      <th>PUMA</th>\n",
       "      <th>JWMNP</th>\n",
       "      <th>SCHL</th>\n",
       "      <th>WAGP</th>\n",
       "      <th>WKHP</th>\n",
       "      <th>WKW</th>\n",
       "      <th>ESR</th>\n",
       "      <th>FOD1P</th>\n",
       "      <th>JWAP</th>\n",
       "      <th>JWDP</th>\n",
       "      <th>POWPUMA</th>\n",
       "      <th>POWSP</th>\n",
       "      <th>NWAB</th>\n",
       "      <th>NWAV</th>\n",
       "      <th>NWLA</th>\n",
       "      <th>NWLK</th>\n",
       "      <th>AGEP</th>\n",
       "    </tr>\n",
       "  </thead>\n",
       "  <tbody>\n",
       "    <tr>\n",
       "      <th>count</th>\n",
       "      <td>259224.000000</td>\n",
       "      <td>259224.0</td>\n",
       "      <td>259224.000000</td>\n",
       "      <td>109500.000000</td>\n",
       "      <td>250232.000000</td>\n",
       "      <td>208917.000000</td>\n",
       "      <td>129932.000000</td>\n",
       "      <td>129932.000000</td>\n",
       "      <td>205266.000000</td>\n",
       "      <td>53917.000000</td>\n",
       "      <td>109500.000000</td>\n",
       "      <td>109500.000000</td>\n",
       "      <td>114898.000000</td>\n",
       "      <td>114898.000000</td>\n",
       "      <td>205266.000000</td>\n",
       "      <td>205266.000000</td>\n",
       "      <td>205266.000000</td>\n",
       "      <td>205266.000000</td>\n",
       "      <td>259224.000000</td>\n",
       "    </tr>\n",
       "    <tr>\n",
       "      <th>mean</th>\n",
       "      <td>129612.500000</td>\n",
       "      <td>48.0</td>\n",
       "      <td>3680.988975</td>\n",
       "      <td>26.227854</td>\n",
       "      <td>15.345056</td>\n",
       "      <td>28058.387857</td>\n",
       "      <td>39.670474</td>\n",
       "      <td>1.839023</td>\n",
       "      <td>3.080929</td>\n",
       "      <td>4287.323794</td>\n",
       "      <td>101.523059</td>\n",
       "      <td>53.121233</td>\n",
       "      <td>3659.174120</td>\n",
       "      <td>48.110054</td>\n",
       "      <td>2.594375</td>\n",
       "      <td>4.737083</td>\n",
       "      <td>2.581801</td>\n",
       "      <td>2.568940</td>\n",
       "      <td>38.938578</td>\n",
       "    </tr>\n",
       "    <tr>\n",
       "      <th>std</th>\n",
       "      <td>74831.667428</td>\n",
       "      <td>0.0</td>\n",
       "      <td>1781.547603</td>\n",
       "      <td>22.971057</td>\n",
       "      <td>5.933604</td>\n",
       "      <td>52571.880706</td>\n",
       "      <td>13.257255</td>\n",
       "      <td>1.599018</td>\n",
       "      <td>2.413022</td>\n",
       "      <td>1756.026684</td>\n",
       "      <td>40.762345</td>\n",
       "      <td>28.046385</td>\n",
       "      <td>1858.342203</td>\n",
       "      <td>9.955156</td>\n",
       "      <td>0.514133</td>\n",
       "      <td>0.922556</td>\n",
       "      <td>0.508228</td>\n",
       "      <td>0.564185</td>\n",
       "      <td>23.319435</td>\n",
       "    </tr>\n",
       "    <tr>\n",
       "      <th>min</th>\n",
       "      <td>1.000000</td>\n",
       "      <td>48.0</td>\n",
       "      <td>100.000000</td>\n",
       "      <td>1.000000</td>\n",
       "      <td>1.000000</td>\n",
       "      <td>0.000000</td>\n",
       "      <td>1.000000</td>\n",
       "      <td>1.000000</td>\n",
       "      <td>1.000000</td>\n",
       "      <td>1100.000000</td>\n",
       "      <td>1.000000</td>\n",
       "      <td>1.000000</td>\n",
       "      <td>1.000000</td>\n",
       "      <td>1.000000</td>\n",
       "      <td>1.000000</td>\n",
       "      <td>1.000000</td>\n",
       "      <td>1.000000</td>\n",
       "      <td>1.000000</td>\n",
       "      <td>0.000000</td>\n",
       "    </tr>\n",
       "    <tr>\n",
       "      <th>25%</th>\n",
       "      <td>64806.750000</td>\n",
       "      <td>48.0</td>\n",
       "      <td>2309.000000</td>\n",
       "      <td>NaN</td>\n",
       "      <td>NaN</td>\n",
       "      <td>NaN</td>\n",
       "      <td>NaN</td>\n",
       "      <td>NaN</td>\n",
       "      <td>NaN</td>\n",
       "      <td>NaN</td>\n",
       "      <td>NaN</td>\n",
       "      <td>NaN</td>\n",
       "      <td>NaN</td>\n",
       "      <td>NaN</td>\n",
       "      <td>NaN</td>\n",
       "      <td>NaN</td>\n",
       "      <td>NaN</td>\n",
       "      <td>NaN</td>\n",
       "      <td>19.000000</td>\n",
       "    </tr>\n",
       "    <tr>\n",
       "      <th>50%</th>\n",
       "      <td>129612.500000</td>\n",
       "      <td>48.0</td>\n",
       "      <td>3700.000000</td>\n",
       "      <td>NaN</td>\n",
       "      <td>NaN</td>\n",
       "      <td>NaN</td>\n",
       "      <td>NaN</td>\n",
       "      <td>NaN</td>\n",
       "      <td>NaN</td>\n",
       "      <td>NaN</td>\n",
       "      <td>NaN</td>\n",
       "      <td>NaN</td>\n",
       "      <td>NaN</td>\n",
       "      <td>NaN</td>\n",
       "      <td>NaN</td>\n",
       "      <td>NaN</td>\n",
       "      <td>NaN</td>\n",
       "      <td>NaN</td>\n",
       "      <td>39.000000</td>\n",
       "    </tr>\n",
       "    <tr>\n",
       "      <th>75%</th>\n",
       "      <td>194418.250000</td>\n",
       "      <td>48.0</td>\n",
       "      <td>5100.000000</td>\n",
       "      <td>NaN</td>\n",
       "      <td>NaN</td>\n",
       "      <td>NaN</td>\n",
       "      <td>NaN</td>\n",
       "      <td>NaN</td>\n",
       "      <td>NaN</td>\n",
       "      <td>NaN</td>\n",
       "      <td>NaN</td>\n",
       "      <td>NaN</td>\n",
       "      <td>NaN</td>\n",
       "      <td>NaN</td>\n",
       "      <td>NaN</td>\n",
       "      <td>NaN</td>\n",
       "      <td>NaN</td>\n",
       "      <td>NaN</td>\n",
       "      <td>58.000000</td>\n",
       "    </tr>\n",
       "    <tr>\n",
       "      <th>max</th>\n",
       "      <td>259224.000000</td>\n",
       "      <td>48.0</td>\n",
       "      <td>6900.000000</td>\n",
       "      <td>159.000000</td>\n",
       "      <td>24.000000</td>\n",
       "      <td>451000.000000</td>\n",
       "      <td>99.000000</td>\n",
       "      <td>6.000000</td>\n",
       "      <td>6.000000</td>\n",
       "      <td>6403.000000</td>\n",
       "      <td>285.000000</td>\n",
       "      <td>150.000000</td>\n",
       "      <td>59300.000000</td>\n",
       "      <td>555.000000</td>\n",
       "      <td>3.000000</td>\n",
       "      <td>5.000000</td>\n",
       "      <td>3.000000</td>\n",
       "      <td>3.000000</td>\n",
       "      <td>92.000000</td>\n",
       "    </tr>\n",
       "  </tbody>\n",
       "</table>\n",
       "</div>"
      ],
      "text/plain": [
       "                  ID        ST           PUMA          JWMNP           SCHL  \\\n",
       "count  259224.000000  259224.0  259224.000000  109500.000000  250232.000000   \n",
       "mean   129612.500000      48.0    3680.988975      26.227854      15.345056   \n",
       "std     74831.667428       0.0    1781.547603      22.971057       5.933604   \n",
       "min         1.000000      48.0     100.000000       1.000000       1.000000   \n",
       "25%     64806.750000      48.0    2309.000000            NaN            NaN   \n",
       "50%    129612.500000      48.0    3700.000000            NaN            NaN   \n",
       "75%    194418.250000      48.0    5100.000000            NaN            NaN   \n",
       "max    259224.000000      48.0    6900.000000     159.000000      24.000000   \n",
       "\n",
       "                WAGP           WKHP            WKW            ESR  \\\n",
       "count  208917.000000  129932.000000  129932.000000  205266.000000   \n",
       "mean    28058.387857      39.670474       1.839023       3.080929   \n",
       "std     52571.880706      13.257255       1.599018       2.413022   \n",
       "min         0.000000       1.000000       1.000000       1.000000   \n",
       "25%              NaN            NaN            NaN            NaN   \n",
       "50%              NaN            NaN            NaN            NaN   \n",
       "75%              NaN            NaN            NaN            NaN   \n",
       "max    451000.000000      99.000000       6.000000       6.000000   \n",
       "\n",
       "              FOD1P           JWAP           JWDP        POWPUMA  \\\n",
       "count  53917.000000  109500.000000  109500.000000  114898.000000   \n",
       "mean    4287.323794     101.523059      53.121233    3659.174120   \n",
       "std     1756.026684      40.762345      28.046385    1858.342203   \n",
       "min     1100.000000       1.000000       1.000000       1.000000   \n",
       "25%             NaN            NaN            NaN            NaN   \n",
       "50%             NaN            NaN            NaN            NaN   \n",
       "75%             NaN            NaN            NaN            NaN   \n",
       "max     6403.000000     285.000000     150.000000   59300.000000   \n",
       "\n",
       "               POWSP           NWAB           NWAV           NWLA  \\\n",
       "count  114898.000000  205266.000000  205266.000000  205266.000000   \n",
       "mean       48.110054       2.594375       4.737083       2.581801   \n",
       "std         9.955156       0.514133       0.922556       0.508228   \n",
       "min         1.000000       1.000000       1.000000       1.000000   \n",
       "25%              NaN            NaN            NaN            NaN   \n",
       "50%              NaN            NaN            NaN            NaN   \n",
       "75%              NaN            NaN            NaN            NaN   \n",
       "max       555.000000       3.000000       5.000000       3.000000   \n",
       "\n",
       "                NWLK           AGEP  \n",
       "count  205266.000000  259224.000000  \n",
       "mean        2.568940      38.938578  \n",
       "std         0.564185      23.319435  \n",
       "min         1.000000       0.000000  \n",
       "25%              NaN      19.000000  \n",
       "50%              NaN      39.000000  \n",
       "75%              NaN      58.000000  \n",
       "max         3.000000      92.000000  "
      ]
     },
     "execution_count": 4,
     "metadata": {},
     "output_type": "execute_result"
    }
   ],
   "source": [
    "df.describe()"
   ]
  },
  {
   "cell_type": "markdown",
   "metadata": {
    "colab_type": "text",
    "id": "51q_Z99ahX6q"
   },
   "source": [
    "### Missing Value Imputation"
   ]
  },
  {
   "cell_type": "code",
   "execution_count": 5,
   "metadata": {
    "colab": {
     "base_uri": "https://localhost:8080/",
     "height": 386
    },
    "colab_type": "code",
    "collapsed": false,
    "id": "s7gPh81thX6r",
    "outputId": "009d3227-0459-424f-946a-8fcab20c3a19"
   },
   "outputs": [
    {
     "data": {
      "text/plain": [
       "ID              0\n",
       "ST              0\n",
       "PUMA            0\n",
       "JWMNP      149724\n",
       "SCHL         8992\n",
       "WAGP        50307\n",
       "WKHP       129292\n",
       "WKW        129292\n",
       "ESR         53958\n",
       "FOD1P      205307\n",
       "NAICSP     110875\n",
       "JWAP       149724\n",
       "JWDP       149724\n",
       "SOCP       110875\n",
       "POWPUMA    144326\n",
       "POWSP      144326\n",
       "NWAB        53958\n",
       "NWAV        53958\n",
       "NWLA        53958\n",
       "NWLK        53958\n",
       "AGEP            0\n",
       "dtype: int64"
      ]
     },
     "execution_count": 5,
     "metadata": {},
     "output_type": "execute_result"
    }
   ],
   "source": [
    "df.isnull().sum()"
   ]
  },
  {
   "cell_type": "code",
   "execution_count": 6,
   "metadata": {
    "colab": {
     "base_uri": "https://localhost:8080/",
     "height": 50
    },
    "colab_type": "code",
    "collapsed": false,
    "id": "f5KkS-IGhX6z",
    "outputId": "f84cc9f9-bab8-451a-a026-822ab8244155"
   },
   "outputs": [
    {
     "data": {
      "text/plain": [
       "48    259224\n",
       "Name: ST, dtype: int64"
      ]
     },
     "execution_count": 6,
     "metadata": {},
     "output_type": "execute_result"
    }
   ],
   "source": [
    "#1. ST\n",
    "df.ST.value_counts()"
   ]
  },
  {
   "cell_type": "code",
   "execution_count": 0,
   "metadata": {
    "colab": {},
    "colab_type": "code",
    "collapsed": true,
    "id": "Gf4ApLSphX67"
   },
   "outputs": [],
   "source": [
    "#2. PUMA - Public use microdata area code (PUMA) based on 2010 Census definition\n",
    "# No imputation needed"
   ]
  },
  {
   "cell_type": "code",
   "execution_count": 7,
   "metadata": {
    "colab": {
     "base_uri": "https://localhost:8080/",
     "height": 1058
    },
    "colab_type": "code",
    "collapsed": false,
    "id": "3Bk7C1gUhX8T",
    "outputId": "2dcde2fd-b1c1-4237-c6a9-a52f648b8aca"
   },
   "outputs": [
    {
     "data": {
      "text/plain": [
       "100     3145\n",
       "2600    3120\n",
       "3700    2941\n",
       "800     2773\n",
       "600     2494\n",
       "3400    2258\n",
       "1000    2257\n",
       "400     2235\n",
       "5500    2115\n",
       "3602    2036\n",
       "3900    2020\n",
       "900     1945\n",
       "502     1822\n",
       "3601    1765\n",
       "1800    1762\n",
       "1906    1749\n",
       "5000    1742\n",
       "2003    1733\n",
       "4701    1716\n",
       "2101    1695\n",
       "3802    1692\n",
       "5100    1662\n",
       "2102    1659\n",
       "5400    1628\n",
       "2800    1626\n",
       "4000    1616\n",
       "3502    1605\n",
       "5306    1595\n",
       "2006    1592\n",
       "5700    1590\n",
       "        ... \n",
       "4618     891\n",
       "4637     889\n",
       "2304     888\n",
       "5908     886\n",
       "4901     884\n",
       "4623     864\n",
       "6807     863\n",
       "2301     852\n",
       "2506     851\n",
       "6803     845\n",
       "4617     844\n",
       "4903     840\n",
       "4622     837\n",
       "4627     830\n",
       "2511     820\n",
       "2317     815\n",
       "4625     800\n",
       "6806     798\n",
       "4619     788\n",
       "4638     775\n",
       "4503     775\n",
       "4904     760\n",
       "6802     758\n",
       "4611     748\n",
       "2504     701\n",
       "6804     672\n",
       "4504     671\n",
       "4634     653\n",
       "4801     602\n",
       "4633     558\n",
       "Name: PUMA, dtype: int64"
      ]
     },
     "execution_count": 7,
     "metadata": {},
     "output_type": "execute_result"
    }
   ],
   "source": [
    "df.PUMA.value_counts()"
   ]
  },
  {
   "cell_type": "code",
   "execution_count": 0,
   "metadata": {
    "colab": {},
    "colab_type": "code",
    "collapsed": true,
    "id": "PneW-radhX8b"
   },
   "outputs": [],
   "source": [
    "#3. JWMNP - Travel time to work - minutes to get to work"
   ]
  },
  {
   "cell_type": "code",
   "execution_count": 8,
   "metadata": {
    "colab": {
     "base_uri": "https://localhost:8080/",
     "height": 34
    },
    "colab_type": "code",
    "collapsed": false,
    "id": "9JJ-jrcvhX8l",
    "outputId": "059d5317-a897-4237-aaf5-7e729a00e173"
   },
   "outputs": [
    {
     "data": {
      "text/plain": [
       "0"
      ]
     },
     "execution_count": 8,
     "metadata": {},
     "output_type": "execute_result"
    }
   ],
   "source": [
    "# Imputing JWNMP N/A with 0 as it indicates not a worker or worker who worked at home.\n",
    "df['JWMNP'].fillna(0,inplace=True)\n",
    "df.JWMNP.isnull().sum()"
   ]
  },
  {
   "cell_type": "code",
   "execution_count": 0,
   "metadata": {
    "colab": {},
    "colab_type": "code",
    "collapsed": true,
    "id": "SuFK0IsZhX8t"
   },
   "outputs": [],
   "source": [
    "#4. SCHL - Educational attainment\n",
    "# N/A (less than 3 years old) - imputing with 0 indicating less than 3 years"
   ]
  },
  {
   "cell_type": "code",
   "execution_count": 9,
   "metadata": {
    "colab": {
     "base_uri": "https://localhost:8080/",
     "height": 34
    },
    "colab_type": "code",
    "collapsed": false,
    "id": "1YISy-DLhX8z",
    "outputId": "57d0f58f-ce9d-4b65-dccd-8f05ed53abd8"
   },
   "outputs": [
    {
     "data": {
      "text/plain": [
       "0"
      ]
     },
     "execution_count": 9,
     "metadata": {},
     "output_type": "execute_result"
    }
   ],
   "source": [
    "df['SCHL'].fillna(0,inplace=True)\n",
    "df.SCHL.isnull().sum()"
   ]
  },
  {
   "cell_type": "code",
   "execution_count": 0,
   "metadata": {
    "colab": {},
    "colab_type": "code",
    "collapsed": true,
    "id": "288fdG9chX-a"
   },
   "outputs": [],
   "source": [
    "#5. WAGP - Wages or salary income past 12 months - TARGET\n",
    "#N/A (less than 15 years old)\n",
    "#000000 .None\n",
    "#000001..999999 .$1 to 999999 (Rounded and top-coded)"
   ]
  },
  {
   "cell_type": "code",
   "execution_count": 10,
   "metadata": {
    "colab": {
     "base_uri": "https://localhost:8080/",
     "height": 34
    },
    "colab_type": "code",
    "collapsed": false,
    "id": "h0UGgnLphX-i",
    "outputId": "cabb70e9-0c15-4e99-c519-caec96033764"
   },
   "outputs": [
    {
     "data": {
      "text/plain": [
       "0"
      ]
     },
     "execution_count": 10,
     "metadata": {},
     "output_type": "execute_result"
    }
   ],
   "source": [
    "# removing rows with N/A\n",
    "df1 = df[~df['WAGP'].isnull()]\n",
    "df1.WAGP.isnull().sum()"
   ]
  },
  {
   "cell_type": "code",
   "execution_count": 20,
   "metadata": {
    "colab": {
     "base_uri": "https://localhost:8080/",
     "height": 34
    },
    "colab_type": "code",
    "collapsed": false,
    "id": "EfqaH5pMhX-r",
    "outputId": "79f051d4-8ca5-4e10-9112-5046284af764"
   },
   "outputs": [
    {
     "data": {
      "text/plain": [
       "(208917, 21)"
      ]
     },
     "execution_count": 20,
     "metadata": {
      "tags": []
     },
     "output_type": "execute_result"
    }
   ],
   "source": [
    "df1.shape"
   ]
  },
  {
   "cell_type": "code",
   "execution_count": 0,
   "metadata": {
    "colab": {},
    "colab_type": "code",
    "collapsed": true,
    "id": "JBlBWCzwhYAW"
   },
   "outputs": [],
   "source": [
    "#6. WKHP - Usual hours worked per week past 12 months\n",
    "#N/A (less than 16 years old/did not work during the past 12 months)"
   ]
  },
  {
   "cell_type": "code",
   "execution_count": 11,
   "metadata": {
    "colab": {
     "base_uri": "https://localhost:8080/",
     "height": 118
    },
    "colab_type": "code",
    "collapsed": false,
    "id": "HyVYNJ8AhYAl",
    "outputId": "2a9e6b54-33dd-4aff-9bcb-ba12894b9ae9"
   },
   "outputs": [
    {
     "name": "stderr",
     "output_type": "stream",
     "text": [
      "C:\\Program Files\\Anaconda3\\lib\\site-packages\\pandas\\core\\generic.py:3191: SettingWithCopyWarning: \n",
      "A value is trying to be set on a copy of a slice from a DataFrame\n",
      "\n",
      "See the caveats in the documentation: http://pandas.pydata.org/pandas-docs/stable/indexing.html#indexing-view-versus-copy\n",
      "  self._update_inplace(new_data)\n"
     ]
    },
    {
     "data": {
      "text/plain": [
       "0"
      ]
     },
     "execution_count": 11,
     "metadata": {},
     "output_type": "execute_result"
    }
   ],
   "source": [
    "df1['WKHP'].fillna(0,inplace=True)\n",
    "df1.WKHP.isnull().sum()"
   ]
  },
  {
   "cell_type": "code",
   "execution_count": 0,
   "metadata": {
    "colab": {},
    "colab_type": "code",
    "collapsed": true,
    "id": "H4VKWCHNhYAs"
   },
   "outputs": [],
   "source": [
    "#7. WKW - Weeks worked during past 12 months\n",
    "#N/A (less than 16 years old/did not work during the past 12 months)"
   ]
  },
  {
   "cell_type": "code",
   "execution_count": 12,
   "metadata": {
    "colab": {
     "base_uri": "https://localhost:8080/",
     "height": 118
    },
    "colab_type": "code",
    "collapsed": false,
    "id": "IOj7Pq5YhYAx",
    "outputId": "aedad816-19ff-442b-c5d3-25999ed26d05"
   },
   "outputs": [
    {
     "name": "stderr",
     "output_type": "stream",
     "text": [
      "C:\\Program Files\\Anaconda3\\lib\\site-packages\\pandas\\core\\generic.py:3191: SettingWithCopyWarning: \n",
      "A value is trying to be set on a copy of a slice from a DataFrame\n",
      "\n",
      "See the caveats in the documentation: http://pandas.pydata.org/pandas-docs/stable/indexing.html#indexing-view-versus-copy\n",
      "  self._update_inplace(new_data)\n"
     ]
    },
    {
     "data": {
      "text/plain": [
       "0"
      ]
     },
     "execution_count": 12,
     "metadata": {},
     "output_type": "execute_result"
    }
   ],
   "source": [
    "df1['WKW'].fillna(0,inplace=True)\n",
    "df1.WKW.isnull().sum()"
   ]
  },
  {
   "cell_type": "code",
   "execution_count": 0,
   "metadata": {
    "colab": {},
    "colab_type": "code",
    "collapsed": true,
    "id": "uyTGtYxAhYA4"
   },
   "outputs": [],
   "source": [
    "#8. ESR -Employment status recode\n",
    "# N/A (less than 16 years old) - imputing with 0 code to indicate the same"
   ]
  },
  {
   "cell_type": "code",
   "execution_count": 13,
   "metadata": {
    "colab": {
     "base_uri": "https://localhost:8080/",
     "height": 118
    },
    "colab_type": "code",
    "collapsed": false,
    "id": "ARWmeXKuhYCI",
    "outputId": "e3a752b8-b349-467c-a3c8-6eb6922d7640"
   },
   "outputs": [
    {
     "name": "stderr",
     "output_type": "stream",
     "text": [
      "C:\\Program Files\\Anaconda3\\lib\\site-packages\\pandas\\core\\generic.py:3191: SettingWithCopyWarning: \n",
      "A value is trying to be set on a copy of a slice from a DataFrame\n",
      "\n",
      "See the caveats in the documentation: http://pandas.pydata.org/pandas-docs/stable/indexing.html#indexing-view-versus-copy\n",
      "  self._update_inplace(new_data)\n"
     ]
    },
    {
     "data": {
      "text/plain": [
       "0"
      ]
     },
     "execution_count": 13,
     "metadata": {},
     "output_type": "execute_result"
    }
   ],
   "source": [
    "df1['ESR'].fillna(0,inplace=True)\n",
    "df1.ESR.isnull().sum()"
   ]
  },
  {
   "cell_type": "code",
   "execution_count": 14,
   "metadata": {
    "colab": {
     "base_uri": "https://localhost:8080/",
     "height": 118
    },
    "colab_type": "code",
    "collapsed": false,
    "id": "omLnpyh6hYCQ",
    "outputId": "29949bd2-1c22-4896-de82-3fcfdf94983d"
   },
   "outputs": [
    {
     "name": "stderr",
     "output_type": "stream",
     "text": [
      "C:\\Program Files\\Anaconda3\\lib\\site-packages\\pandas\\core\\generic.py:3191: SettingWithCopyWarning: \n",
      "A value is trying to be set on a copy of a slice from a DataFrame\n",
      "\n",
      "See the caveats in the documentation: http://pandas.pydata.org/pandas-docs/stable/indexing.html#indexing-view-versus-copy\n",
      "  self._update_inplace(new_data)\n"
     ]
    },
    {
     "data": {
      "text/plain": [
       "0"
      ]
     },
     "execution_count": 14,
     "metadata": {},
     "output_type": "execute_result"
    }
   ],
   "source": [
    "#9. FOD1P - Recoded field of degree - first entry\n",
    "# N/A (less than bachelor's degree)\n",
    "df1['FOD1P'].fillna(1000,inplace=True)\n",
    "df1.FOD1P.isnull().sum()"
   ]
  },
  {
   "cell_type": "code",
   "execution_count": 15,
   "metadata": {
    "colab": {
     "base_uri": "https://localhost:8080/",
     "height": 118
    },
    "colab_type": "code",
    "collapsed": false,
    "id": "EGdiyXtGhYCW",
    "outputId": "518b5e8f-bead-4054-f49b-d6d741707f3f"
   },
   "outputs": [
    {
     "name": "stderr",
     "output_type": "stream",
     "text": [
      "C:\\Program Files\\Anaconda3\\lib\\site-packages\\pandas\\core\\generic.py:3191: SettingWithCopyWarning: \n",
      "A value is trying to be set on a copy of a slice from a DataFrame\n",
      "\n",
      "See the caveats in the documentation: http://pandas.pydata.org/pandas-docs/stable/indexing.html#indexing-view-versus-copy\n",
      "  self._update_inplace(new_data)\n"
     ]
    },
    {
     "data": {
      "text/plain": [
       "0"
      ]
     },
     "execution_count": 15,
     "metadata": {},
     "output_type": "execute_result"
    }
   ],
   "source": [
    "#10. NAICSP - Industry recode for 2013 and later based on 2012 NAICS codes  \n",
    "# N/A (less than 16 years old/NILF who last worked more than 5 years ago or never worked)\n",
    "\n",
    "df1['NAICSP'].fillna(100,inplace=True)\n",
    "df1.NAICSP.isnull().sum()"
   ]
  },
  {
   "cell_type": "code",
   "execution_count": 16,
   "metadata": {
    "colab": {
     "base_uri": "https://localhost:8080/",
     "height": 118
    },
    "colab_type": "code",
    "collapsed": false,
    "id": "QHFJXGwLhYCc",
    "outputId": "3c4e91f1-bb39-4d9e-ea34-0055588f1cfa"
   },
   "outputs": [
    {
     "name": "stderr",
     "output_type": "stream",
     "text": [
      "C:\\Program Files\\Anaconda3\\lib\\site-packages\\pandas\\core\\generic.py:3191: SettingWithCopyWarning: \n",
      "A value is trying to be set on a copy of a slice from a DataFrame\n",
      "\n",
      "See the caveats in the documentation: http://pandas.pydata.org/pandas-docs/stable/indexing.html#indexing-view-versus-copy\n",
      "  self._update_inplace(new_data)\n"
     ]
    },
    {
     "data": {
      "text/plain": [
       "0"
      ]
     },
     "execution_count": 16,
     "metadata": {},
     "output_type": "execute_result"
    }
   ],
   "source": [
    "#11. JWAP - Time of arrival at work - hour and minute\n",
    "#N/A (not a worker; worker who worked at home)\n",
    "\n",
    "df1['JWAP'].fillna(0,inplace=True)\n",
    "df1.JWAP.isnull().sum()"
   ]
  },
  {
   "cell_type": "code",
   "execution_count": 17,
   "metadata": {
    "colab": {
     "base_uri": "https://localhost:8080/",
     "height": 118
    },
    "colab_type": "code",
    "collapsed": false,
    "id": "f4eRX3F3hYD4",
    "outputId": "3fee5e08-25ca-4588-aa30-18f689f97bdd"
   },
   "outputs": [
    {
     "name": "stderr",
     "output_type": "stream",
     "text": [
      "C:\\Program Files\\Anaconda3\\lib\\site-packages\\pandas\\core\\generic.py:3191: SettingWithCopyWarning: \n",
      "A value is trying to be set on a copy of a slice from a DataFrame\n",
      "\n",
      "See the caveats in the documentation: http://pandas.pydata.org/pandas-docs/stable/indexing.html#indexing-view-versus-copy\n",
      "  self._update_inplace(new_data)\n"
     ]
    },
    {
     "data": {
      "text/plain": [
       "0"
      ]
     },
     "execution_count": 17,
     "metadata": {},
     "output_type": "execute_result"
    }
   ],
   "source": [
    "#12. JWDP - Time of departure for work - hour and minute\n",
    "#N/A (not a worker; worker who worked at home)\n",
    "\n",
    "df1['JWDP'].fillna(0,inplace=True)\n",
    "df1.JWDP.isnull().sum()"
   ]
  },
  {
   "cell_type": "code",
   "execution_count": 18,
   "metadata": {
    "colab": {
     "base_uri": "https://localhost:8080/",
     "height": 118
    },
    "colab_type": "code",
    "collapsed": false,
    "id": "P0j8fVBxhYD-",
    "outputId": "f600b2cb-6dc2-43ae-b987-c250829ce9ea"
   },
   "outputs": [
    {
     "name": "stderr",
     "output_type": "stream",
     "text": [
      "C:\\Program Files\\Anaconda3\\lib\\site-packages\\pandas\\core\\generic.py:3191: SettingWithCopyWarning: \n",
      "A value is trying to be set on a copy of a slice from a DataFrame\n",
      "\n",
      "See the caveats in the documentation: http://pandas.pydata.org/pandas-docs/stable/indexing.html#indexing-view-versus-copy\n",
      "  self._update_inplace(new_data)\n"
     ]
    },
    {
     "data": {
      "text/plain": [
       "0"
      ]
     },
     "execution_count": 18,
     "metadata": {},
     "output_type": "execute_result"
    }
   ],
   "source": [
    "#13. SOCP - SOC Occupation code for 2012 and later based on 2010 SOC codes \n",
    "#N/A (less than 16 years old/NILF who last worked more than 5 years ago or never worked)\n",
    "\n",
    "df1['SOCP'].fillna(0,inplace=True)\n",
    "df1.SOCP.isnull().sum()"
   ]
  },
  {
   "cell_type": "code",
   "execution_count": 19,
   "metadata": {
    "colab": {
     "base_uri": "https://localhost:8080/",
     "height": 118
    },
    "colab_type": "code",
    "collapsed": false,
    "id": "MAU1Bj0nhYEG",
    "outputId": "64f066bf-e386-44cc-c2ae-527796cb596d"
   },
   "outputs": [
    {
     "name": "stderr",
     "output_type": "stream",
     "text": [
      "C:\\Program Files\\Anaconda3\\lib\\site-packages\\pandas\\core\\generic.py:3191: SettingWithCopyWarning: \n",
      "A value is trying to be set on a copy of a slice from a DataFrame\n",
      "\n",
      "See the caveats in the documentation: http://pandas.pydata.org/pandas-docs/stable/indexing.html#indexing-view-versus-copy\n",
      "  self._update_inplace(new_data)\n"
     ]
    },
    {
     "data": {
      "text/plain": [
       "0"
      ]
     },
     "execution_count": 19,
     "metadata": {},
     "output_type": "execute_result"
    }
   ],
   "source": [
    "#14. POWPUMA - Place of work PUMA based on 2010 Census definition\n",
    "# N/A (not a worker) - assigning code 0 to indicate the same.\n",
    "\n",
    "df1['POWPUMA'].fillna(0,inplace=True)\n",
    "df1.POWPUMA.isnull().sum()"
   ]
  },
  {
   "cell_type": "code",
   "execution_count": 20,
   "metadata": {
    "colab": {
     "base_uri": "https://localhost:8080/",
     "height": 118
    },
    "colab_type": "code",
    "collapsed": false,
    "id": "4eZTliDVhYEO",
    "outputId": "d6962298-4ba9-404f-8f68-809b093b92f1"
   },
   "outputs": [
    {
     "name": "stderr",
     "output_type": "stream",
     "text": [
      "C:\\Program Files\\Anaconda3\\lib\\site-packages\\pandas\\core\\generic.py:3191: SettingWithCopyWarning: \n",
      "A value is trying to be set on a copy of a slice from a DataFrame\n",
      "\n",
      "See the caveats in the documentation: http://pandas.pydata.org/pandas-docs/stable/indexing.html#indexing-view-versus-copy\n",
      "  self._update_inplace(new_data)\n"
     ]
    },
    {
     "data": {
      "text/plain": [
       "0"
      ]
     },
     "execution_count": 20,
     "metadata": {},
     "output_type": "execute_result"
    }
   ],
   "source": [
    "#15. POWSP - Place of work - State or foreign country recode  \n",
    "# N/A (not a worker)\n",
    "\n",
    "df1['POWSP'].fillna(0,inplace=True)\n",
    "df1.POWSP.isnull().sum()"
   ]
  },
  {
   "cell_type": "code",
   "execution_count": 21,
   "metadata": {
    "colab": {
     "base_uri": "https://localhost:8080/",
     "height": 386
    },
    "colab_type": "code",
    "collapsed": false,
    "id": "qJv0GZN6hYEU",
    "outputId": "347e0609-4b84-4f2c-90fa-ea7d769beb2c"
   },
   "outputs": [
    {
     "data": {
      "text/plain": [
       "ID            0\n",
       "ST            0\n",
       "PUMA          0\n",
       "JWMNP         0\n",
       "SCHL          0\n",
       "WAGP          0\n",
       "WKHP          0\n",
       "WKW           0\n",
       "ESR           0\n",
       "FOD1P         0\n",
       "NAICSP        0\n",
       "JWAP          0\n",
       "JWDP          0\n",
       "SOCP          0\n",
       "POWPUMA       0\n",
       "POWSP         0\n",
       "NWAB       3651\n",
       "NWAV       3651\n",
       "NWLA       3651\n",
       "NWLK       3651\n",
       "AGEP          0\n",
       "dtype: int64"
      ]
     },
     "execution_count": 21,
     "metadata": {},
     "output_type": "execute_result"
    }
   ],
   "source": [
    "#16. NWAB , NWAV, NWLA, NWLK\n",
    "#N/A (less than 16 years old/at work/on layoff) - imputing with code 0 to indicate the same.\n",
    "\n",
    "df1.isnull().sum()"
   ]
  },
  {
   "cell_type": "code",
   "execution_count": 22,
   "metadata": {
    "colab": {
     "base_uri": "https://localhost:8080/",
     "height": 470
    },
    "colab_type": "code",
    "collapsed": false,
    "id": "kdVCwrlVhYEa",
    "outputId": "8feb8985-b26a-4b26-b7f3-990fcd19d6fc"
   },
   "outputs": [
    {
     "name": "stderr",
     "output_type": "stream",
     "text": [
      "C:\\Program Files\\Anaconda3\\lib\\site-packages\\pandas\\core\\frame.py:2762: SettingWithCopyWarning: \n",
      "A value is trying to be set on a copy of a slice from a DataFrame\n",
      "\n",
      "See the caveats in the documentation: http://pandas.pydata.org/pandas-docs/stable/indexing.html#indexing-view-versus-copy\n",
      "  downcast=downcast, **kwargs)\n"
     ]
    },
    {
     "data": {
      "text/plain": [
       "ID         0\n",
       "ST         0\n",
       "PUMA       0\n",
       "JWMNP      0\n",
       "SCHL       0\n",
       "WAGP       0\n",
       "WKHP       0\n",
       "WKW        0\n",
       "ESR        0\n",
       "FOD1P      0\n",
       "NAICSP     0\n",
       "JWAP       0\n",
       "JWDP       0\n",
       "SOCP       0\n",
       "POWPUMA    0\n",
       "POWSP      0\n",
       "NWAB       0\n",
       "NWAV       0\n",
       "NWLA       0\n",
       "NWLK       0\n",
       "AGEP       0\n",
       "dtype: int64"
      ]
     },
     "execution_count": 22,
     "metadata": {},
     "output_type": "execute_result"
    }
   ],
   "source": [
    "df1.fillna(0,inplace=True)\n",
    "df1.isnull().sum()"
   ]
  },
  {
   "cell_type": "code",
   "execution_count": 0,
   "metadata": {
    "colab": {},
    "colab_type": "code",
    "collapsed": true,
    "id": "vyUU2ADmhYF9"
   },
   "outputs": [],
   "source": []
  },
  {
   "cell_type": "code",
   "execution_count": 0,
   "metadata": {
    "colab": {},
    "colab_type": "code",
    "collapsed": true,
    "id": "2Nliwo2FhYGB"
   },
   "outputs": [],
   "source": []
  },
  {
   "cell_type": "markdown",
   "metadata": {
    "colab_type": "text",
    "id": "H_Yj_UT4hYGG"
   },
   "source": [
    "## 2. Feature Engineering"
   ]
  },
  {
   "cell_type": "markdown",
   "metadata": {
    "colab_type": "text",
    "id": "tCuh0o3fhYGH"
   },
   "source": [
    "##### 1. SCHL - Educational attainment\n",
    "\n",
    "* Reducing the number of levels in this column.\n",
    "* Creating new column SCHL_Cat\n",
    "\n",
    "           N/A (less than 3 years old)\n",
    "           01 .No schooling completed\n",
    "           02 .Nursery school, preschool   \n",
    "           03 .Kindergarten\n",
    "           04 .Grade 1\n",
    "           05 .Grade 2\n",
    "           06 .Grade 3                   \n",
    "           07 .Grade 4\n",
    "           08 .Grade 5\n",
    "           09 .Grade 6\n",
    "           10 .Grade 7                   \n",
    "           11 .Grade 8  \n",
    "           12 .Grade 9\n",
    "           13 .Grade 10\n",
    "           14 .Grade 11                   \n",
    "           15 .12th grade - no diploma   \n",
    "           16 .Regular high school diploma\n",
    "           17 .GED or alternative credential\n",
    "           18 .Some college, but less than 1 year\n",
    "           19 .1 or more years of college credit, no degree\n",
    "           20 .Associate's degree                           \n",
    "           21 .Bachelor's degree\n",
    "           22 .Master's degree\n",
    "           23 .Professional degree beyond a bachelor's degree\n",
    "           24 .Doctorate degree"
   ]
  },
  {
   "cell_type": "code",
   "execution_count": 23,
   "metadata": {
    "colab": {
     "base_uri": "https://localhost:8080/",
     "height": 437
    },
    "colab_type": "code",
    "collapsed": false,
    "id": "NNyhyl-DhYGI",
    "outputId": "eb7accb1-13e9-48dd-9963-014fc6f0aa94"
   },
   "outputs": [
    {
     "data": {
      "text/plain": [
       "16.0    42376\n",
       "21.0    35376\n",
       "19.0    32482\n",
       "18.0    14985\n",
       "22.0    13435\n",
       "20.0    13055\n",
       "17.0     9348\n",
       "14.0     7741\n",
       "12.0     7461\n",
       "13.0     7199\n",
       "11.0     4078\n",
       "1.0      3988\n",
       "15.0     3876\n",
       "9.0      3757\n",
       "23.0     3014\n",
       "24.0     2092\n",
       "10.0     1438\n",
       "6.0       942\n",
       "8.0       931\n",
       "7.0       609\n",
       "5.0       455\n",
       "4.0       190\n",
       "3.0        55\n",
       "2.0        34\n",
       "Name: SCHL, dtype: int64"
      ]
     },
     "execution_count": 23,
     "metadata": {},
     "output_type": "execute_result"
    }
   ],
   "source": [
    "df1.SCHL.value_counts()"
   ]
  },
  {
   "cell_type": "code",
   "execution_count": 24,
   "metadata": {
    "colab": {
     "base_uri": "https://localhost:8080/",
     "height": 118
    },
    "colab_type": "code",
    "collapsed": false,
    "id": "e3NqeZhghYGQ",
    "outputId": "08f521b3-e343-4906-cb9a-c07418601ad8"
   },
   "outputs": [
    {
     "name": "stderr",
     "output_type": "stream",
     "text": [
      "C:\\Program Files\\Anaconda3\\lib\\site-packages\\ipykernel\\__main__.py:1: SettingWithCopyWarning: \n",
      "A value is trying to be set on a copy of a slice from a DataFrame.\n",
      "Try using .loc[row_indexer,col_indexer] = value instead\n",
      "\n",
      "See the caveats in the documentation: http://pandas.pydata.org/pandas-docs/stable/indexing.html#indexing-view-versus-copy\n",
      "  if __name__ == '__main__':\n"
     ]
    }
   ],
   "source": [
    "df1['SCH_Cat'] = ['PreSchool' if x == 2 or x==3 else 'School' if x>3 and x<14  else 'HighSchool' if x>13 and x<18  else 'Graduation' if x == 20 or x==21 else 'College' if x==18 and x==19  else 'PostGraduation' if  x>21  else 'NoSchooling' for x in df1['SCHL']]"
   ]
  },
  {
   "cell_type": "code",
   "execution_count": 25,
   "metadata": {
    "colab": {
     "base_uri": "https://localhost:8080/",
     "height": 134
    },
    "colab_type": "code",
    "collapsed": false,
    "id": "TZOsWq3hhYGX",
    "outputId": "2871fb0b-a4e6-46d1-ae72-96eed239f0e4"
   },
   "outputs": [
    {
     "data": {
      "text/plain": [
       "HighSchool        63341\n",
       "NoSchooling       51455\n",
       "Graduation        48431\n",
       "School            27060\n",
       "PostGraduation    18541\n",
       "PreSchool            89\n",
       "Name: SCH_Cat, dtype: int64"
      ]
     },
     "execution_count": 25,
     "metadata": {},
     "output_type": "execute_result"
    }
   ],
   "source": [
    "df1['SCH_Cat'].value_counts()"
   ]
  },
  {
   "cell_type": "code",
   "execution_count": 0,
   "metadata": {
    "colab": {},
    "colab_type": "code",
    "collapsed": true,
    "id": "ep1IqSQphYH5"
   },
   "outputs": [],
   "source": []
  },
  {
   "cell_type": "markdown",
   "metadata": {
    "colab_type": "text",
    "id": "6rJXTipnhYH-"
   },
   "source": [
    "##### 2. FOD1P - Recoded field of degree - first entry\n",
    "\n",
    "* Reducing the number of levels in this column. This column has huge number of levels. \n",
    "* Creating new column FOD1P_Cat"
   ]
  },
  {
   "cell_type": "code",
   "execution_count": 26,
   "metadata": {
    "colab": {
     "base_uri": "https://localhost:8080/",
     "height": 353
    },
    "colab_type": "code",
    "collapsed": false,
    "id": "qYyEegzFhYIA",
    "outputId": "bb8acfcf-0bd5-4b17-a703-d69544a7b1d6"
   },
   "outputs": [
    {
     "data": {
      "text/plain": [
       "array([6199., 1000., 3401., 6207., 2406., 6002., 1105., 6203., 6205.,\n",
       "       5200., 2399., 6200., 2300., 5501., 6107., 2408., 3600., 6106.,\n",
       "       2312., 6201., 2901., 3700., 4101., 6206., 2304., 5007., 5507.,\n",
       "       2405., 5301., 2400., 6109., 2102., 1303., 1501., 6004., 2503.,\n",
       "       6211., 2100., 5506., 3301., 2106., 4001., 2602., 2306., 5403.,\n",
       "       1401., 2417., 6402., 6000., 4801., 2414., 6209., 2311., 1103.,\n",
       "       3609., 6212., 6104., 6108., 2313., 2500., 1100., 4002., 3601.,\n",
       "       1904., 5002., 1902., 5500., 5004., 5003., 2419., 6105., 2301.,\n",
       "       5203., 5098., 6102., 4000., 2403., 5299., 5901., 1104., 5504.,\n",
       "       1102., 6299., 6001., 5005., 2601., 1901., 3201., 2502., 6103.,\n",
       "       2107., 5008., 2412., 2308., 6204., 2309., 2305., 2001., 2599.,\n",
       "       2401., 3611., 5404., 2504., 2404., 3501., 5601., 3603., 2499.,\n",
       "       2314., 2310., 2418., 6210., 6110., 3604., 3701., 3608., 2413.,\n",
       "       5202., 2407., 3606., 5701., 5502., 4901., 1302., 2411., 6007.,\n",
       "       3702., 3602., 1199., 1903., 2303., 1301., 5401., 4007., 1101.,\n",
       "       4006., 2307., 5402., 2603., 3202., 4005., 2201., 3302., 2105.,\n",
       "       3607., 2402., 6403., 5503., 5001., 3402., 2101., 6100., 5505.,\n",
       "       5201., 6003., 6005., 5205., 2416., 2501., 3699., 2409., 6006.,\n",
       "       5206., 2415., 5102., 5006., 2410., 3605., 1106., 3801., 6202.,\n",
       "       6099., 5000., 5599.])"
      ]
     },
     "execution_count": 26,
     "metadata": {},
     "output_type": "execute_result"
    }
   ],
   "source": [
    "df1.FOD1P.unique()"
   ]
  },
  {
   "cell_type": "code",
   "execution_count": 27,
   "metadata": {
    "colab": {
     "base_uri": "https://localhost:8080/",
     "height": 118
    },
    "colab_type": "code",
    "collapsed": false,
    "id": "904we3kIhYIJ",
    "outputId": "a62dbebe-d6d8-4b5c-c524-e1cc08684b3d"
   },
   "outputs": [
    {
     "name": "stderr",
     "output_type": "stream",
     "text": [
      "C:\\Program Files\\Anaconda3\\lib\\site-packages\\ipykernel\\__main__.py:1: SettingWithCopyWarning: \n",
      "A value is trying to be set on a copy of a slice from a DataFrame.\n",
      "Try using .loc[row_indexer,col_indexer] = value instead\n",
      "\n",
      "See the caveats in the documentation: http://pandas.pydata.org/pandas-docs/stable/indexing.html#indexing-view-versus-copy\n",
      "  if __name__ == '__main__':\n"
     ]
    }
   ],
   "source": [
    "df1['FOD1P_Cat'] = ['UnderGrad' if x == 1000 else 'Grad_Or_Above' for x in df1['FOD1P']]"
   ]
  },
  {
   "cell_type": "code",
   "execution_count": 28,
   "metadata": {
    "colab": {
     "base_uri": "https://localhost:8080/",
     "height": 67
    },
    "colab_type": "code",
    "collapsed": false,
    "id": "dgpB_VX6hYIQ",
    "outputId": "a67b27f4-af66-4a64-9d79-abf0618342fc"
   },
   "outputs": [
    {
     "data": {
      "text/plain": [
       "UnderGrad        155000\n",
       "Grad_Or_Above     53917\n",
       "Name: FOD1P_Cat, dtype: int64"
      ]
     },
     "execution_count": 28,
     "metadata": {},
     "output_type": "execute_result"
    }
   ],
   "source": [
    "df1['FOD1P_Cat'].value_counts()"
   ]
  },
  {
   "cell_type": "markdown",
   "metadata": {
    "colab_type": "text",
    "collapsed": true,
    "id": "e27fUvoShYJy"
   },
   "source": [
    "##### 3. NAICSP -NAICS Industry recode for 2013 and later based on 2012 NAICS codes  \n",
    "\n",
    "* Reducing the number of levels in this column. This column has huge number of levels. \n",
    "* Creating new column NAICSP_Cat\n",
    "* Can be split into industry type ie MFG or AGR or etc. Split based on - \n",
    "\n",
    "           111      .AGR-CROP PRODUCTION\n",
    "           112      .AGR-ANIMAL PRODUCTION AND AQUACULTURE\n",
    "           1133     .AGR-LOGGING\n",
    "           113M     .AGR-FORESTRY EXCEPT LOGGING\n",
    "           114      .AGR-FISHING, HUNTING, AND TRAPPING\n",
    "           115      .AGR-SUPPORT ACTIVITIES FOR AGRICULTURE AND FORESTRY\n",
    "           211      .EXT-OIL AND GAS EXTRACTION\n",
    "           2121     .EXT-COAL MINING\n",
    "           2122     .EXT-METAL ORE MINING\n",
    "           2123     .EXT-NONMETALLIC MINERAL MINING AND QUARRYING\n",
    "           213      .EXT-SUPPORT ACTIVITIES FOR MINING\n",
    "           2211P    .UTL-ELECTRIC POWER GENERATION, TRANSMISSION AND\n",
    "                    .DISTRIBUTION\n",
    "           2212P    .UTL-NATURAL GAS DISTRIBUTION\n",
    "           22132    .UTL-SEWAGE TREATMENT FACILITIES\n",
    "           2213M    .UTL-WATER, STEAM, AIR CONDITIONING, AND IRRIGATION\n",
    "                    .SYSTEMS\n",
    "           221MP    .UTL-ELECTRIC AND GAS, AND OTHER COMBINATIONS\n",
    "           22S      .UTL-NOT SPECIFIED UTILITIES\n",
    "           23       .CON-CONSTRUCTION, INCL CLEANING DURING AND IMM AFTER\n",
    "           3113     .MFG-SUGAR AND CONFECTIONERY PRODUCTS\n",
    "           3114     .MFG-FRUIT AND VEGETABLE PRESERVING AND SPECIALTY FOODS\n",
    "           3115     .MFG-DAIRY PRODUCTS\n",
    "           3116     .MFG-ANIMAL SLAUGHTERING AND PROCESSING\n",
    "           311811   .MFG-RETAIL BAKERIES\n",
    "           3118Z    .MFG-BAKERIES AND TORTILLA, EXCEPT RETAIL BAKERIES\n",
    "           311M1    .MFG-ANIMAL FOOD, GRAIN AND OILSEED MILLING\n",
    "           311M2    .MFG-SEAFOOD AND OTHER MISCELLANEOUS FOODS, N.E.C.\n",
    "           311S     .MFG-NOT SPECIFIED FOOD INDUSTRIES\n",
    "           3121     .MFG-BEVERAGE\n",
    "           3122     .MFG-TOBACCO"
   ]
  },
  {
   "cell_type": "code",
   "execution_count": 29,
   "metadata": {
    "colab": {
     "base_uri": "https://localhost:8080/",
     "height": 1058
    },
    "colab_type": "code",
    "collapsed": false,
    "id": "js7TOmfRhYJz",
    "outputId": "77bdb460-7161-4124-c7c8-3b679d885a1d"
   },
   "outputs": [
    {
     "data": {
      "text/plain": [
       "100         60568\n",
       "6111        10782\n",
       "23          10515\n",
       "722Z         9093\n",
       "622          5607\n",
       "611M1        3472\n",
       "4451         2837\n",
       "213          2816\n",
       "92MP         2750\n",
       "45211        2662\n",
       "531          2572\n",
       "524          2502\n",
       "5415         2105\n",
       "484          2027\n",
       "6216         1982\n",
       "5413         1756\n",
       "52M1         1735\n",
       "5416         1675\n",
       "6244         1612\n",
       "6211         1550\n",
       "8131         1504\n",
       "5411         1454\n",
       "713Z         1400\n",
       "5617Z        1396\n",
       "6231         1317\n",
       "4411         1297\n",
       "8111Z        1293\n",
       "6214         1280\n",
       "5613         1275\n",
       "7211         1204\n",
       "            ...  \n",
       "81393          29\n",
       "3212           29\n",
       "114            28\n",
       "5122           27\n",
       "5191ZM         27\n",
       "22S            27\n",
       "3162           26\n",
       "33299M         26\n",
       "32621          25\n",
       "3322           25\n",
       "113M           22\n",
       "32711          22\n",
       "316M           21\n",
       "3352           20\n",
       "3253           19\n",
       "487            17\n",
       "928110P7       15\n",
       "3369           15\n",
       "928110P5       14\n",
       "454112         13\n",
       "311S           12\n",
       "3159            9\n",
       "2122            7\n",
       "31M             7\n",
       "53223           7\n",
       "3133            6\n",
       "31411           5\n",
       "3122            3\n",
       "33MS            2\n",
       "3131            2\n",
       "Name: NAICSP, dtype: int64"
      ]
     },
     "execution_count": 29,
     "metadata": {},
     "output_type": "execute_result"
    }
   ],
   "source": [
    "df1['NAICSP'].value_counts()"
   ]
  },
  {
   "cell_type": "code",
   "execution_count": 30,
   "metadata": {
    "colab": {
     "base_uri": "https://localhost:8080/",
     "height": 118
    },
    "colab_type": "code",
    "collapsed": false,
    "id": "asjeWOJHhYKF",
    "outputId": "24f53615-85e7-4c29-8e20-6e36c8dbda74"
   },
   "outputs": [
    {
     "name": "stderr",
     "output_type": "stream",
     "text": [
      "C:\\Program Files\\Anaconda3\\lib\\site-packages\\ipykernel\\__main__.py:1: SettingWithCopyWarning: \n",
      "A value is trying to be set on a copy of a slice from a DataFrame.\n",
      "Try using .loc[row_indexer,col_indexer] = value instead\n",
      "\n",
      "See the caveats in the documentation: http://pandas.pydata.org/pandas-docs/stable/indexing.html#indexing-view-versus-copy\n",
      "  if __name__ == '__main__':\n"
     ]
    }
   ],
   "source": [
    "df1['NAICSP_Cat'] = df1.NAICSP.astype(str).str[:2]"
   ]
  },
  {
   "cell_type": "code",
   "execution_count": 31,
   "metadata": {
    "colab": {
     "base_uri": "https://localhost:8080/",
     "height": 504
    },
    "colab_type": "code",
    "collapsed": false,
    "id": "RdH8A8NthYKL",
    "outputId": "7be8aa77-e861-480b-dbe9-4c5e3eb4287a"
   },
   "outputs": [
    {
     "data": {
      "text/plain": [
       "10    60568\n",
       "62    17384\n",
       "61    15088\n",
       "44    10828\n",
       "72    10698\n",
       "23    10515\n",
       "54     9848\n",
       "81     7576\n",
       "92     7332\n",
       "33     7090\n",
       "56     6620\n",
       "52     6452\n",
       "45     5755\n",
       "48     4890\n",
       "42     4154\n",
       "32     3680\n",
       "21     3658\n",
       "53     3025\n",
       "51     2649\n",
       "71     2483\n",
       "11     1991\n",
       "31     1691\n",
       "49     1636\n",
       "22     1308\n",
       "99     1090\n",
       "4M      416\n",
       "3M      313\n",
       "55      179\n",
       "Name: NAICSP_Cat, dtype: int64"
      ]
     },
     "execution_count": 31,
     "metadata": {},
     "output_type": "execute_result"
    }
   ],
   "source": [
    "df1['NAICSP_Cat'].value_counts()"
   ]
  },
  {
   "cell_type": "code",
   "execution_count": 32,
   "metadata": {
    "colab": {
     "base_uri": "https://localhost:8080/",
     "height": 118
    },
    "colab_type": "code",
    "collapsed": false,
    "id": "MSsgQ7-ihYLy",
    "outputId": "f0284c0f-afef-46e5-9969-3ae6b3bfb01b"
   },
   "outputs": [
    {
     "name": "stderr",
     "output_type": "stream",
     "text": [
      "C:\\Program Files\\Anaconda3\\lib\\site-packages\\ipykernel\\__main__.py:1: SettingWithCopyWarning: \n",
      "A value is trying to be set on a copy of a slice from a DataFrame.\n",
      "Try using .loc[row_indexer,col_indexer] = value instead\n",
      "\n",
      "See the caveats in the documentation: http://pandas.pydata.org/pandas-docs/stable/indexing.html#indexing-view-versus-copy\n",
      "  if __name__ == '__main__':\n"
     ]
    }
   ],
   "source": [
    "df1['NAICSP_Cat'] = df1['NAICSP_Cat'].astype(str)"
   ]
  },
  {
   "cell_type": "code",
   "execution_count": 33,
   "metadata": {
    "colab": {},
    "colab_type": "code",
    "collapsed": true,
    "id": "HiFETUA9hYL4"
   },
   "outputs": [],
   "source": [
    "# Combining 31,32,33,3M since all belong to MFG\n",
    "#  Combining 44,45,4M since all are RET\n",
    "#  Combining 48,49 since they are all TRN\n",
    "#  Combining 52,53 since they are all FIN\n",
    "# Combining 54,55,56 since they are all PRF\n",
    "# Combining 71,72 since they are all ENT\n",
    "MFG = ['31','32','33','3M']\n",
    "RET = ['44','45','4M']\n",
    "TRN = [48,49]\n",
    "FIN = [52,53]\n",
    "PRF = [54,55,56]\n",
    "ENT = [71,72]"
   ]
  },
  {
   "cell_type": "code",
   "execution_count": 34,
   "metadata": {
    "colab": {
     "base_uri": "https://localhost:8080/",
     "height": 437
    },
    "colab_type": "code",
    "collapsed": false,
    "id": "10VS419MhYL7",
    "outputId": "e000d339-08fc-4413-c6c8-d83ceaf3c6f3"
   },
   "outputs": [
    {
     "name": "stderr",
     "output_type": "stream",
     "text": [
      "C:\\Program Files\\Anaconda3\\lib\\site-packages\\ipykernel\\__main__.py:2: SettingWithCopyWarning: \n",
      "A value is trying to be set on a copy of a slice from a DataFrame.\n",
      "Try using .loc[row_indexer,col_indexer] = value instead\n",
      "\n",
      "See the caveats in the documentation: http://pandas.pydata.org/pandas-docs/stable/indexing.html#indexing-view-versus-copy\n",
      "  from ipykernel import kernelapp as app\n"
     ]
    },
    {
     "data": {
      "text/plain": [
       "10    60568\n",
       "62    17384\n",
       "44    16999\n",
       "54    16647\n",
       "61    15088\n",
       "71    13181\n",
       "31    12774\n",
       "23    10515\n",
       "52     9477\n",
       "81     7576\n",
       "92     7332\n",
       "48     6526\n",
       "42     4154\n",
       "21     3658\n",
       "51     2649\n",
       "11     1991\n",
       "22     1308\n",
       "99     1090\n",
       "Name: NAICSP_Cat, dtype: int64"
      ]
     },
     "execution_count": 34,
     "metadata": {},
     "output_type": "execute_result"
    }
   ],
   "source": [
    "replace_NAISCP_dict = {'32':'31','33':'31','3M':'31','45':'44','4M':'44','49':'48','53':'52','55':'54','56':'54','72':'71'}\n",
    "df1['NAICSP_Cat'] = df1['NAICSP_Cat'].replace(replace_NAISCP_dict)\n",
    "df1['NAICSP_Cat'].value_counts()"
   ]
  },
  {
   "cell_type": "markdown",
   "metadata": {
    "colab_type": "text",
    "id": "B0PjXl-lhYMB"
   },
   "source": [
    "##### 4. JWAP - Time of arrival at work - hour and minute\n",
    "\n",
    "* This column has time frame of every 15 mins and hence has a huge number of levels\n",
    "* We will create a new column of In_time \n"
   ]
  },
  {
   "cell_type": "markdown",
   "metadata": {
    "colab_type": "text",
    "collapsed": true,
    "id": "U6gkRVdehYMC"
   },
   "source": [
    "##### 5. JWDP - Time of departure for work - hour and minute\n",
    "\n",
    "* This column has time frame of every 15 mins and hence has a huge number of levels\n",
    "* We will create a new column of Out_time "
   ]
  },
  {
   "cell_type": "markdown",
   "metadata": {
    "colab_type": "text",
    "id": "g7p1-l5PhYMD"
   },
   "source": [
    "##### 6. SOCP - SOC Occupation code for 2012 and later based on 2010 SOC codes \n",
    "* Reducing the number of levels in this column. This column has huge number of levels. \n",
    "* Merging similar occupations together.\n",
    "\n",
    "           1110XX .MGR-CHIEF EXECUTIVES AND LEGISLATORS *\n",
    "           111021 .MGR-GENERAL AND OPERATIONS MANAGERS\n",
    "           112011 .MGR-ADVERTISING AND PROMOTIONS MANAGERS\n",
    "           112020 .MGR-MARKETING AND SALES MANAGERS\n",
    "           112031 .MGR-PUBLIC RELATIONS AND FUNDRAISING MANAGERS\n",
    "           113011 .MGR-ADMINISTRATIVE SERVICES MANAGERS\n",
    "           113021 .MGR-COMPUTER AND INFORMATION SYSTEMS MANAGERS\n",
    "           113031 .MGR-FINANCIAL MANAGERS\n",
    "           113111 .MGR-COMPENSATION AND BENEFITS MANAGERS\n",
    "           113121 .MGR-HUMAN RESOURCES MANAGERS\n",
    "           113131 .MGR-TRAINING AND DEVELOPMENT MANAGERS\n",
    "           113051 .MGR-INDUSTRIAL PRODUCTION MANAGERS\n",
    "           113061 .MGR-PURCHASING MANAGERS\n",
    "           131041 .BUS-COMPLIANCE OFFICERS\n",
    "           131051 .BUS-COST ESTIMATORS\n",
    "           131070 .BUS-HUMAN RESOURCES WORKERS\n",
    "           131081 .BUS-LOGISTICIANS\n",
    "           131111 .BUS-MANAGEMENT ANALYSTS\n",
    "           131121 .BUS-MEETING CONVENTION, AND EVENT PLANNERS\n",
    "           131131 .BUS-FUNDRAISERS\n",
    "           131141 .BUS-COMPENSATION, BENEFITS, AND JOB ANALYSIS SPECIALISTS\n",
    "           131151 .BUS-TRAINING AND DEVELOPMENT SPECIALISTS\n",
    "           131161 .BUS-MARKET RESEARCH ANALYSTS AND MARKETING SPECIALISTS\n",
    "           131199 .BUS-BUSINESS OPERATIONS SPECIALISTS, ALL OTHER\n",
    "           132011 .FIN-ACCOUNTANTS AND AUDITORS\n",
    "           132021 .FIN-APPRAISERS AND ASSESSORS OF REAL ESTATE\n",
    "           132031 .FIN-BUDGET ANALYSTS"
   ]
  },
  {
   "cell_type": "code",
   "execution_count": 35,
   "metadata": {
    "colab": {
     "base_uri": "https://localhost:8080/",
     "height": 554
    },
    "colab_type": "code",
    "collapsed": false,
    "id": "fTTABlU4hYME",
    "outputId": "1ab6255a-b140-4e5f-d480-0c1181c82d0f"
   },
   "outputs": [
    {
     "name": "stderr",
     "output_type": "stream",
     "text": [
      "C:\\Program Files\\Anaconda3\\lib\\site-packages\\ipykernel\\__main__.py:1: SettingWithCopyWarning: \n",
      "A value is trying to be set on a copy of a slice from a DataFrame.\n",
      "Try using .loc[row_indexer,col_indexer] = value instead\n",
      "\n",
      "See the caveats in the documentation: http://pandas.pydata.org/pandas-docs/stable/indexing.html#indexing-view-versus-copy\n",
      "  if __name__ == '__main__':\n"
     ]
    },
    {
     "data": {
      "text/plain": [
       "0     60568\n",
       "43    19837\n",
       "41    16464\n",
       "11    15049\n",
       "25     9806\n",
       "53     9217\n",
       "47     8789\n",
       "35     8132\n",
       "51     7710\n",
       "29     7492\n",
       "13     7170\n",
       "37     5774\n",
       "39     5050\n",
       "49     4889\n",
       "15     3794\n",
       "33     3276\n",
       "31     2977\n",
       "17     2883\n",
       "27     2571\n",
       "21     2189\n",
       "23     1541\n",
       "19     1126\n",
       "99     1090\n",
       "45      958\n",
       "55      565\n",
       "Name: SOCP_Cat, dtype: int64"
      ]
     },
     "execution_count": 35,
     "metadata": {},
     "output_type": "execute_result"
    }
   ],
   "source": [
    "df1['SOCP_Cat'] = df1.SOCP.astype(str).str[:2]\n",
    "df1['SOCP_Cat'].value_counts()"
   ]
  },
  {
   "cell_type": "markdown",
   "metadata": {
    "colab_type": "text",
    "id": "hBPoRRsLhYMJ"
   },
   "source": [
    "8. POWPUMA\n",
    "* Convert into 3 categories - NotWorker_OR_Under16, NonUS_Or_NonPue and Working"
   ]
  },
  {
   "cell_type": "code",
   "execution_count": 36,
   "metadata": {
    "colab": {
     "base_uri": "https://localhost:8080/",
     "height": 185
    },
    "colab_type": "code",
    "collapsed": false,
    "id": "MSdULxTmhYMJ",
    "outputId": "4d8714da-4b30-4564-b4fd-5abfc7b989c1"
   },
   "outputs": [
    {
     "name": "stderr",
     "output_type": "stream",
     "text": [
      "C:\\Program Files\\Anaconda3\\lib\\site-packages\\ipykernel\\__main__.py:1: SettingWithCopyWarning: \n",
      "A value is trying to be set on a copy of a slice from a DataFrame.\n",
      "Try using .loc[row_indexer,col_indexer] = value instead\n",
      "\n",
      "See the caveats in the documentation: http://pandas.pydata.org/pandas-docs/stable/indexing.html#indexing-view-versus-copy\n",
      "  if __name__ == '__main__':\n"
     ]
    },
    {
     "data": {
      "text/plain": [
       "Assigned_POW            114760\n",
       "NotWorker_OR_Under16     94019\n",
       "Grad_Or_Above              138\n",
       "Name: POWPUMA_Cat, dtype: int64"
      ]
     },
     "execution_count": 36,
     "metadata": {},
     "output_type": "execute_result"
    }
   ],
   "source": [
    "df1['POWPUMA_Cat'] = ['NotWorker_OR_Under16' if x == 0 else 'Grad_Or_Above' if x == 1 else 'Assigned_POW' for x in df1['POWPUMA']]\n",
    "df1['POWPUMA_Cat'].value_counts()"
   ]
  },
  {
   "cell_type": "code",
   "execution_count": 0,
   "metadata": {
    "colab": {},
    "colab_type": "code",
    "collapsed": true,
    "id": "PvOnhAwVhYMP"
   },
   "outputs": [],
   "source": []
  },
  {
   "cell_type": "code",
   "execution_count": 0,
   "metadata": {
    "colab": {},
    "colab_type": "code",
    "collapsed": true,
    "id": "Vk_INR-zhYMS"
   },
   "outputs": [],
   "source": []
  },
  {
   "cell_type": "markdown",
   "metadata": {
    "colab_type": "text",
    "id": "JVfyb7KohYMW"
   },
   "source": [
    "## 3. Exploratory Data Analysis"
   ]
  },
  {
   "cell_type": "markdown",
   "metadata": {
    "colab_type": "text",
    "collapsed": true,
    "id": "oX85lzBchYMX"
   },
   "source": [
    "### 3.1 People based on Education looking for work\n",
    "\n",
    "* 0. Less than 16 years old/at work/temporarily absent/informed of recall\n",
    "* 1. Yes\n",
    "* 2. No\n",
    "* 3. Did not report"
   ]
  },
  {
   "cell_type": "code",
   "execution_count": 50,
   "metadata": {
    "colab": {
     "base_uri": "https://localhost:8080/",
     "height": 462
    },
    "colab_type": "code",
    "collapsed": false,
    "id": "jUj4aUa6hYN-",
    "outputId": "24c28dfc-db30-4a8c-a233-528b5b6d28b2"
   },
   "outputs": [
    {
     "data": {
      "text/plain": [
       "<matplotlib.axes._subplots.AxesSubplot at 0x7fb25af454e0>"
      ]
     },
     "execution_count": 50,
     "metadata": {
      "tags": []
     },
     "output_type": "execute_result"
    },
    {
     "data": {
      "image/png": "[encoded data removed]",
      "text/plain": [
       "<Figure size 720x504 with 1 Axes>"
      ]
     },
     "metadata": {
      "tags": []
     },
     "output_type": "display_data"
    }
   ],
   "source": [
    "import matplotlib.pyplot as plt\n",
    "import seaborn as sns\n",
    "%matplotlib inline\n",
    "\n",
    "df11 = df1[df1.WAGP == 0]\n",
    "\n",
    "plt.figure(figsize=(10,7))\n",
    "sns.countplot(data = df11, x = 'NWLK',hue=\"SCH_Cat\")"
   ]
  },
  {
   "cell_type": "code",
   "execution_count": 0,
   "metadata": {
    "colab": {},
    "colab_type": "code",
    "collapsed": true,
    "id": "sp_B5DUyhYOD"
   },
   "outputs": [],
   "source": []
  },
  {
   "cell_type": "markdown",
   "metadata": {
    "colab_type": "text",
    "id": "2KKFb8-ihYOG"
   },
   "source": [
    "### 3.2 Finding Areas with maximum employees"
   ]
  },
  {
   "cell_type": "code",
   "execution_count": 0,
   "metadata": {
    "colab": {},
    "colab_type": "code",
    "collapsed": false,
    "id": "n8jk8NeMhYOH",
    "outputId": "4fba773a-f8c6-476b-8a18-4a5ddffab249"
   },
   "outputs": [
    {
     "data": {
      "text/plain": [
       "<matplotlib.axes._subplots.AxesSubplot at 0x1b1912c9860>"
      ]
     },
     "execution_count": 106,
     "metadata": {
      "tags": []
     },
     "output_type": "execute_result"
    },
    {
     "data": {
      "image/png": "[encoded data removed]",
      "text/plain": [
       "<Figure size 432x288 with 1 Axes>"
      ]
     },
     "metadata": {
      "tags": []
     },
     "output_type": "display_data"
    }
   ],
   "source": [
    "df12 = df1[df1.WAGP != 0]\n",
    "data=df12.groupby('PUMA')['ID'].count().sort_values(ascending=False).head(20)\n",
    "data.plot(kind=\"bar\")"
   ]
  },
  {
   "cell_type": "markdown",
   "metadata": {
    "colab_type": "text",
    "id": "fTnRVUTThYOM"
   },
   "source": []
  },
  {
   "cell_type": "markdown",
   "metadata": {
    "colab_type": "text",
    "id": "JAwqKKaihYON"
   },
   "source": [
    "### 3.3 Unemployed people with higher education"
   ]
  },
  {
   "cell_type": "code",
   "execution_count": 0,
   "metadata": {
    "colab": {},
    "colab_type": "code",
    "collapsed": false,
    "id": "P1ioOff9hYOO",
    "outputId": "d4a78149-5db0-4337-9283-191b767bdc98"
   },
   "outputs": [
    {
     "data": {
      "text/plain": [
       "<matplotlib.axes._subplots.AxesSubplot at 0x1b189889a58>"
      ]
     },
     "execution_count": 92,
     "metadata": {
      "tags": []
     },
     "output_type": "execute_result"
    },
    {
     "data": {
      "image/png": "[encoded data removed]",
      "text/plain": [
       "<Figure size 432x288 with 1 Axes>"
      ]
     },
     "metadata": {
      "tags": []
     },
     "output_type": "display_data"
    }
   ],
   "source": [
    "df2=df1[(df1['WAGP'] == 0) & ((df1[\"SCH_Cat\"] == \"Graduation\") | (df1[\"SCH_Cat\"] ==\"PostGraduation\"))]\n",
    "sns.countplot(data = df2, x = 'WAGP',hue=\"SCH_Cat\")"
   ]
  },
  {
   "cell_type": "markdown",
   "metadata": {
    "colab_type": "text",
    "id": "7YHC8H8ihYOS"
   },
   "source": [
    "### 3.4 Areas of high unemployment"
   ]
  },
  {
   "cell_type": "code",
   "execution_count": 0,
   "metadata": {
    "colab": {},
    "colab_type": "code",
    "collapsed": false,
    "id": "TtH6HGHMhYOX",
    "outputId": "6423acfd-a5d3-45e9-ef67-3c989b957c99"
   },
   "outputs": [
    {
     "data": {
      "text/plain": [
       "Text(0, 0.5, 'Employee Count')"
      ]
     },
     "execution_count": 119,
     "metadata": {
      "tags": []
     },
     "output_type": "execute_result"
    },
    {
     "data": {
      "image/png": "[encoded data removed]",
      "text/plain": [
       "<Figure size 432x288 with 1 Axes>"
      ]
     },
     "metadata": {
      "tags": []
     },
     "output_type": "display_data"
    }
   ],
   "source": [
    "data=df11.groupby('PUMA')['ID'].count().sort_values(ascending=False).head(20)\n",
    "data.plot(kind=\"bar\",title='Areas of high unemployment')\n",
    "plt.xlabel('Area Code')\n",
    "plt.ylabel('Employee Count')"
   ]
  },
  {
   "cell_type": "code",
   "execution_count": 0,
   "metadata": {
    "colab": {},
    "colab_type": "code",
    "collapsed": true,
    "id": "vfFY14EDhYOd"
   },
   "outputs": [],
   "source": []
  },
  {
   "cell_type": "code",
   "execution_count": 0,
   "metadata": {
    "colab": {},
    "colab_type": "code",
    "collapsed": true,
    "id": "AHjkO-a-hYP3"
   },
   "outputs": [],
   "source": [
    "### 3.5 Wages as per Education Qualification"
   ]
  },
  {
   "cell_type": "code",
   "execution_count": 0,
   "metadata": {
    "colab": {},
    "colab_type": "code",
    "collapsed": false,
    "id": "BIrCSySPhYP-",
    "outputId": "6541e34c-dda3-49ab-a251-4edcd4244eb5"
   },
   "outputs": [
    {
     "data": {
      "text/plain": [
       "Text(0, 0.5, 'Wage')"
      ]
     },
     "execution_count": 117,
     "metadata": {
      "tags": []
     },
     "output_type": "execute_result"
    },
    {
     "data": {
      "image/png": "[encoded data removed]",
      "text/plain": [
       "<Figure size 576x360 with 1 Axes>"
      ]
     },
     "metadata": {
      "tags": []
     },
     "output_type": "display_data"
    }
   ],
   "source": [
    "plt.figure(figsize=(8,5))\n",
    "plt.title('Wages as per Education Qualification')\n",
    "sns.barplot(df12.SCH_Cat,df1.WAGP)\n",
    "plt.xlabel('Education Type')\n",
    "plt.ylabel('Wage')"
   ]
  },
  {
   "cell_type": "code",
   "execution_count": 0,
   "metadata": {
    "colab": {},
    "colab_type": "code",
    "collapsed": true,
    "id": "FSBMpkLMhYQD"
   },
   "outputs": [],
   "source": []
  },
  {
   "cell_type": "markdown",
   "metadata": {
    "colab_type": "text",
    "id": "oBNvVOKThYQG"
   },
   "source": [
    "### 3.6 Employee Distribution by the type of industry"
   ]
  },
  {
   "cell_type": "code",
   "execution_count": 0,
   "metadata": {
    "colab": {},
    "colab_type": "code",
    "collapsed": false,
    "id": "wSZ3c0qZhYQH",
    "outputId": "7eae8945-1c08-471b-9167-434dd835624f"
   },
   "outputs": [
    {
     "data": {
      "text/plain": [
       "Text(0, 0.5, 'Employee Count')"
      ]
     },
     "execution_count": 118,
     "metadata": {
      "tags": []
     },
     "output_type": "execute_result"
    },
    {
     "data": {
      "image/png": "[encoded data removed]",
      "text/plain": [
       "<Figure size 432x288 with 1 Axes>"
      ]
     },
     "metadata": {
      "tags": []
     },
     "output_type": "display_data"
    }
   ],
   "source": [
    "data=df12.groupby('NAICSP_Cat')['ID'].count().sort_values(ascending=False).head(20)\n",
    "data.plot(kind=\"bar\",title='Employee Distribution by Industry type')\n",
    "plt.xlabel('Industry Type')\n",
    "plt.ylabel('Employee Count')"
   ]
  },
  {
   "cell_type": "code",
   "execution_count": 0,
   "metadata": {
    "colab": {},
    "colab_type": "code",
    "collapsed": true,
    "id": "-TIj_-3HhYQM"
   },
   "outputs": [],
   "source": []
  },
  {
   "cell_type": "markdown",
   "metadata": {
    "colab_type": "text",
    "id": "DrnmH9QThYQP"
   },
   "source": [
    "### 3.7 Income distribution by industry, Highest paying industries"
   ]
  },
  {
   "cell_type": "code",
   "execution_count": 0,
   "metadata": {
    "colab": {},
    "colab_type": "code",
    "collapsed": false,
    "id": "QE1BQ1HWhYQQ",
    "outputId": "1dd27f2c-f7cd-41bc-b4f0-3f49e9b4b526"
   },
   "outputs": [
    {
     "data": {
      "text/plain": [
       "Text(0, 0.5, 'Wage')"
      ]
     },
     "execution_count": 121,
     "metadata": {
      "tags": []
     },
     "output_type": "execute_result"
    },
    {
     "data": {
      "image/png": "[encoded data removed]",
      "text/plain": [
       "<Figure size 432x288 with 1 Axes>"
      ]
     },
     "metadata": {
      "tags": []
     },
     "output_type": "display_data"
    }
   ],
   "source": [
    "data=df12.groupby('NAICSP_Cat')['WAGP'].mean().sort_values(ascending=False).head(20)\n",
    "data.plot(kind=\"bar\",title='Income distribution by industry')\n",
    "plt.xlabel('Industry Type')\n",
    "plt.ylabel('Wage')"
   ]
  },
  {
   "cell_type": "markdown",
   "metadata": {
    "colab_type": "text",
    "id": "6V759uRLhYR1"
   },
   "source": [
    "### 3.8 Which industry has the most hectic hours"
   ]
  },
  {
   "cell_type": "code",
   "execution_count": 0,
   "metadata": {
    "colab": {},
    "colab_type": "code",
    "collapsed": false,
    "id": "pN1IQLYnhYR1",
    "outputId": "d81f2336-aa35-4e51-f3c0-81b5a5d326fa"
   },
   "outputs": [
    {
     "data": {
      "text/plain": [
       "Text(0, 0.5, 'Hours worked')"
      ]
     },
     "execution_count": 122,
     "metadata": {
      "tags": []
     },
     "output_type": "execute_result"
    },
    {
     "data": {
      "image/png": "[encoded data removed]",
      "text/plain": [
       "<Figure size 432x288 with 1 Axes>"
      ]
     },
     "metadata": {
      "tags": []
     },
     "output_type": "display_data"
    }
   ],
   "source": [
    "data=df12.groupby('NAICSP_Cat')['WKHP'].mean().sort_values(ascending=False).head(20)\n",
    "data.plot(kind=\"bar\",title='Industry type working hours')\n",
    "plt.xlabel('Industry Type')\n",
    "plt.ylabel('Hours worked')"
   ]
  },
  {
   "cell_type": "code",
   "execution_count": 0,
   "metadata": {
    "colab": {},
    "colab_type": "code",
    "collapsed": true,
    "id": "z7YFznRdhYR6"
   },
   "outputs": [],
   "source": []
  },
  {
   "cell_type": "code",
   "execution_count": 0,
   "metadata": {
    "colab": {},
    "colab_type": "code",
    "collapsed": true,
    "id": "ppVl09fNhYSD"
   },
   "outputs": [],
   "source": []
  },
  {
   "cell_type": "code",
   "execution_count": 0,
   "metadata": {
    "colab": {},
    "colab_type": "code",
    "collapsed": true,
    "id": "36ygjCKChYSP"
   },
   "outputs": [],
   "source": []
  },
  {
   "cell_type": "markdown",
   "metadata": {
    "colab_type": "text",
    "collapsed": true,
    "id": "f-y5gC2vhYSS"
   },
   "source": [
    "## 4. Model Building"
   ]
  },
  {
   "cell_type": "code",
   "execution_count": 37,
   "metadata": {
    "colab": {},
    "colab_type": "code",
    "collapsed": true,
    "id": "Zsk0lt9whYST"
   },
   "outputs": [],
   "source": [
    "df2 = df1.copy()"
   ]
  },
  {
   "cell_type": "code",
   "execution_count": 38,
   "metadata": {
    "colab": {
     "base_uri": "https://localhost:8080/",
     "height": 101
    },
    "colab_type": "code",
    "collapsed": false,
    "id": "SeAAtY63hYSa",
    "outputId": "d10619f7-11ef-43f0-c641-582f5d183a7c"
   },
   "outputs": [
    {
     "data": {
      "text/plain": [
       "Index(['ID', 'ST', 'PUMA', 'JWMNP', 'SCHL', 'WAGP', 'WKHP', 'WKW', 'ESR',\n",
       "       'FOD1P', 'NAICSP', 'JWAP', 'JWDP', 'SOCP', 'POWPUMA', 'POWSP', 'NWAB',\n",
       "       'NWAV', 'NWLA', 'NWLK', 'AGEP', 'SCH_Cat', 'FOD1P_Cat', 'NAICSP_Cat',\n",
       "       'SOCP_Cat', 'POWPUMA_Cat'],\n",
       "      dtype='object')"
      ]
     },
     "execution_count": 38,
     "metadata": {},
     "output_type": "execute_result"
    }
   ],
   "source": [
    "df2.columns"
   ]
  },
  {
   "cell_type": "code",
   "execution_count": 39,
   "metadata": {
    "colab": {
     "base_uri": "https://localhost:8080/",
     "height": 84
    },
    "colab_type": "code",
    "collapsed": false,
    "id": "7JRCaLpghYUA",
    "outputId": "1987f27e-6339-4ff0-96a2-a140f8a46ff6"
   },
   "outputs": [
    {
     "data": {
      "text/plain": [
       "Index(['JWMNP', 'WAGP', 'WKHP', 'WKW', 'ESR', 'NWAB', 'NWAV', 'NWLA', 'NWLK',\n",
       "       'AGEP', 'SCH_Cat', 'FOD1P_Cat', 'NAICSP_Cat', 'SOCP_Cat',\n",
       "       'POWPUMA_Cat'],\n",
       "      dtype='object')"
      ]
     },
     "execution_count": 39,
     "metadata": {},
     "output_type": "execute_result"
    }
   ],
   "source": [
    "# Dropping redundant columns and columns with too many levels\n",
    "df2.drop(['ST','POWSP','FOD1P','NAICSP','SOCP','POWPUMA','PUMA','JWDP','JWAP','SCHL','ID'],axis=1,inplace=True)\n",
    "df2.columns"
   ]
  },
  {
   "cell_type": "code",
   "execution_count": 54,
   "metadata": {
    "colab": {
     "base_uri": "https://localhost:8080/",
     "height": 286
    },
    "colab_type": "code",
    "collapsed": false,
    "id": "JuTcDizVhYUE",
    "outputId": "9eda0a14-fc28-4220-a6fa-13b900521d6f"
   },
   "outputs": [
    {
     "data": {
      "text/plain": [
       "JWMNP          float64\n",
       "WAGP           float64\n",
       "WKHP           float64\n",
       "WKW            float64\n",
       "ESR            float64\n",
       "NWAB           float64\n",
       "NWAV           float64\n",
       "NWLA           float64\n",
       "NWLK           float64\n",
       "AGEP             int64\n",
       "SCH_Cat         object\n",
       "FOD1P_Cat       object\n",
       "NAICSP_Cat      object\n",
       "SOCP_Cat        object\n",
       "POWPUMA_Cat     object\n",
       "dtype: object"
      ]
     },
     "execution_count": 54,
     "metadata": {
      "tags": []
     },
     "output_type": "execute_result"
    }
   ],
   "source": [
    "df2.dtypes"
   ]
  },
  {
   "cell_type": "code",
   "execution_count": 40,
   "metadata": {
    "colab": {
     "base_uri": "https://localhost:8080/",
     "height": 286
    },
    "colab_type": "code",
    "collapsed": false,
    "id": "a2ZWoDO7hYUM",
    "outputId": "1d21c96b-0968-421a-a680-2fe8b418609b"
   },
   "outputs": [
    {
     "data": {
      "text/plain": [
       "JWMNP          float64\n",
       "WAGP           float64\n",
       "WKHP           float64\n",
       "WKW            float64\n",
       "ESR             object\n",
       "NWAB            object\n",
       "NWAV            object\n",
       "NWLA            object\n",
       "NWLK            object\n",
       "AGEP             int64\n",
       "SCH_Cat         object\n",
       "FOD1P_Cat       object\n",
       "NAICSP_Cat      object\n",
       "SOCP_Cat        object\n",
       "POWPUMA_Cat     object\n",
       "dtype: object"
      ]
     },
     "execution_count": 40,
     "metadata": {},
     "output_type": "execute_result"
    }
   ],
   "source": [
    "#Changing datatype of columns to categorical \n",
    "\n",
    "cols_cat = ['NWAB','ESR','NWAV','NWLA','NWLK']\n",
    "for col in df2.columns:\n",
    "    if col in cols_cat:\n",
    "        df2[col] = df2[col].astype(object)\n",
    "df2.dtypes"
   ]
  },
  {
   "cell_type": "markdown",
   "metadata": {
    "colab_type": "text",
    "id": "weu_wOu5hYUR"
   },
   "source": [
    "### Checking outliers"
   ]
  },
  {
   "cell_type": "code",
   "execution_count": 56,
   "metadata": {
    "colab": {
     "base_uri": "https://localhost:8080/",
     "height": 300
    },
    "colab_type": "code",
    "collapsed": false,
    "id": "nWVZZgynhYUS",
    "outputId": "435a73fb-63d3-4bd2-8134-c509846925eb"
   },
   "outputs": [
    {
     "data": {
      "text/plain": [
       "<matplotlib.axes._subplots.AxesSubplot at 0x7fb25ae835f8>"
      ]
     },
     "execution_count": 56,
     "metadata": {
      "tags": []
     },
     "output_type": "execute_result"
    },
    {
     "data": {
      "image/png": "[encoded data removed]",
      "text/plain": [
       "<Figure size 432x288 with 1 Axes>"
      ]
     },
     "metadata": {
      "tags": []
     },
     "output_type": "display_data"
    }
   ],
   "source": [
    "import seaborn as sns\n",
    "\n",
    "sns.boxplot(df2['JWMNP'])"
   ]
  },
  {
   "cell_type": "code",
   "execution_count": 57,
   "metadata": {
    "colab": {
     "base_uri": "https://localhost:8080/",
     "height": 300
    },
    "colab_type": "code",
    "collapsed": false,
    "id": "WFjEVjBlhYUW",
    "outputId": "52c7c21e-06d2-4bf6-86e0-b35a2469d9ef"
   },
   "outputs": [
    {
     "data": {
      "text/plain": [
       "<matplotlib.axes._subplots.AxesSubplot at 0x7fb2575819e8>"
      ]
     },
     "execution_count": 57,
     "metadata": {
      "tags": []
     },
     "output_type": "execute_result"
    },
    {
     "data": {
      "image/png": "[encoded data removed]",
      "text/plain": [
       "<Figure size 432x288 with 1 Axes>"
      ]
     },
     "metadata": {
      "tags": []
     },
     "output_type": "display_data"
    }
   ],
   "source": [
    "sns.boxplot(df2['WAGP'])"
   ]
  },
  {
   "cell_type": "code",
   "execution_count": 58,
   "metadata": {
    "colab": {
     "base_uri": "https://localhost:8080/",
     "height": 300
    },
    "colab_type": "code",
    "collapsed": false,
    "id": "BT3kGw78hYUc",
    "outputId": "c8d0be87-5da3-4694-8d9e-cfc8e5346c7c"
   },
   "outputs": [
    {
     "data": {
      "text/plain": [
       "<matplotlib.axes._subplots.AxesSubplot at 0x7fb257557b00>"
      ]
     },
     "execution_count": 58,
     "metadata": {
      "tags": []
     },
     "output_type": "execute_result"
    },
    {
     "data": {
      "image/png": "[encoded data removed]",
      "text/plain": [
       "<Figure size 432x288 with 1 Axes>"
      ]
     },
     "metadata": {
      "tags": []
     },
     "output_type": "display_data"
    }
   ],
   "source": [
    "sns.boxplot(df2['WKHP'])"
   ]
  },
  {
   "cell_type": "code",
   "execution_count": 59,
   "metadata": {
    "colab": {
     "base_uri": "https://localhost:8080/",
     "height": 300
    },
    "colab_type": "code",
    "collapsed": false,
    "id": "pG--PJ1KhYV8",
    "outputId": "62e45e49-2e5b-4c87-f3ab-1fb5662cc93c"
   },
   "outputs": [
    {
     "data": {
      "text/plain": [
       "<matplotlib.axes._subplots.AxesSubplot at 0x7fb2574b5278>"
      ]
     },
     "execution_count": 59,
     "metadata": {
      "tags": []
     },
     "output_type": "execute_result"
    },
    {
     "data": {
      "image/png": "[encoded data removed]",
      "text/plain": [
       "<Figure size 432x288 with 1 Axes>"
      ]
     },
     "metadata": {
      "tags": []
     },
     "output_type": "display_data"
    }
   ],
   "source": [
    "sns.boxplot(df2['WKW'])"
   ]
  },
  {
   "cell_type": "code",
   "execution_count": 60,
   "metadata": {
    "colab": {
     "base_uri": "https://localhost:8080/",
     "height": 300
    },
    "colab_type": "code",
    "collapsed": false,
    "id": "zEyUjDZnhYWA",
    "outputId": "6486a263-938a-4fe5-ad5e-0b6f3743773b"
   },
   "outputs": [
    {
     "data": {
      "text/plain": [
       "<matplotlib.axes._subplots.AxesSubplot at 0x7fb2574b53c8>"
      ]
     },
     "execution_count": 60,
     "metadata": {
      "tags": []
     },
     "output_type": "execute_result"
    },
    {
     "data": {
      "image/png": "[encoded data removed]",
      "text/plain": [
       "<Figure size 432x288 with 1 Axes>"
      ]
     },
     "metadata": {
      "tags": []
     },
     "output_type": "display_data"
    }
   ],
   "source": [
    "sns.boxplot(df2['AGEP'])"
   ]
  },
  {
   "cell_type": "code",
   "execution_count": 61,
   "metadata": {
    "colab": {
     "base_uri": "https://localhost:8080/",
     "height": 286
    },
    "colab_type": "code",
    "collapsed": false,
    "id": "XiDgofrVhYWD",
    "outputId": "93e45b1f-7c80-4c11-fa8e-01259750a656"
   },
   "outputs": [
    {
     "data": {
      "text/plain": [
       "<matplotlib.axes._subplots.AxesSubplot at 0x7fb2571581d0>"
      ]
     },
     "execution_count": 61,
     "metadata": {
      "tags": []
     },
     "output_type": "execute_result"
    },
    {
     "data": {
      "image/png": "[encoded data removed]",
      "text/plain": [
       "<Figure size 432x288 with 2 Axes>"
      ]
     },
     "metadata": {
      "tags": []
     },
     "output_type": "display_data"
    }
   ],
   "source": [
    "# Checking correlation between the columns\n",
    "\n",
    "import matplotlib.pyplot as plt\n",
    "%matplotlib inline\n",
    "\n",
    "sns.heatmap(df2.corr(),annot=True,linewidths=1)"
   ]
  },
  {
   "cell_type": "markdown",
   "metadata": {
    "colab_type": "text",
    "id": "3drKcyf6hYWG"
   },
   "source": [
    "### Removing outliers"
   ]
  },
  {
   "cell_type": "code",
   "execution_count": 41,
   "metadata": {
    "colab": {},
    "colab_type": "code",
    "collapsed": true,
    "id": "6vbYwPwLhYWH"
   },
   "outputs": [],
   "source": [
    "df3 = df2.copy()"
   ]
  },
  {
   "cell_type": "code",
   "execution_count": 42,
   "metadata": {
    "colab": {
     "base_uri": "https://localhost:8080/",
     "height": 284
    },
    "colab_type": "code",
    "collapsed": false,
    "id": "Pt-h4U2PhYWJ",
    "outputId": "c0f969e4-e8fa-4a2f-c9b5-04d0c3aad726"
   },
   "outputs": [
    {
     "data": {
      "text/html": [
       "<div>\n",
       "<table border=\"1\" class=\"dataframe\">\n",
       "  <thead>\n",
       "    <tr style=\"text-align: right;\">\n",
       "      <th></th>\n",
       "      <th>JWMNP</th>\n",
       "      <th>WAGP</th>\n",
       "      <th>WKHP</th>\n",
       "      <th>WKW</th>\n",
       "      <th>AGEP</th>\n",
       "    </tr>\n",
       "  </thead>\n",
       "  <tbody>\n",
       "    <tr>\n",
       "      <th>count</th>\n",
       "      <td>208917.000000</td>\n",
       "      <td>208917.000000</td>\n",
       "      <td>208917.000000</td>\n",
       "      <td>208917.000000</td>\n",
       "      <td>208917.000000</td>\n",
       "    </tr>\n",
       "    <tr>\n",
       "      <th>mean</th>\n",
       "      <td>13.746847</td>\n",
       "      <td>28058.387857</td>\n",
       "      <td>24.672305</td>\n",
       "      <td>1.143746</td>\n",
       "      <td>46.564578</td>\n",
       "    </tr>\n",
       "    <tr>\n",
       "      <th>std</th>\n",
       "      <td>21.169373</td>\n",
       "      <td>52571.880706</td>\n",
       "      <td>21.894023</td>\n",
       "      <td>1.544477</td>\n",
       "      <td>19.252988</td>\n",
       "    </tr>\n",
       "    <tr>\n",
       "      <th>min</th>\n",
       "      <td>0.000000</td>\n",
       "      <td>0.000000</td>\n",
       "      <td>0.000000</td>\n",
       "      <td>0.000000</td>\n",
       "      <td>15.000000</td>\n",
       "    </tr>\n",
       "    <tr>\n",
       "      <th>25%</th>\n",
       "      <td>0.000000</td>\n",
       "      <td>0.000000</td>\n",
       "      <td>0.000000</td>\n",
       "      <td>0.000000</td>\n",
       "      <td>30.000000</td>\n",
       "    </tr>\n",
       "    <tr>\n",
       "      <th>50%</th>\n",
       "      <td>5.000000</td>\n",
       "      <td>7200.000000</td>\n",
       "      <td>30.000000</td>\n",
       "      <td>1.000000</td>\n",
       "      <td>46.000000</td>\n",
       "    </tr>\n",
       "    <tr>\n",
       "      <th>75%</th>\n",
       "      <td>20.000000</td>\n",
       "      <td>40000.000000</td>\n",
       "      <td>40.000000</td>\n",
       "      <td>1.000000</td>\n",
       "      <td>61.000000</td>\n",
       "    </tr>\n",
       "    <tr>\n",
       "      <th>max</th>\n",
       "      <td>159.000000</td>\n",
       "      <td>451000.000000</td>\n",
       "      <td>99.000000</td>\n",
       "      <td>6.000000</td>\n",
       "      <td>92.000000</td>\n",
       "    </tr>\n",
       "  </tbody>\n",
       "</table>\n",
       "</div>"
      ],
      "text/plain": [
       "               JWMNP           WAGP           WKHP            WKW  \\\n",
       "count  208917.000000  208917.000000  208917.000000  208917.000000   \n",
       "mean       13.746847   28058.387857      24.672305       1.143746   \n",
       "std        21.169373   52571.880706      21.894023       1.544477   \n",
       "min         0.000000       0.000000       0.000000       0.000000   \n",
       "25%         0.000000       0.000000       0.000000       0.000000   \n",
       "50%         5.000000    7200.000000      30.000000       1.000000   \n",
       "75%        20.000000   40000.000000      40.000000       1.000000   \n",
       "max       159.000000  451000.000000      99.000000       6.000000   \n",
       "\n",
       "                AGEP  \n",
       "count  208917.000000  \n",
       "mean       46.564578  \n",
       "std        19.252988  \n",
       "min        15.000000  \n",
       "25%        30.000000  \n",
       "50%        46.000000  \n",
       "75%        61.000000  \n",
       "max        92.000000  "
      ]
     },
     "execution_count": 42,
     "metadata": {},
     "output_type": "execute_result"
    }
   ],
   "source": [
    "df3.describe()"
   ]
  },
  {
   "cell_type": "code",
   "execution_count": 64,
   "metadata": {
    "colab": {
     "base_uri": "https://localhost:8080/",
     "height": 34
    },
    "colab_type": "code",
    "collapsed": false,
    "id": "GRJB1_hphYWM",
    "outputId": "640ed845-4937-448e-f2f2-1da4db6dfc77"
   },
   "outputs": [
    {
     "data": {
      "text/plain": [
       "87588"
      ]
     },
     "execution_count": 64,
     "metadata": {
      "tags": []
     },
     "output_type": "execute_result"
    }
   ],
   "source": [
    "(df3['WAGP'] == 0).sum()"
   ]
  },
  {
   "cell_type": "code",
   "execution_count": 65,
   "metadata": {
    "colab": {
     "base_uri": "https://localhost:8080/",
     "height": 34
    },
    "colab_type": "code",
    "collapsed": false,
    "id": "qnQBETzMhYWP",
    "outputId": "f6544205-c052-4a21-fbf5-c583d2326fba"
   },
   "outputs": [
    {
     "data": {
      "text/plain": [
       "1589"
      ]
     },
     "execution_count": 65,
     "metadata": {
      "tags": []
     },
     "output_type": "execute_result"
    }
   ],
   "source": [
    "(df3['WAGP'] == 451000).sum()"
   ]
  },
  {
   "cell_type": "code",
   "execution_count": 66,
   "metadata": {
    "colab": {
     "base_uri": "https://localhost:8080/",
     "height": 34
    },
    "colab_type": "code",
    "collapsed": false,
    "id": "dSLzgU89hYWS",
    "outputId": "5163ab49-a6ef-42fa-c7dc-7d98660cf386"
   },
   "outputs": [
    {
     "data": {
      "text/plain": [
       "(208917, 15)"
      ]
     },
     "execution_count": 66,
     "metadata": {
      "tags": []
     },
     "output_type": "execute_result"
    }
   ],
   "source": [
    "df3.shape"
   ]
  },
  {
   "cell_type": "code",
   "execution_count": 43,
   "metadata": {
    "colab": {
     "base_uri": "https://localhost:8080/",
     "height": 34
    },
    "colab_type": "code",
    "collapsed": false,
    "id": "tGFz6E4qhYWV",
    "outputId": "6a4281c7-3f34-4f64-8968-87ceeb8577bf"
   },
   "outputs": [
    {
     "data": {
      "text/plain": [
       "(121329, 15)"
      ]
     },
     "execution_count": 43,
     "metadata": {},
     "output_type": "execute_result"
    }
   ],
   "source": [
    "df3 = df3[df3['WAGP'] != 0]\n",
    "df3.shape"
   ]
  },
  {
   "cell_type": "code",
   "execution_count": 68,
   "metadata": {
    "colab": {
     "base_uri": "https://localhost:8080/",
     "height": 300
    },
    "colab_type": "code",
    "collapsed": false,
    "id": "7EWPdc5-hYWZ",
    "outputId": "3deef224-0f10-46a2-855e-843dc20f08bb"
   },
   "outputs": [
    {
     "data": {
      "text/plain": [
       "<matplotlib.axes._subplots.AxesSubplot at 0x7fb25610a3c8>"
      ]
     },
     "execution_count": 68,
     "metadata": {
      "tags": []
     },
     "output_type": "execute_result"
    },
    {
     "data": {
      "image/png": "[encoded data removed]",
      "text/plain": [
       "<Figure size 432x288 with 1 Axes>"
      ]
     },
     "metadata": {
      "tags": []
     },
     "output_type": "display_data"
    }
   ],
   "source": [
    "sns.boxplot(df3['WAGP'])"
   ]
  },
  {
   "cell_type": "code",
   "execution_count": 44,
   "metadata": {
    "colab": {
     "base_uri": "https://localhost:8080/",
     "height": 34
    },
    "colab_type": "code",
    "collapsed": false,
    "id": "CfK3uXxahYX2",
    "outputId": "6deafb18-8f8e-4317-cd11-fa409b31dea3"
   },
   "outputs": [
    {
     "data": {
      "text/plain": [
       "(119740, 15)"
      ]
     },
     "execution_count": 44,
     "metadata": {},
     "output_type": "execute_result"
    }
   ],
   "source": [
    "df3 = df3[df3['WAGP'] != 451000]\n",
    "df3.shape"
   ]
  },
  {
   "cell_type": "code",
   "execution_count": 70,
   "metadata": {
    "colab": {
     "base_uri": "https://localhost:8080/",
     "height": 300
    },
    "colab_type": "code",
    "collapsed": false,
    "id": "b3fMf9kZhYX5",
    "outputId": "5b483982-e0a9-48b9-b95d-59155b38f7ed"
   },
   "outputs": [
    {
     "data": {
      "text/plain": [
       "<matplotlib.axes._subplots.AxesSubplot at 0x7fb25606da90>"
      ]
     },
     "execution_count": 70,
     "metadata": {
      "tags": []
     },
     "output_type": "execute_result"
    },
    {
     "data": {
      "image/png": "[encoded data removed]",
      "text/plain": [
       "<Figure size 432x288 with 1 Axes>"
      ]
     },
     "metadata": {
      "tags": []
     },
     "output_type": "display_data"
    }
   ],
   "source": [
    "sns.boxplot(df3['WAGP'])"
   ]
  },
  {
   "cell_type": "code",
   "execution_count": 71,
   "metadata": {
    "colab": {
     "base_uri": "https://localhost:8080/",
     "height": 34
    },
    "colab_type": "code",
    "collapsed": false,
    "id": "FFZV-U-ihYX9",
    "outputId": "c4415c08-481f-45b7-c953-1f44bcb0bc0e"
   },
   "outputs": [
    {
     "data": {
      "text/plain": [
       "3071"
      ]
     },
     "execution_count": 71,
     "metadata": {
      "tags": []
     },
     "output_type": "execute_result"
    }
   ],
   "source": [
    "(df3['WAGP'] > 150000).sum()"
   ]
  },
  {
   "cell_type": "code",
   "execution_count": 45,
   "metadata": {
    "colab": {
     "base_uri": "https://localhost:8080/",
     "height": 34
    },
    "colab_type": "code",
    "collapsed": false,
    "id": "SFlyE6rchYYB",
    "outputId": "e3af1346-0daf-42c1-9473-d6050c57ec55"
   },
   "outputs": [
    {
     "data": {
      "text/plain": [
       "(111470, 15)"
      ]
     },
     "execution_count": 45,
     "metadata": {},
     "output_type": "execute_result"
    }
   ],
   "source": [
    "df3 = df3[df3['WAGP'] < 110000]\n",
    "df3.shape"
   ]
  },
  {
   "cell_type": "code",
   "execution_count": 73,
   "metadata": {
    "colab": {
     "base_uri": "https://localhost:8080/",
     "height": 300
    },
    "colab_type": "code",
    "collapsed": false,
    "id": "PGb9De_QhYYH",
    "outputId": "f2c3f521-9adf-4809-ba3b-e70d3591f19c"
   },
   "outputs": [
    {
     "data": {
      "text/plain": [
       "<matplotlib.axes._subplots.AxesSubplot at 0x7fb256041438>"
      ]
     },
     "execution_count": 73,
     "metadata": {
      "tags": []
     },
     "output_type": "execute_result"
    },
    {
     "data": {
      "image/png": "[encoded data removed]",
      "text/plain": [
       "<Figure size 432x288 with 1 Axes>"
      ]
     },
     "metadata": {
      "tags": []
     },
     "output_type": "display_data"
    }
   ],
   "source": [
    "sns.boxplot(df3['WAGP'])"
   ]
  },
  {
   "cell_type": "code",
   "execution_count": 74,
   "metadata": {
    "colab": {
     "base_uri": "https://localhost:8080/",
     "height": 300
    },
    "colab_type": "code",
    "collapsed": false,
    "id": "zpYV9gnehYYL",
    "outputId": "d5f244b4-477a-4a5e-f442-d8b04aba9092"
   },
   "outputs": [
    {
     "data": {
      "text/plain": [
       "<matplotlib.axes._subplots.AxesSubplot at 0x7fb256001e10>"
      ]
     },
     "execution_count": 74,
     "metadata": {
      "tags": []
     },
     "output_type": "execute_result"
    },
    {
     "data": {
      "image/png": "[encoded data removed]",
      "text/plain": [
       "<Figure size 432x288 with 1 Axes>"
      ]
     },
     "metadata": {
      "tags": []
     },
     "output_type": "display_data"
    }
   ],
   "source": [
    "sns.boxplot(df3['JWMNP'])"
   ]
  },
  {
   "cell_type": "code",
   "execution_count": 75,
   "metadata": {
    "colab": {
     "base_uri": "https://localhost:8080/",
     "height": 34
    },
    "colab_type": "code",
    "collapsed": false,
    "id": "WpFpdWIyhYYW",
    "outputId": "1f3e51e4-ea67-4fcf-8662-674b5d6b81fa"
   },
   "outputs": [
    {
     "data": {
      "text/plain": [
       "3246"
      ]
     },
     "execution_count": 75,
     "metadata": {
      "tags": []
     },
     "output_type": "execute_result"
    }
   ],
   "source": [
    "(df3['JWMNP'] > 60).sum()"
   ]
  },
  {
   "cell_type": "code",
   "execution_count": 47,
   "metadata": {
    "colab": {
     "base_uri": "https://localhost:8080/",
     "height": 300
    },
    "colab_type": "code",
    "collapsed": false,
    "id": "SByGUEsRhYYa",
    "outputId": "96d60843-fde0-4b01-ba93-63222e0a50e1"
   },
   "outputs": [],
   "source": [
    "for index,row in df3.iterrows():\n",
    "    if df3.loc[index,'JWMNP'] > 60:\n",
    "        df3.loc[index,'JWMNP'] = 60\n",
    "#sns.boxplot(df3['JWMNP'])"
   ]
  },
  {
   "cell_type": "code",
   "execution_count": 77,
   "metadata": {
    "colab": {
     "base_uri": "https://localhost:8080/",
     "height": 34
    },
    "colab_type": "code",
    "collapsed": false,
    "id": "dKd9axGYhYZ9",
    "outputId": "84406245-2756-4115-c34d-5607489e5ad7"
   },
   "outputs": [
    {
     "data": {
      "text/plain": [
       "(111470, 15)"
      ]
     },
     "execution_count": 77,
     "metadata": {
      "tags": []
     },
     "output_type": "execute_result"
    }
   ],
   "source": [
    "\n",
    "df3.shape"
   ]
  },
  {
   "cell_type": "code",
   "execution_count": 78,
   "metadata": {
    "colab": {
     "base_uri": "https://localhost:8080/",
     "height": 300
    },
    "colab_type": "code",
    "collapsed": false,
    "id": "EXcEAnRGhYaD",
    "outputId": "a2726342-efb1-4813-901b-cf0bcc79f10b"
   },
   "outputs": [
    {
     "data": {
      "text/plain": [
       "<matplotlib.axes._subplots.AxesSubplot at 0x7fb255f5de80>"
      ]
     },
     "execution_count": 78,
     "metadata": {
      "tags": []
     },
     "output_type": "execute_result"
    },
    {
     "data": {
      "image/png": "[encoded data removed]",
      "text/plain": [
       "<Figure size 432x288 with 1 Axes>"
      ]
     },
     "metadata": {
      "tags": []
     },
     "output_type": "display_data"
    }
   ],
   "source": [
    "sns.boxplot(df3['JWMNP'])"
   ]
  },
  {
   "cell_type": "code",
   "execution_count": 79,
   "metadata": {
    "colab": {
     "base_uri": "https://localhost:8080/",
     "height": 300
    },
    "colab_type": "code",
    "collapsed": false,
    "id": "IzAx8kRLhYaM",
    "outputId": "a7c755ac-4337-4ce9-8462-d6c3f4bf0ef7"
   },
   "outputs": [
    {
     "data": {
      "text/plain": [
       "<matplotlib.axes._subplots.AxesSubplot at 0x7fb255461710>"
      ]
     },
     "execution_count": 79,
     "metadata": {
      "tags": []
     },
     "output_type": "execute_result"
    },
    {
     "data": {
      "image/png": "[encoded data removed]",
      "text/plain": [
       "<Figure size 432x288 with 1 Axes>"
      ]
     },
     "metadata": {
      "tags": []
     },
     "output_type": "display_data"
    }
   ],
   "source": [
    "sns.boxplot(df3['WKW'])"
   ]
  },
  {
   "cell_type": "code",
   "execution_count": 49,
   "metadata": {
    "colab": {
     "base_uri": "https://localhost:8080/",
     "height": 300
    },
    "colab_type": "code",
    "collapsed": false,
    "id": "TgVN5e_UhYaR",
    "outputId": "b5972c5d-e790-403b-8f1a-8be4393a53d5"
   },
   "outputs": [],
   "source": [
    "for index,row in df3.iterrows():\n",
    "    if df3.loc[index,'WKW'] > 3:\n",
    "        df3.loc[index,'WKW'] = 3\n",
    "#sns.boxplot(df3['WKW'])"
   ]
  },
  {
   "cell_type": "code",
   "execution_count": 81,
   "metadata": {
    "colab": {
     "base_uri": "https://localhost:8080/",
     "height": 84
    },
    "colab_type": "code",
    "collapsed": false,
    "id": "gKP2bdcxhYaU",
    "outputId": "93df11fc-a840-436a-e482-48c0eb1d70dd"
   },
   "outputs": [
    {
     "data": {
      "text/plain": [
       "Index(['JWMNP', 'WAGP', 'WKHP', 'WKW', 'ESR', 'NWAB', 'NWAV', 'NWLA', 'NWLK',\n",
       "       'AGEP', 'SCH_Cat', 'FOD1P_Cat', 'NAICSP_Cat', 'SOCP_Cat',\n",
       "       'POWPUMA_Cat'],\n",
       "      dtype='object')"
      ]
     },
     "execution_count": 81,
     "metadata": {
      "tags": []
     },
     "output_type": "execute_result"
    }
   ],
   "source": [
    "df3.columns"
   ]
  },
  {
   "cell_type": "code",
   "execution_count": 82,
   "metadata": {
    "colab": {
     "base_uri": "https://localhost:8080/",
     "height": 286
    },
    "colab_type": "code",
    "collapsed": false,
    "id": "mSVIUui_hYaY",
    "outputId": "6f43eab4-f865-4a4e-89a1-de51be675bb0"
   },
   "outputs": [
    {
     "data": {
      "text/plain": [
       "<matplotlib.axes._subplots.AxesSubplot at 0x7fb25543cdd8>"
      ]
     },
     "execution_count": 82,
     "metadata": {
      "tags": []
     },
     "output_type": "execute_result"
    },
    {
     "data": {
      "image/png": "[encoded data removed]",
      "text/plain": [
       "<Figure size 432x288 with 2 Axes>"
      ]
     },
     "metadata": {
      "tags": []
     },
     "output_type": "display_data"
    }
   ],
   "source": [
    "sns.heatmap(df3.corr(),annot=True,linewidths=1)"
   ]
  },
  {
   "cell_type": "code",
   "execution_count": 50,
   "metadata": {
    "colab": {},
    "colab_type": "code",
    "collapsed": true,
    "id": "nHb1kPPAhYab"
   },
   "outputs": [],
   "source": [
    "X = df3.loc[:,~df3.columns.isin(['WAGP'])]\n",
    "y = df3['WAGP']"
   ]
  },
  {
   "cell_type": "code",
   "execution_count": 51,
   "metadata": {
    "colab": {
     "base_uri": "https://localhost:8080/",
     "height": 50
    },
    "colab_type": "code",
    "collapsed": false,
    "id": "qLPdhBjphYac",
    "outputId": "b08041e8-d6db-451f-8bd1-495c46ac8972"
   },
   "outputs": [
    {
     "name": "stdout",
     "output_type": "stream",
     "text": [
      "(111470, 14)\n",
      "(111470,)\n"
     ]
    }
   ],
   "source": [
    "print(X.shape)\n",
    "print(y.shape)"
   ]
  },
  {
   "cell_type": "code",
   "execution_count": 52,
   "metadata": {
    "colab": {
     "base_uri": "https://localhost:8080/",
     "height": 34
    },
    "colab_type": "code",
    "collapsed": false,
    "id": "cHcLRjDXhYb_",
    "outputId": "ac3054ae-8aca-4aa3-c4b6-38e542b88011"
   },
   "outputs": [
    {
     "data": {
      "text/plain": [
       "(111470, 64)"
      ]
     },
     "execution_count": 52,
     "metadata": {},
     "output_type": "execute_result"
    }
   ],
   "source": [
    "# One Hot Encoding\n",
    "X_dummy = pd.get_dummies(X,drop_first=True,prefix_sep='_')\n",
    "X_dummy.shape"
   ]
  },
  {
   "cell_type": "code",
   "execution_count": 0,
   "metadata": {
    "colab": {},
    "colab_type": "code",
    "collapsed": true,
    "id": "4cxQu0yzhYcD"
   },
   "outputs": [],
   "source": []
  },
  {
   "cell_type": "markdown",
   "metadata": {
    "colab": {},
    "colab_type": "code",
    "id": "UcxKBCYghYcF"
   },
   "source": [
    "## Building a Linear Regression Model"
   ]
  },
  {
   "cell_type": "code",
   "execution_count": 53,
   "metadata": {
    "colab": {
     "base_uri": "https://localhost:8080/",
     "height": 84
    },
    "colab_type": "code",
    "collapsed": false,
    "id": "JS1hThMAhYcQ",
    "outputId": "a034770d-91ac-495e-ff89-09566463380d"
   },
   "outputs": [
    {
     "name": "stdout",
     "output_type": "stream",
     "text": [
      "Root mean squared error on Training Set 18308.33092234188\n",
      "R2 score on Training Set:  0.5128867354805232\n",
      "Root mean squared error on Testing Set 18460.205326720825\n",
      "R2 score on Testing Set:  0.5114360415010928\n"
     ]
    }
   ],
   "source": [
    "from sklearn.linear_model import LinearRegression\n",
    "from sklearn.metrics import r2_score, mean_squared_error\n",
    "from sklearn.model_selection import train_test_split\n",
    "\n",
    "X_train,X_test,y_train,y_test= train_test_split(X_dummy,y,test_size=0.3,random_state=70)\n",
    "linear_model = LinearRegression().fit(X_train,y_train)\n",
    "\n",
    "y_train_predict = linear_model.predict(X_train)\n",
    "rmse_train = np.sqrt(mean_squared_error(y_train,y_train_predict))\n",
    "r2_train = r2_score(y_train,y_train_predict)\n",
    "\n",
    "y_pred_linear = linear_model.predict(X_test)\n",
    "rmse = np.sqrt(mean_squared_error(y_test,y_pred_linear))\n",
    "r2 = r2_score(y_test,y_pred_linear)\n",
    "\n",
    "print('Root mean squared error on Training Set', rmse_train)\n",
    "print('R2 score on Training Set: ', r2_train)\n",
    "\n",
    "print('Root mean squared error on Testing Set', rmse)\n",
    "print('R2 score on Testing Set: ', r2)"
   ]
  },
  {
   "cell_type": "code",
   "execution_count": 0,
   "metadata": {
    "colab": {},
    "colab_type": "code",
    "collapsed": true,
    "id": "u20c-cVohYcU"
   },
   "outputs": [],
   "source": []
  },
  {
   "cell_type": "markdown",
   "metadata": {
    "colab": {},
    "colab_type": "code",
    "id": "_8amrO6shYcV"
   },
   "source": [
    "## Building a Decision Tree Regressor\n",
    "\n",
    "*ID3 are able to handle categorical variables. Other, like CART algorithm are not."
   ]
  },
  {
   "cell_type": "code",
   "execution_count": 0,
   "metadata": {
    "colab": {},
    "colab_type": "code",
    "collapsed": true,
    "id": "DebIg24uhYcW"
   },
   "outputs": [],
   "source": [
    "from sklearn.tree import DecisionTreeRegressor\n",
    "regressor = DecisionTreeRegressor(random_state=0,max_depth=10,max_features='sqrt',max_leaf_nodes=50)"
   ]
  },
  {
   "cell_type": "code",
   "execution_count": 0,
   "metadata": {
    "colab": {},
    "colab_type": "code",
    "collapsed": true,
    "id": "_nX5OOn5hYcY"
   },
   "outputs": [],
   "source": []
  },
  {
   "cell_type": "code",
   "execution_count": 88,
   "metadata": {
    "colab": {
     "base_uri": "https://localhost:8080/",
     "height": 101
    },
    "colab_type": "code",
    "collapsed": false,
    "id": "f9FLuyllhYcc",
    "outputId": "0c58497c-35a2-4737-81ab-b988fccb7dc0"
   },
   "outputs": [
    {
     "data": {
      "text/plain": [
       "DecisionTreeRegressor(criterion='mse', max_depth=10, max_features='sqrt',\n",
       "           max_leaf_nodes=50, min_impurity_decrease=0.0,\n",
       "           min_impurity_split=None, min_samples_leaf=1,\n",
       "           min_samples_split=2, min_weight_fraction_leaf=0.0,\n",
       "           presort=False, random_state=0, splitter='best')"
      ]
     },
     "execution_count": 88,
     "metadata": {
      "tags": []
     },
     "output_type": "execute_result"
    }
   ],
   "source": [
    "regressor.fit(X_train,y_train)"
   ]
  },
  {
   "cell_type": "code",
   "execution_count": 89,
   "metadata": {
    "colab": {
     "base_uri": "https://localhost:8080/",
     "height": 84
    },
    "colab_type": "code",
    "collapsed": false,
    "id": "4669r3ljhYcf",
    "outputId": "d7408714-7d71-4ffb-da82-5a904aa81e5b"
   },
   "outputs": [
    {
     "name": "stdout",
     "output_type": "stream",
     "text": [
      "Root mean squared error on Training Set 20215.784595451332\n",
      "R2 score on Training Set:  0.4060995540044081\n",
      "Root mean squared error on Testing Set 20409.449890935055\n",
      "R2 score on Testing Set:  0.402812141508028\n"
     ]
    }
   ],
   "source": [
    "y_train_predict = regressor.predict(X_train)\n",
    "rmse_train = np.sqrt(mean_squared_error(y_train,y_train_predict))\n",
    "r2_train = r2_score(y_train,y_train_predict)\n",
    "\n",
    "y_pred = regressor.predict(X_test)\n",
    "rmse = np.sqrt(mean_squared_error(y_test,y_pred))\n",
    "r2 = r2_score(y_test,y_pred)\n",
    "\n",
    "print('Root mean squared error on Training Set', rmse_train)\n",
    "print('R2 score on Training Set: ', r2_train)\n",
    "\n",
    "print('Root mean squared error on Testing Set', rmse)\n",
    "print('R2 score on Testing Set: ', r2)"
   ]
  },
  {
   "cell_type": "markdown",
   "metadata": {
    "colab": {},
    "colab_type": "code",
    "id": "9MDXX8WOhYch"
   },
   "source": [
    "## Building a Random Forest Tree Regressor"
   ]
  },
  {
   "cell_type": "code",
   "execution_count": 90,
   "metadata": {
    "colab": {
     "base_uri": "https://localhost:8080/",
     "height": 54
    },
    "colab_type": "code",
    "collapsed": false,
    "id": "97z0o5qdhYcl",
    "outputId": "f5621163-7c1c-40fd-f475-8c3e599e521f"
   },
   "outputs": [
    {
     "name": "stdout",
     "output_type": "stream",
     "text": [
      "{'bootstrap': True, 'criterion': 'mse', 'max_depth': None, 'max_features': 'auto', 'max_leaf_nodes': None, 'min_impurity_decrease': 0.0, 'min_impurity_split': None, 'min_samples_leaf': 1, 'min_samples_split': 2, 'min_weight_fraction_leaf': 0.0, 'n_estimators': 'warn', 'n_jobs': None, 'oob_score': False, 'random_state': 0, 'verbose': 0, 'warm_start': False}\n"
     ]
    }
   ],
   "source": [
    "from sklearn.ensemble import RandomForestRegressor\n",
    "rf = RandomForestRegressor(random_state = 0)\n",
    "print(rf.get_params())"
   ]
  },
  {
   "cell_type": "code",
   "execution_count": 0,
   "metadata": {
    "colab": {},
    "colab_type": "code",
    "collapsed": true,
    "id": "KpBCevKxX9LA"
   },
   "outputs": [],
   "source": []
  },
  {
   "cell_type": "code",
   "execution_count": 91,
   "metadata": {
    "colab": {
     "base_uri": "https://localhost:8080/",
     "height": 118
    },
    "colab_type": "code",
    "collapsed": false,
    "id": "yunX0nE0hYeG",
    "outputId": "31f4fa91-7202-4995-e9f8-2e7a882b584e"
   },
   "outputs": [
    {
     "name": "stderr",
     "output_type": "stream",
     "text": [
      "/usr/local/lib/python3.6/dist-packages/sklearn/ensemble/forest.py:246: FutureWarning: The default value of n_estimators will change from 10 in version 0.20 to 100 in 0.22.\n",
      "  \"10 in version 0.20 to 100 in 0.22.\", FutureWarning)\n"
     ]
    },
    {
     "name": "stdout",
     "output_type": "stream",
     "text": [
      "Root mean squared error on Training Set 8465.792426194916\n",
      "R2 score on Training Set:  0.8958479841495919\n",
      "Root mean squared error on Testing Set 19013.11957513595\n",
      "R2 score on Testing Set:  0.4817311218793705\n"
     ]
    }
   ],
   "source": [
    "rf.fit(X_train,y_train)\n",
    "\n",
    "y_train_predict = rf.predict(X_train)\n",
    "rmse_train = np.sqrt(mean_squared_error(y_train,y_train_predict))\n",
    "r2_train = r2_score(y_train,y_train_predict)\n",
    "\n",
    "y_pred = rf.predict(X_test)\n",
    "rmse = np.sqrt(mean_squared_error(y_test,y_pred))\n",
    "r2 = r2_score(y_test,y_pred)\n",
    "\n",
    "print('Root mean squared error on Training Set', rmse_train)\n",
    "print('R2 score on Training Set: ', r2_train)\n",
    "\n",
    "print('Root mean squared error on Testing Set', rmse)\n",
    "print('R2 score on Testing Set: ', r2)"
   ]
  },
  {
   "cell_type": "markdown",
   "metadata": {
    "colab": {},
    "colab_type": "code",
    "id": "b8jFlgU7hYeJ"
   },
   "source": [
    "### Random Hyperparameter Grid"
   ]
  },
  {
   "cell_type": "code",
   "execution_count": 96,
   "metadata": {
    "colab": {
     "base_uri": "https://localhost:8080/",
     "height": 54
    },
    "colab_type": "code",
    "collapsed": false,
    "id": "hT7NOwWehYeO",
    "outputId": "ec3f7a8f-baab-452a-f67f-f098fb4c3f01"
   },
   "outputs": [
    {
     "name": "stdout",
     "output_type": "stream",
     "text": [
      "{'n_estimators': [100, 200, 300], 'max_features': ['auto', 'sqrt'], 'max_depth': [20, 30, 40], 'min_samples_split': [100, 200], 'min_samples_leaf': [20, 30], 'bootstrap': [True, False]}\n"
     ]
    }
   ],
   "source": [
    "from sklearn.model_selection import RandomizedSearchCV\n",
    "\n",
    "# Number of trees in random forest\n",
    "n_estimators = [int(x) for x in np.linspace(start = 100, stop = 300, num = 3)]\n",
    "\n",
    "# Number of features to consider at every split\n",
    "max_features = ['auto', 'sqrt']\n",
    "\n",
    "# Maximum number of levels in tree\n",
    "max_depth = [20,30,40]\n",
    "\n",
    "# Minimum number of samples required to split a node\n",
    "min_samples_split = [100, 200]\n",
    "\n",
    "# Minimum number of samples required at each leaf node\n",
    "min_samples_leaf = [20,30]\n",
    "\n",
    "# Method of selecting samples for training each tree\n",
    "bootstrap = [True, False]\n",
    "\n",
    "# Create the random grid\n",
    "random_grid = {'n_estimators': n_estimators,\n",
    "               'max_features': max_features,\n",
    "               'max_depth': max_depth,\n",
    "               'min_samples_split': min_samples_split,\n",
    "               'min_samples_leaf': min_samples_leaf,\n",
    "               'bootstrap': bootstrap}\n",
    "print(random_grid)"
   ]
  },
  {
   "cell_type": "code",
   "execution_count": 97,
   "metadata": {
    "colab": {
     "base_uri": "https://localhost:8080/",
     "height": 50
    },
    "colab_type": "code",
    "collapsed": false,
    "id": "XAr-BFRzhYeQ",
    "outputId": "ef38514c-b296-4ac5-e2ad-de93264939c2"
   },
   "outputs": [
    {
     "name": "stdout",
     "output_type": "stream",
     "text": [
      "Start of Randomized Search CV  2019-04-21 19:03:58.616239\n",
      "End of Randomized Search CV  2019-04-21 19:17:25.019528\n"
     ]
    }
   ],
   "source": [
    "# Random search of parameters, using 3 fold cross validation, \n",
    "# search across 100 different combinations, and use all available cores\n",
    "\n",
    "'''\n",
    "The most important arguments in RandomizedSearchCV are n_iter, which controls the number of different combinations to try, \n",
    "and cv which is the number of folds to use for cross validation (we use 10 and 3 respectively). \n",
    "More iterations will cover a wider search space and more cv folds reduces the chances of overfitting, \n",
    "but raising each will increase the run time. Machine learning is a field of trade-offs, and performance vs time is \n",
    "one of the most fundamental. '''\n",
    "import datetime\n",
    "\n",
    "print(\"Start of Randomized Search CV \",datetime.datetime.now())\n",
    "rf_random = RandomizedSearchCV(estimator=rf,param_distributions=random_grid,n_iter=5,random_state=0,n_jobs=-1,cv=3)\n",
    "\n",
    "# Fit the random search model\n",
    "rf_random.fit(X_train, y_train)\n",
    "print(\"End of Randomized Search CV \",datetime.datetime.now())"
   ]
  },
  {
   "cell_type": "code",
   "execution_count": 98,
   "metadata": {
    "colab": {
     "base_uri": "https://localhost:8080/",
     "height": 118
    },
    "colab_type": "code",
    "collapsed": false,
    "id": "OMZePGWbhYeT",
    "outputId": "35ceb2e7-ad51-4764-d47d-30ba24822fa0"
   },
   "outputs": [
    {
     "data": {
      "text/plain": [
       "{'bootstrap': False,\n",
       " 'max_depth': 30,\n",
       " 'max_features': 'sqrt',\n",
       " 'min_samples_leaf': 20,\n",
       " 'min_samples_split': 100,\n",
       " 'n_estimators': 300}"
      ]
     },
     "execution_count": 98,
     "metadata": {
      "tags": []
     },
     "output_type": "execute_result"
    }
   ],
   "source": [
    "rf_random.best_params_"
   ]
  },
  {
   "cell_type": "code",
   "execution_count": 112,
   "metadata": {
    "colab": {
     "base_uri": "https://localhost:8080/",
     "height": 84
    },
    "colab_type": "code",
    "collapsed": false,
    "id": "1amfEDJ9hYeU",
    "outputId": "572a4e42-4345-4089-ca8b-5d4c94682cc3"
   },
   "outputs": [
    {
     "name": "stdout",
     "output_type": "stream",
     "text": [
      "Root mean squared error on Training Set 16559.237979610418\n",
      "R2 score on Training Set:  0.6015139303816108\n",
      "Root mean squared error on Testing Set 17473.86620334873\n",
      "R2 score on Testing Set:  0.5622497695752668\n"
     ]
    }
   ],
   "source": [
    "rf = RandomForestRegressor(random_state = 7,bootstrap=False,max_depth=45,max_features='sqrt',min_samples_leaf=10,min_samples_split=30,n_estimators=500)\n",
    "rf.fit(X_train,y_train)\n",
    "\n",
    "y_train_predict = rf.predict(X_train)\n",
    "rmse_train = np.sqrt(mean_squared_error(y_train,y_train_predict))\n",
    "r2_train = r2_score(y_train,y_train_predict)\n",
    "\n",
    "y_pred = rf.predict(X_test)\n",
    "rmse = np.sqrt(mean_squared_error(y_test,y_pred))\n",
    "r2 = r2_score(y_test,y_pred)\n",
    "\n",
    "print('Root mean squared error on Training Set', rmse_train)\n",
    "print('R2 score on Training Set: ', r2_train)\n",
    "\n",
    "print('Root mean squared error on Testing Set', rmse)\n",
    "print('R2 score on Testing Set: ', r2)"
   ]
  },
  {
   "cell_type": "markdown",
   "metadata": {
    "colab": {},
    "colab_type": "code",
    "id": "EwEGbK-ihYeY"
   },
   "source": [
    "## Gradient Boosting Regressor"
   ]
  },
  {
   "cell_type": "code",
   "execution_count": 54,
   "metadata": {
    "colab": {
     "base_uri": "https://localhost:8080/",
     "height": 229
    },
    "colab_type": "code",
    "collapsed": false,
    "id": "iHibkgU3hYea",
    "outputId": "66fad586-9b1d-4121-83bb-3ca2256de9e6"
   },
   "outputs": [
    {
     "name": "stdout",
     "output_type": "stream",
     "text": [
      "Root mean squared error on Testing Set 17529.57759018692\n",
      "R2 score on Testing Set:  0.5594539887936054\n"
     ]
    }
   ],
   "source": [
    "from sklearn.ensemble import GradientBoostingRegressor\n",
    "gbrt=GradientBoostingRegressor(n_estimators=200)\n",
    "gbrt.fit(X_train, y_train)\n",
    "y_pred=gbrt.predict(X_test)\n",
    "\n",
    "rmse = np.sqrt(mean_squared_error(y_test,y_pred))\n",
    "r2 = r2_score(y_test,y_pred)\n",
    "\n",
    "print('Root mean squared error on Testing Set', rmse)\n",
    "print('R2 score on Testing Set: ', r2)"
   ]
  },
  {
   "cell_type": "code",
   "execution_count": 0,
   "metadata": {
    "colab": {},
    "colab_type": "code",
    "collapsed": true,
    "id": "CMEmMsyPhYef"
   },
   "outputs": [],
   "source": []
  },
  {
   "cell_type": "markdown",
   "metadata": {
    "colab": {},
    "colab_type": "code",
    "id": "4661YbIlhYej"
   },
   "source": [
    "# Conclusion"
   ]
  },
  {
   "cell_type": "markdown",
   "metadata": {
    "colab": {},
    "colab_type": "code",
    "id": "2t1oC-QyhYif"
   },
   "source": [
    "* We can see none of the regression techniques performed well because the data has mostly categorical features and hence is not suitable for a regression problem\n",
    "* Also, there are other files associated with this data set which we dont have resulting in missing features"
   ]
  }
 ],
 "metadata": {
  "accelerator": "TPU",
  "colab": {
   "collapsed_sections": [
    "2KKFb8-ihYOG",
    "JAwqKKaihYON",
    "7YHC8H8ihYOS",
    "oBNvVOKThYQG",
    "DrnmH9QThYQP",
    "6V759uRLhYR1"
   ],
   "name": "Texas_DataCleaning_ModelBuilding_Prachi.ipynb",
   "provenance": [],
   "version": "0.3.2"
  },
  "kernelspec": {
   "display_name": "Python [default]",
   "language": "python",
   "name": "python3"
  },
  "language_info": {
   "codemirror_mode": {
    "name": "ipython",
    "version": 3
   },
   "file_extension": ".py",
   "mimetype": "text/x-python",
   "name": "python",
   "nbconvert_exporter": "python",
   "pygments_lexer": "ipython3",
   "version": "3.5.2"
  }
 },
 "nbformat": 4,
 "nbformat_minor": 0
}
